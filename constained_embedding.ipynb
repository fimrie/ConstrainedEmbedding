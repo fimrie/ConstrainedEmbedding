{
 "cells": [
  {
   "cell_type": "markdown",
   "metadata": {},
   "source": [
    "# Constrained Embedding\n",
    "\n",
    "My recent work has explored deep generative models where the goal is to design a compound that is highly similar (in a 3D sense) to either the molecule you started with or two fragments.\n",
    "\n",
    "We have assessed 3D similarity by generating conformers of the generated molecules, and comparing them to a conformation of the original molecule/fragments via several metrics. This approach has both the advantage AND the disadvantage of the generated conformers being independent of the target conformer.\n",
    "\n",
    "I recently learnt about the RDKit function `AllChem.ConstrainedEmbed()`, which generates conformations where the positions of a set of atoms are constrained to match the coordinates of a template molecule.\n",
    "\n",
    "Greg has two blog posts about the function ([here](http://rdkit.blogspot.com/2013/12/using-allchemconstrainedembed.html) and [here](http://rdkit.blogspot.com/2019/01/more-on-constrained-embedding.html)) but I wanted to explore this in a little more detail and assess how realistic these conformers were and if it could be useful in assessing 3D similarity."
   ]
  },
  {
   "cell_type": "markdown",
   "metadata": {},
   "source": [
    "### Requirements\n",
    "\n",
    "The majority of this notebook uses rdkit and numpy only. At the end we will use py3Dmol to visualise some of the conformers. If you want to install this then skip this part/just look at our pretty pictures."
   ]
  },
  {
   "cell_type": "code",
   "execution_count": 1,
   "metadata": {},
   "outputs": [],
   "source": [
    "import numpy as np"
   ]
  },
  {
   "cell_type": "code",
   "execution_count": 2,
   "metadata": {},
   "outputs": [
    {
     "name": "stdout",
     "output_type": "stream",
     "text": [
      "2018.09.1\n"
     ]
    }
   ],
   "source": [
    "from rdkit import Chem\n",
    "from rdkit.Chem import AllChem\n",
    "from rdkit.Chem import Draw, rdMolAlign\n",
    "from rdkit.Chem.Draw import IPythonConsole\n",
    "from rdkit import rdBase\n",
    "print(rdBase.rdkitVersion)\n",
    "\n",
    "from utils import *"
   ]
  },
  {
   "cell_type": "markdown",
   "metadata": {},
   "source": [
    "We're going to work with an example of fragment linking<sup>1</sup>, extracted from the PDB. To keep it simple, we'll use only the PBD structure of the linked fragments [PDB ID 3IVX](https://www.rcsb.org/structure/3IVX) and assume the binding mode of the fragments is identical.\n",
    "\n",
    "[1. Hung et al., Application of Fragment Growing and Fragment Linking to the Discovery of Inhibitors of Mycobacterium tuberculosis Pantothenate Synthetase. Angew. Chem., Int. Ed. 2009, 48, 8452–8456.](https://onlinelibrary.wiley.com/doi/full/10.1002/anie.200903821)"
   ]
  },
  {
   "cell_type": "code",
   "execution_count": 3,
   "metadata": {},
   "outputs": [
    {
     "data": {
      "image/png": "[encoded data removed]",
      "text/plain": [
       "<PIL.PngImagePlugin.PngImageFile image mode=RGB size=800x200 at 0x7F491E808F98>"
      ]
     },
     "execution_count": 3,
     "metadata": {},
     "output_type": "execute_result"
    }
   ],
   "source": [
    "hung_frags = \"COc1ccc2c(c1)cc([*:1])n2CC(=O)O.c1ccc2oc([*:2])cc2c1\"\n",
    "hung_3IVX = [x for x in Chem.SDMolSupplier(\"./3IVX_pdb_ligands.sdf\")][0]\n",
    "hung_3IVX_2d = Chem.Mol(hung_3IVX)\n",
    "_ = AllChem.Compute2DCoords(hung_3IVX_2d)\n",
    "\n",
    "hung_3IVX_noinfo = Chem.MolToSmiles(hung_3IVX)\n",
    "\n",
    "to_display = [Chem.MolFromSmiles(hung_frags), hung_3IVX_2d]\n",
    "\n",
    "Draw.MolsToGridImage(to_display,molsPerRow=4)"
   ]
  },
  {
   "cell_type": "markdown",
   "metadata": {},
   "source": [
    "Now let's get the 3D coordinates of the fragments, as these are what we want to compare our conformers of the full molecule to and the atoms we will use for our constrained embedding. We'll use a custom function `get_frags`, that accounts for multiple possible matches of the starting fragments.\n",
    "\n",
    "Once we've done this, let's check the alignment."
   ]
  },
  {
   "cell_type": "code",
   "execution_count": 4,
   "metadata": {},
   "outputs": [
    {
     "name": "stderr",
     "output_type": "stream",
     "text": [
      "RDKit WARNING: [16:31:21] WARNING: not removing hydrogen atom without neighbors\n"
     ]
    }
   ],
   "source": [
    "du = Chem.MolFromSmiles('*')\n",
    "clean_frag = Chem.RemoveHs(AllChem.ReplaceSubstructs(Chem.MolFromSmiles(hung_frags),du,Chem.MolFromSmiles('[H]'),True)[0])\n",
    "frags_3d = get_frags(hung_3IVX, clean_frag)"
   ]
  },
  {
   "cell_type": "code",
   "execution_count": 5,
   "metadata": {},
   "outputs": [
    {
     "name": "stdout",
     "output_type": "stream",
     "text": [
      "RMS: 0.000\n"
     ]
    },
    {
     "data": {
      "text/plain": [
       "rdkit.Chem.rdmolops.SanitizeFlags.SANITIZE_NONE"
      ]
     },
     "execution_count": 5,
     "metadata": {},
     "output_type": "execute_result"
    }
   ],
   "source": [
    "rms = AllChem.AlignMol(frags_3d,hung_3IVX)\n",
    "print(\"RMS: %.3f\" % rms)\n",
    "Chem.SanitizeMol(frags_3d)\n",
    "Chem.SanitizeMol(hung_3IVX)"
   ]
  },
  {
   "cell_type": "markdown",
   "metadata": {},
   "source": [
    "### Unconstrained conformer generation\n",
    "\n",
    "Let's see how good conformer generation is when we impose no additional constraints on the embedding.\n",
    "\n",
    "The molecule has seven rotatable bonds, so 50 conformers should be enough to sample the conformational space effectively<sup>1</sup>.\n",
    "\n",
    "In these examples, we use RDKit's default embedding algorithm and UFF as our force field.\n",
    "    \n",
    "[1. Ebejer et al., Freely Available Conformer Generation Methods: How Good Are They? J. Chem. Inf. Model. 2012, 52, 1146–1158.](https://pubs.acs.org/doi/abs/10.1021/ci2004658)"
   ]
  },
  {
   "cell_type": "code",
   "execution_count": 6,
   "metadata": {},
   "outputs": [],
   "source": [
    "num_confs = 50 # How many conformers should each method generate."
   ]
  },
  {
   "cell_type": "code",
   "execution_count": 7,
   "metadata": {},
   "outputs": [
    {
     "name": "stdout",
     "output_type": "stream",
     "text": [
      "RMS Full Mol\t- Mean: 1.98,\tMin: 1.07,\tMax: 3.00\n",
      "RMS Fragments\t- Mean: 1.73,\tMin: 0.89,\tMax: 2.64\n",
      "Energy\t\t- Mean: 119.2,\tMin: 117.9,\tMax: 123.2\n"
     ]
    }
   ],
   "source": [
    "rms_full_list = []\n",
    "rms_frags_list = []\n",
    "cenergy_list = []\n",
    "\n",
    "np.random.seed(seed=42)\n",
    "for seed in [int(x) for x in np.random.randint(1,100001, num_confs)]:\n",
    "    # Generate conformer\n",
    "    nm = Chem.MolFromSmiles(hung_3IVX_noinfo)\n",
    "    nm = Chem.AddHs(nm)\n",
    "    AllChem.EmbedMolecule(nm,randomSeed=seed)\n",
    "    AllChem.UFFOptimizeMolecule(nm)\n",
    "    cenergy = AllChem.UFFGetMoleculeForceField(nm).CalcEnergy()\n",
    "    nm = Chem.RemoveHs(nm)\n",
    "    \n",
    "    # Analyse conformer\n",
    "    rms_full = AllChem.AlignMol(nm, hung_3IVX) # Consider using AllChem.GetBestRMS(nm, hung_3IVX)\n",
    "    match = nm.GetSubstructMatch(frags_3d)\n",
    "    if not match:\n",
    "        raise ValueError(\"molecule doesn't match the core\")\n",
    "    algMap = [(j, i) for i, j in enumerate(match)]\n",
    "    rms_frags = AllChem.AlignMol(nm, frags_3d, atomMap=algMap)\n",
    "    \n",
    "    rms_full_list.append(rms_full)\n",
    "    rms_frags_list.append(rms_frags)\n",
    "    cenergy_list.append(cenergy)\n",
    "    \n",
    "    # Record best\n",
    "    if rms_full == min(rms_full_list):\n",
    "        best_unconstrained = Chem.Mol(nm)\n",
    "        best_unconstrained.SetProp(\"Energy\", \"%.1f\" % cenergy)\n",
    "    \n",
    "print(\"RMS Full Mol\\t- Mean: %.2f,\\tMin: %.2f,\\tMax: %.2f\" % (np.mean(rms_full_list), min(rms_full_list), max(rms_full_list)))\n",
    "print(\"RMS Fragments\\t- Mean: %.2f,\\tMin: %.2f,\\tMax: %.2f\" % (np.mean(rms_frags_list), min(rms_frags_list), max(rms_frags_list)))\n",
    "print(\"Energy\\t\\t- Mean: %.1f,\\tMin: %.1f,\\tMax: %.1f\" % (np.mean(cenergy_list), min(cenergy_list), max(cenergy_list)))"
   ]
  },
  {
   "cell_type": "markdown",
   "metadata": {},
   "source": [
    "A best RMSD of 1.07 Angstroms suggests some ability to sample conformers, but is still a fair way from optimal."
   ]
  },
  {
   "cell_type": "markdown",
   "metadata": {},
   "source": [
    "### Constrained Embedding\n",
    "\n",
    "Will a constrained embedding help us? Let's use the coordinates of the fragments to constrain the embedding of the molecule. "
   ]
  },
  {
   "cell_type": "code",
   "execution_count": 8,
   "metadata": {},
   "outputs": [
    {
     "name": "stdout",
     "output_type": "stream",
     "text": [
      "RMS Full Mol\t- Mean: 0.60,\tMin: 0.17,\tMax: 0.84\n",
      "RMS Fragments\t- Mean: 0.09,\tMin: 0.08,\tMax: 0.09\n",
      "Energy\t\t- Mean: 139.8,\tMin: 133.6,\tMax: 147.1\n"
     ]
    }
   ],
   "source": [
    "rms_full_list = []\n",
    "rms_frags_list = []\n",
    "cenergy_list = []\n",
    "\n",
    "np.random.seed(seed=42)\n",
    "for seed in [int(x) for x in np.random.randint(1,100001, num_confs)]:\n",
    "    # Generate conformer\n",
    "    nm = Chem.MolFromSmiles(hung_3IVX_noinfo)\n",
    "    nm = Chem.AddHs(nm)\n",
    "    AllChem.ConstrainedEmbed(nm,frags_3d,randomseed=seed)\n",
    "    cenergy = AllChem.UFFGetMoleculeForceField(nm).CalcEnergy()\n",
    "    nm = Chem.RemoveHs(nm)\n",
    "    \n",
    "    # Analyse conformer\n",
    "    rms_full = AllChem.AlignMol(nm, hung_3IVX)\n",
    "    match = nm.GetSubstructMatch(frags_3d)\n",
    "    if not match:\n",
    "        raise ValueError(\"molecule doesn't match the core\")\n",
    "    algMap = [(j, i) for i, j in enumerate(match)]\n",
    "    rms_frags = AllChem.AlignMol(nm, frags_3d, atomMap=algMap) # Note we could access this directly with rms_frags = float(nm.GetProp('EmbedRMS'))\n",
    "    \n",
    "    rms_full_list.append(rms_full)\n",
    "    rms_frags_list.append(rms_frags)\n",
    "    cenergy_list.append(cenergy)\n",
    "    \n",
    "    # Record best\n",
    "    if rms_full == min(rms_full_list):\n",
    "        best_constrained = Chem.Mol(nm)\n",
    "        best_constrained.SetProp(\"Energy\", \"%.1f\" % cenergy)\n",
    "    \n",
    "print(\"RMS Full Mol\\t- Mean: %.2f,\\tMin: %.2f,\\tMax: %.2f\" % (np.mean(rms_full_list), min(rms_full_list), max(rms_full_list)))\n",
    "print(\"RMS Fragments\\t- Mean: %.2f,\\tMin: %.2f,\\tMax: %.2f\" % (np.mean(rms_frags_list), min(rms_frags_list), max(rms_frags_list)))\n",
    "print(\"Energy\\t\\t- Mean: %.1f,\\tMin: %.1f,\\tMax: %.1f\" % (np.mean(cenergy_list), min(cenergy_list), max(cenergy_list)))"
   ]
  },
  {
   "cell_type": "markdown",
   "metadata": {},
   "source": [
    "These conformers are MUCH better, with the worst conformer more similar than the best unconstrained conformer, and the conformations of the fragments being almost identical to the reference molecule as a result of the additional constraints.\n",
    "\n",
    "However, note that the average energy has increased, suggesting some conformational strain. We would ideally like the conformers generated to be no more strained than in the unconstrained case, so let's try adding an additional minimisation step after performing the constrained embedding."
   ]
  },
  {
   "cell_type": "code",
   "execution_count": 9,
   "metadata": {},
   "outputs": [
    {
     "name": "stdout",
     "output_type": "stream",
     "text": [
      "RMS Full Mol\t- Mean: 1.15,\tMin: 0.88,\tMax: 1.89\n",
      "RMS Fragments\t- Mean: 0.89,\tMin: 0.72,\tMax: 1.63\n",
      "Energy\t\t- Mean: 119.2,\tMin: 118.2,\tMax: 123.7\n"
     ]
    }
   ],
   "source": [
    "rms_full_list = []\n",
    "rms_frags_list = []\n",
    "cenergy_list = []\n",
    "\n",
    "np.random.seed(seed=42)\n",
    "for seed in [int(x) for x in np.random.randint(1,100001, num_confs)]:\n",
    "    # Generate conformer\n",
    "    nm = Chem.MolFromSmiles(hung_3IVX_noinfo)\n",
    "    nm = Chem.AddHs(nm)\n",
    "    AllChem.ConstrainedEmbed(nm,frags_3d,randomseed=seed)\n",
    "    AllChem.UFFOptimizeMolecule(nm)\n",
    "    cenergy = AllChem.UFFGetMoleculeForceField(nm).CalcEnergy()\n",
    "    nm = Chem.RemoveHs(nm)\n",
    "    \n",
    "    # Analyse conformer\n",
    "    rms_full = AllChem.AlignMol(nm, hung_3IVX)\n",
    "    match = nm.GetSubstructMatch(frags_3d)\n",
    "    if not match:\n",
    "        raise ValueError(\"molecule doesn't match the core\")\n",
    "    algMap = [(j, i) for i, j in enumerate(match)]\n",
    "    rms_frags = AllChem.AlignMol(nm, frags_3d, atomMap=algMap)\n",
    "    \n",
    "    rms_full_list.append(rms_full)\n",
    "    rms_frags_list.append(rms_frags)\n",
    "    cenergy_list.append(cenergy)\n",
    "    \n",
    "    # Record best\n",
    "    if rms_full == min(rms_full_list):\n",
    "        best_constrainedopt = Chem.Mol(nm)\n",
    "        best_constrainedopt.SetProp(\"Energy\", \"%.1f\" % cenergy)\n",
    "    \n",
    "print(\"RMS Full Mol\\t- Mean: %.2f,\\tMin: %.2f,\\tMax: %.2f\" % (np.mean(rms_full_list), min(rms_full_list), max(rms_full_list)))\n",
    "print(\"RMS Fragments\\t- Mean: %.2f,\\tMin: %.2f,\\tMax: %.2f\" % (np.mean(rms_frags_list), min(rms_frags_list), max(rms_frags_list)))\n",
    "print(\"Energy\\t\\t- Mean: %.1f,\\tMin: %.1f,\\tMax: %.1f\" % (np.mean(cenergy_list), min(cenergy_list), max(cenergy_list)))"
   ]
  },
  {
   "cell_type": "markdown",
   "metadata": {},
   "source": [
    "The RMSDs have naturally gotten worse, in particular the fragments, but the average RMSD is almost 1 Angstom lower than in the unconstrained case and crucially the average energy of the conformations now match the uncontrained generation.\n",
    "\n",
    "This suggests this is a valid way to bias the search of conformational space to the space that we're interested in, but if we add an additional minimisation step, will not produce strained conformers."
   ]
  },
  {
   "cell_type": "markdown",
   "metadata": {},
   "source": [
    "### Visualising\n",
    "\n",
    "If you have [py3dmol](https://pypi.org/project/py3Dmol/), let's take a look at the conformers themselves."
   ]
  },
  {
   "cell_type": "code",
   "execution_count": 10,
   "metadata": {},
   "outputs": [],
   "source": [
    "import py3Dmol"
   ]
  },
  {
   "cell_type": "code",
   "execution_count": 11,
   "metadata": {},
   "outputs": [],
   "source": [
    "def drawit(ms, p=None, confId=-1):\n",
    "        if p is None:\n",
    "            p = py3Dmol.view(width=400, height=300)\n",
    "        p.removeAllModels()\n",
    "        for m in ms:\n",
    "            mb = Chem.MolToMolBlock(m, confId=confId)\n",
    "            p.addModel(mb, 'sdf')\n",
    "        p.setStyle({'stick':{}})\n",
    "        p.setBackgroundColor('0xeeeeee')\n",
    "        p.zoomTo()\n",
    "        return p.show()"
   ]
  },
  {
   "cell_type": "markdown",
   "metadata": {},
   "source": [
    "This is the active conformation extracted from the PDB, together with the energy of the conformer under the UFF force field."
   ]
  },
  {
   "cell_type": "code",
   "execution_count": 12,
   "metadata": {},
   "outputs": [
    {
     "name": "stdout",
     "output_type": "stream",
     "text": [
      "Energy: 206.9\n"
     ]
    },
    {
     "data": {
      "application/3dmoljs_load.v0": "<div id=\"3dmolviewer_15613902974469137\"  style=\"position: relative; width: 400px; height: 300px\">\n        <p id=\"3dmolwarning_15613902974469137\" style=\"background-color:#ffcccc;color:black\">You appear to be running in JupyterLab (or JavaScript failed to load for some other reason).  You need to install the 3dmol extension: <br>\n        <tt>jupyter labextension install jupyterlab_3dmol</tt></p>\n        </div>\n<script>\n\nvar loadScriptAsync = function(uri){\n  return new Promise((resolve, reject) => {\n    var tag = document.createElement('script');\n    tag.src = uri;\n    tag.async = true;\n    tag.onload = () => {\n      resolve();\n    };\n  var firstScriptTag = document.getElementsByTagName('script')[0];\n  firstScriptTag.parentNode.insertBefore(tag, firstScriptTag);\n});\n};\n\nif(typeof $3Dmolpromise === 'undefined') {\n$3Dmolpromise = null;\n  $3Dmolpromise = loadScriptAsync('https://3dmol.csb.pitt.edu/build/3Dmol.js');\n}\n\nvar viewer_15613902974469137 = null;\nvar warn = document.getElementById(\"3dmolwarning_15613902974469137\");\nif(warn) {\n    warn.parentNode.removeChild(warn);\n}\n$3Dmolpromise.then(function() {\nviewer_15613902974469137 = $3Dmol.createViewer($(\"#3dmolviewer_15613902974469137\"),{backgroundColor:\"white\"});\n\tviewer_15613902974469137.removeAllModels();\n\tviewer_15613902974469137.addModel(\"3IVX_FG6_A_302\\n     RDKit          3D\\n\\n 30 33  0  0  0  0  0  0  0  0999 V2000\\n   18.6710   11.0570   -0.9580 C   0  0  0  0  0  0  0  0  0  0  0  0\\n   16.1740   10.3380   -1.3780 N   0  0  0  0  0  0  0  0  0  0  0  0\\n   18.3150   12.1710   -0.5580 O   0  0  0  0  0  0  0  0  0  0  0  0\\n   17.6490   10.1280   -1.5980 C   0  0  0  0  0  0  0  0  0  0  0  0\\n   11.0750    9.7570   -5.0100 C   0  0  0  0  0  0  0  0  0  0  0  0\\n   17.0190   10.3670    1.2910 O   0  0  0  0  0  0  0  0  0  0  0  0\\n   15.1490   13.0720    3.7420 O   0  0  0  0  0  0  0  0  0  0  0  0\\n   17.0670   11.6710    3.5830 O   0  0  0  0  0  0  0  0  0  0  0  0\\n   13.2690    8.7830    8.1850 C   0  0  0  0  0  0  0  0  0  0  0  0\\n   12.9810    7.7440    7.3010 C   0  0  0  0  0  0  0  0  0  0  0  0\\n   14.7120    9.8780   -4.7050 C   0  0  0  0  0  0  0  0  0  0  0  0\\n   13.8850    9.9210    7.6900 C   0  0  0  0  0  0  0  0  0  0  0  0\\n   13.3160    7.8940    5.9520 C   0  0  0  0  0  0  0  0  0  0  0  0\\n   15.7120    9.9650   -3.7420 C   0  0  0  0  0  0  0  0  0  0  0  0\\n   13.1110   10.3400   -2.9690 C   0  0  0  0  0  0  0  0  0  0  0  0\\n   14.7670   10.9740    5.7220 C   0  0  0  0  0  0  0  0  0  0  0  0\\n   14.1290   10.6380   -0.7250 C   0  0  0  0  0  0  0  0  0  0  0  0\\n   15.0740   11.3750    1.8160 N   0  0  0  0  0  0  0  0  0  0  0  0\\n   12.4620    9.9520   -5.3340 O   0  0  0  0  0  0  0  0  0  0  0  0\\n   14.3660    9.4720    4.2000 O   0  0  0  0  0  0  0  0  0  0  0  0\\n   15.8920   10.7650    0.9530 C   0  0  0  0  0  0  0  0  0  0  0  0\\n   13.3910   10.0610   -4.3290 C   0  0  0  0  0  0  0  0  0  0  0  0\\n   14.8640   10.6520    4.4470 C   0  0  0  0  0  0  0  0  0  0  0  0\\n   15.4110   10.5900   -0.3130 C   0  0  0  0  0  0  0  0  0  0  0  0\\n   14.1880    9.9990    6.3980 C   0  0  0  0  0  0  0  0  0  0  0  0\\n   14.1080   10.4150   -2.0560 C   0  0  0  0  0  0  0  0  0  0  0  0\\n   13.9070    9.0160    5.5280 C   0  0  0  0  0  0  0  0  0  0  0  0\\n   15.3880   10.2200   -2.4470 C   0  0  0  0  0  0  0  0  0  0  0  0\\n   15.5540   11.6840    3.4010 S   0  0  0  0  0  0  0  0  0  0  0  0\\n   19.8340   10.6020   -0.9190 O   0  0  0  0  0  0  0  0  0  0  0  0\\n  4  1  1  0\\n  1 30  2  0\\n  1  3  1  0\\n 28  2  1  0\\n  4  2  1  0\\n  2 24  1  0\\n 19  5  1  0\\n 21  6  2  0\\n 29  7  2  0\\n 29  8  2  0\\n 10  9  2  0\\n 12  9  1  0\\n 13 10  1  0\\n 11 22  2  0\\n 11 14  1  0\\n 25 12  2  0\\n 27 13  2  0\\n 14 28  2  0\\n 22 15  1  0\\n 15 26  2  0\\n 23 16  2  0\\n 16 25  1  0\\n 26 17  1  0\\n 17 24  2  0\\n 21 18  1  0\\n 18 29  1  0\\n 19 22  1  0\\n 20 23  1  0\\n 20 27  1  0\\n 24 21  1  0\\n 29 23  1  0\\n 27 25  1  0\\n 28 26  1  0\\nA    1\\nC\\nA    2\\nN\\nA    3\\nO\\nA    4\\nCA\\nA    5\\nCAA\\nA    6\\nOAC\\nA    7\\nOAD\\nA    8\\nOAE\\nA    9\\nCAG\\nA   10\\nCAH\\nA   11\\nCAI\\nA   12\\nCAJ\\nA   13\\nCAK\\nA   14\\nCAL\\nA   15\\nCAM\\nA   16\\nCAN\\nA   17\\nCAO\\nA   18\\nNAQ\\nA   19\\nOAR\\nA   20\\nOAS\\nA   21\\nCAU\\nA   22\\nCAV\\nA   23\\nCAW\\nA   24\\nCAX\\nA   25\\nCAY\\nA   26\\nCAZ\\nA   27\\nCBA\\nA   28\\nCBB\\nA   29\\nSBD\\nA   30\\nOXT\\nM  END\\n\",\"sdf\");\n\tviewer_15613902974469137.setStyle({\"stick\": {}});\n\tviewer_15613902974469137.setBackgroundColor(\"0xeeeeee\");\n\tviewer_15613902974469137.zoomTo();\nviewer_15613902974469137.render();\n});\n</script>",
      "text/html": [
       "<div id=\"3dmolviewer_15613902974469137\"  style=\"position: relative; width: 400px; height: 300px\">\n",
       "        <p id=\"3dmolwarning_15613902974469137\" style=\"background-color:#ffcccc;color:black\">You appear to be running in JupyterLab (or JavaScript failed to load for some other reason).  You need to install the 3dmol extension: <br>\n",
       "        <tt>jupyter labextension install jupyterlab_3dmol</tt></p>\n",
       "        </div>\n",
       "<script>\n",
       "\n",
       "var loadScriptAsync = function(uri){\n",
       "  return new Promise((resolve, reject) => {\n",
       "    var tag = document.createElement('script');\n",
       "    tag.src = uri;\n",
       "    tag.async = true;\n",
       "    tag.onload = () => {\n",
       "      resolve();\n",
       "    };\n",
       "  var firstScriptTag = document.getElementsByTagName('script')[0];\n",
       "  firstScriptTag.parentNode.insertBefore(tag, firstScriptTag);\n",
       "});\n",
       "};\n",
       "\n",
       "if(typeof $3Dmolpromise === 'undefined') {\n",
       "$3Dmolpromise = null;\n",
       "  $3Dmolpromise = loadScriptAsync('https://3dmol.csb.pitt.edu/build/3Dmol.js');\n",
       "}\n",
       "\n",
       "var viewer_15613902974469137 = null;\n",
       "var warn = document.getElementById(\"3dmolwarning_15613902974469137\");\n",
       "if(warn) {\n",
       "    warn.parentNode.removeChild(warn);\n",
       "}\n",
       "$3Dmolpromise.then(function() {\n",
       "viewer_15613902974469137 = $3Dmol.createViewer($(\"#3dmolviewer_15613902974469137\"),{backgroundColor:\"white\"});\n",
       "\tviewer_15613902974469137.removeAllModels();\n",
       "\tviewer_15613902974469137.addModel(\"3IVX_FG6_A_302\\n     RDKit          3D\\n\\n 30 33  0  0  0  0  0  0  0  0999 V2000\\n   18.6710   11.0570   -0.9580 C   0  0  0  0  0  0  0  0  0  0  0  0\\n   16.1740   10.3380   -1.3780 N   0  0  0  0  0  0  0  0  0  0  0  0\\n   18.3150   12.1710   -0.5580 O   0  0  0  0  0  0  0  0  0  0  0  0\\n   17.6490   10.1280   -1.5980 C   0  0  0  0  0  0  0  0  0  0  0  0\\n   11.0750    9.7570   -5.0100 C   0  0  0  0  0  0  0  0  0  0  0  0\\n   17.0190   10.3670    1.2910 O   0  0  0  0  0  0  0  0  0  0  0  0\\n   15.1490   13.0720    3.7420 O   0  0  0  0  0  0  0  0  0  0  0  0\\n   17.0670   11.6710    3.5830 O   0  0  0  0  0  0  0  0  0  0  0  0\\n   13.2690    8.7830    8.1850 C   0  0  0  0  0  0  0  0  0  0  0  0\\n   12.9810    7.7440    7.3010 C   0  0  0  0  0  0  0  0  0  0  0  0\\n   14.7120    9.8780   -4.7050 C   0  0  0  0  0  0  0  0  0  0  0  0\\n   13.8850    9.9210    7.6900 C   0  0  0  0  0  0  0  0  0  0  0  0\\n   13.3160    7.8940    5.9520 C   0  0  0  0  0  0  0  0  0  0  0  0\\n   15.7120    9.9650   -3.7420 C   0  0  0  0  0  0  0  0  0  0  0  0\\n   13.1110   10.3400   -2.9690 C   0  0  0  0  0  0  0  0  0  0  0  0\\n   14.7670   10.9740    5.7220 C   0  0  0  0  0  0  0  0  0  0  0  0\\n   14.1290   10.6380   -0.7250 C   0  0  0  0  0  0  0  0  0  0  0  0\\n   15.0740   11.3750    1.8160 N   0  0  0  0  0  0  0  0  0  0  0  0\\n   12.4620    9.9520   -5.3340 O   0  0  0  0  0  0  0  0  0  0  0  0\\n   14.3660    9.4720    4.2000 O   0  0  0  0  0  0  0  0  0  0  0  0\\n   15.8920   10.7650    0.9530 C   0  0  0  0  0  0  0  0  0  0  0  0\\n   13.3910   10.0610   -4.3290 C   0  0  0  0  0  0  0  0  0  0  0  0\\n   14.8640   10.6520    4.4470 C   0  0  0  0  0  0  0  0  0  0  0  0\\n   15.4110   10.5900   -0.3130 C   0  0  0  0  0  0  0  0  0  0  0  0\\n   14.1880    9.9990    6.3980 C   0  0  0  0  0  0  0  0  0  0  0  0\\n   14.1080   10.4150   -2.0560 C   0  0  0  0  0  0  0  0  0  0  0  0\\n   13.9070    9.0160    5.5280 C   0  0  0  0  0  0  0  0  0  0  0  0\\n   15.3880   10.2200   -2.4470 C   0  0  0  0  0  0  0  0  0  0  0  0\\n   15.5540   11.6840    3.4010 S   0  0  0  0  0  0  0  0  0  0  0  0\\n   19.8340   10.6020   -0.9190 O   0  0  0  0  0  0  0  0  0  0  0  0\\n  4  1  1  0\\n  1 30  2  0\\n  1  3  1  0\\n 28  2  1  0\\n  4  2  1  0\\n  2 24  1  0\\n 19  5  1  0\\n 21  6  2  0\\n 29  7  2  0\\n 29  8  2  0\\n 10  9  2  0\\n 12  9  1  0\\n 13 10  1  0\\n 11 22  2  0\\n 11 14  1  0\\n 25 12  2  0\\n 27 13  2  0\\n 14 28  2  0\\n 22 15  1  0\\n 15 26  2  0\\n 23 16  2  0\\n 16 25  1  0\\n 26 17  1  0\\n 17 24  2  0\\n 21 18  1  0\\n 18 29  1  0\\n 19 22  1  0\\n 20 23  1  0\\n 20 27  1  0\\n 24 21  1  0\\n 29 23  1  0\\n 27 25  1  0\\n 28 26  1  0\\nA    1\\nC\\nA    2\\nN\\nA    3\\nO\\nA    4\\nCA\\nA    5\\nCAA\\nA    6\\nOAC\\nA    7\\nOAD\\nA    8\\nOAE\\nA    9\\nCAG\\nA   10\\nCAH\\nA   11\\nCAI\\nA   12\\nCAJ\\nA   13\\nCAK\\nA   14\\nCAL\\nA   15\\nCAM\\nA   16\\nCAN\\nA   17\\nCAO\\nA   18\\nNAQ\\nA   19\\nOAR\\nA   20\\nOAS\\nA   21\\nCAU\\nA   22\\nCAV\\nA   23\\nCAW\\nA   24\\nCAX\\nA   25\\nCAY\\nA   26\\nCAZ\\nA   27\\nCBA\\nA   28\\nCBB\\nA   29\\nSBD\\nA   30\\nOXT\\nM  END\\n\",\"sdf\");\n",
       "\tviewer_15613902974469137.setStyle({\"stick\": {}});\n",
       "\tviewer_15613902974469137.setBackgroundColor(\"0xeeeeee\");\n",
       "\tviewer_15613902974469137.zoomTo();\n",
       "viewer_15613902974469137.render();\n",
       "});\n",
       "</script>"
      ]
     },
     "metadata": {},
     "output_type": "display_data"
    }
   ],
   "source": [
    "print(\"Energy: %.1f\" % AllChem.UFFGetMoleculeForceField(hung_3IVX).CalcEnergy())\n",
    "drawit([hung_3IVX])"
   ]
  },
  {
   "cell_type": "markdown",
   "metadata": {},
   "source": [
    "Let's look at the best conformer through the unconstrained conformer generation."
   ]
  },
  {
   "cell_type": "code",
   "execution_count": 13,
   "metadata": {},
   "outputs": [
    {
     "name": "stdout",
     "output_type": "stream",
     "text": [
      "RMS frags: 1.074, Energy: 118.3\n"
     ]
    },
    {
     "data": {
      "application/3dmoljs_load.v0": "<div id=\"3dmolviewer_15613902974568036\"  style=\"position: relative; width: 400px; height: 300px\">\n        <p id=\"3dmolwarning_15613902974568036\" style=\"background-color:#ffcccc;color:black\">You appear to be running in JupyterLab (or JavaScript failed to load for some other reason).  You need to install the 3dmol extension: <br>\n        <tt>jupyter labextension install jupyterlab_3dmol</tt></p>\n        </div>\n<script>\n\nvar loadScriptAsync = function(uri){\n  return new Promise((resolve, reject) => {\n    var tag = document.createElement('script');\n    tag.src = uri;\n    tag.async = true;\n    tag.onload = () => {\n      resolve();\n    };\n  var firstScriptTag = document.getElementsByTagName('script')[0];\n  firstScriptTag.parentNode.insertBefore(tag, firstScriptTag);\n});\n};\n\nif(typeof $3Dmolpromise === 'undefined') {\n$3Dmolpromise = null;\n  $3Dmolpromise = loadScriptAsync('https://3dmol.csb.pitt.edu/build/3Dmol.js');\n}\n\nvar viewer_15613902974568036 = null;\nvar warn = document.getElementById(\"3dmolwarning_15613902974568036\");\nif(warn) {\n    warn.parentNode.removeChild(warn);\n}\n$3Dmolpromise.then(function() {\nviewer_15613902974568036 = $3Dmol.createViewer($(\"#3dmolviewer_15613902974568036\"),{backgroundColor:\"white\"});\n\tviewer_15613902974568036.removeAllModels();\n\tviewer_15613902974568036.addModel(\"3IVX_FG6_A_302\\n     RDKit          3D\\n\\n 30 33  0  0  0  0  0  0  0  0999 V2000\\n   18.6710   11.0570   -0.9580 C   0  0  0  0  0  0  0  0  0  0  0  0\\n   16.1740   10.3380   -1.3780 N   0  0  0  0  0  0  0  0  0  0  0  0\\n   18.3150   12.1710   -0.5580 O   0  0  0  0  0  0  0  0  0  0  0  0\\n   17.6490   10.1280   -1.5980 C   0  0  0  0  0  0  0  0  0  0  0  0\\n   11.0750    9.7570   -5.0100 C   0  0  0  0  0  0  0  0  0  0  0  0\\n   17.0190   10.3670    1.2910 O   0  0  0  0  0  0  0  0  0  0  0  0\\n   15.1490   13.0720    3.7420 O   0  0  0  0  0  0  0  0  0  0  0  0\\n   17.0670   11.6710    3.5830 O   0  0  0  0  0  0  0  0  0  0  0  0\\n   13.2690    8.7830    8.1850 C   0  0  0  0  0  0  0  0  0  0  0  0\\n   12.9810    7.7440    7.3010 C   0  0  0  0  0  0  0  0  0  0  0  0\\n   14.7120    9.8780   -4.7050 C   0  0  0  0  0  0  0  0  0  0  0  0\\n   13.8850    9.9210    7.6900 C   0  0  0  0  0  0  0  0  0  0  0  0\\n   13.3160    7.8940    5.9520 C   0  0  0  0  0  0  0  0  0  0  0  0\\n   15.7120    9.9650   -3.7420 C   0  0  0  0  0  0  0  0  0  0  0  0\\n   13.1110   10.3400   -2.9690 C   0  0  0  0  0  0  0  0  0  0  0  0\\n   14.7670   10.9740    5.7220 C   0  0  0  0  0  0  0  0  0  0  0  0\\n   14.1290   10.6380   -0.7250 C   0  0  0  0  0  0  0  0  0  0  0  0\\n   15.0740   11.3750    1.8160 N   0  0  0  0  0  0  0  0  0  0  0  0\\n   12.4620    9.9520   -5.3340 O   0  0  0  0  0  0  0  0  0  0  0  0\\n   14.3660    9.4720    4.2000 O   0  0  0  0  0  0  0  0  0  0  0  0\\n   15.8920   10.7650    0.9530 C   0  0  0  0  0  0  0  0  0  0  0  0\\n   13.3910   10.0610   -4.3290 C   0  0  0  0  0  0  0  0  0  0  0  0\\n   14.8640   10.6520    4.4470 C   0  0  0  0  0  0  0  0  0  0  0  0\\n   15.4110   10.5900   -0.3130 C   0  0  0  0  0  0  0  0  0  0  0  0\\n   14.1880    9.9990    6.3980 C   0  0  0  0  0  0  0  0  0  0  0  0\\n   14.1080   10.4150   -2.0560 C   0  0  0  0  0  0  0  0  0  0  0  0\\n   13.9070    9.0160    5.5280 C   0  0  0  0  0  0  0  0  0  0  0  0\\n   15.3880   10.2200   -2.4470 C   0  0  0  0  0  0  0  0  0  0  0  0\\n   15.5540   11.6840    3.4010 S   0  0  0  0  0  0  0  0  0  0  0  0\\n   19.8340   10.6020   -0.9190 O   0  0  0  0  0  0  0  0  0  0  0  0\\n  4  1  1  0\\n  1 30  2  0\\n  1  3  1  0\\n 28  2  1  0\\n  4  2  1  0\\n  2 24  1  0\\n 19  5  1  0\\n 21  6  2  0\\n 29  7  2  0\\n 29  8  2  0\\n 10  9  2  0\\n 12  9  1  0\\n 13 10  1  0\\n 11 22  2  0\\n 11 14  1  0\\n 25 12  2  0\\n 27 13  2  0\\n 14 28  2  0\\n 22 15  1  0\\n 15 26  2  0\\n 23 16  2  0\\n 16 25  1  0\\n 26 17  1  0\\n 17 24  2  0\\n 21 18  1  0\\n 18 29  1  0\\n 19 22  1  0\\n 20 23  1  0\\n 20 27  1  0\\n 24 21  1  0\\n 29 23  1  0\\n 27 25  1  0\\n 28 26  1  0\\nA    1\\nC\\nA    2\\nN\\nA    3\\nO\\nA    4\\nCA\\nA    5\\nCAA\\nA    6\\nOAC\\nA    7\\nOAD\\nA    8\\nOAE\\nA    9\\nCAG\\nA   10\\nCAH\\nA   11\\nCAI\\nA   12\\nCAJ\\nA   13\\nCAK\\nA   14\\nCAL\\nA   15\\nCAM\\nA   16\\nCAN\\nA   17\\nCAO\\nA   18\\nNAQ\\nA   19\\nOAR\\nA   20\\nOAS\\nA   21\\nCAU\\nA   22\\nCAV\\nA   23\\nCAW\\nA   24\\nCAX\\nA   25\\nCAY\\nA   26\\nCAZ\\nA   27\\nCBA\\nA   28\\nCBB\\nA   29\\nSBD\\nA   30\\nOXT\\nM  END\\n\",\"sdf\");\n\tviewer_15613902974568036.addModel(\"\\n     RDKit          3D\\n\\n 30 33  0  0  0  0  0  0  0  0999 V2000\\n   11.4583   10.1116   -5.4853 C   0  0  0  0  0  0  0  0  0  0  0  0\\n   12.8151    9.6826   -5.4375 O   0  0  0  0  0  0  0  0  0  0  0  0\\n   13.6403    9.7959   -4.3091 C   0  0  0  0  0  0  0  0  0  0  0  0\\n   14.9700    9.3283   -4.4033 C   0  0  0  0  0  0  0  0  0  0  0  0\\n   15.8465    9.4132   -3.3073 C   0  0  0  0  0  0  0  0  0  0  0  0\\n   15.3634    9.9676   -2.1161 C   0  0  0  0  0  0  0  0  0  0  0  0\\n   14.0768   10.4301   -2.0272 C   0  0  0  0  0  0  0  0  0  0  0  0\\n   13.1846   10.3616   -3.0946 C   0  0  0  0  0  0  0  0  0  0  0  0\\n   13.9026   10.9490   -0.7665 C   0  0  0  0  0  0  0  0  0  0  0  0\\n   15.1262   10.7780   -0.1201 C   0  0  0  0  0  0  0  0  0  0  0  0\\n   15.4011   11.2389    1.2632 C   0  0  0  0  0  0  0  0  0  0  0  0\\n   16.3660   10.7542    1.9107 O   0  0  0  0  0  0  0  0  0  0  0  0\\n   14.5693   12.2318    1.8791 N   0  0  0  0  0  0  0  0  0  0  0  0\\n   14.7780   12.6905    3.5361 S   0  0  0  0  0  0  0  0  0  0  0  0\\n   13.7931   13.7705    3.8840 O   0  0  0  0  0  0  0  0  0  0  0  0\\n   16.1687   13.2206    3.7457 O   0  0  0  0  0  0  0  0  0  0  0  0\\n   14.4941   11.3076    4.5741 C   0  0  0  0  0  0  0  0  0  0  0  0\\n   15.4836   10.4876    5.1057 C   0  0  0  0  0  0  0  0  0  0  0  0\\n   14.7859    9.5496    5.8304 C   0  0  0  0  0  0  0  0  0  0  0  0\\n   15.2281    8.4655    6.5852 C   0  0  0  0  0  0  0  0  0  0  0  0\\n   14.2556    7.6716    7.2215 C   0  0  0  0  0  0  0  0  0  0  0  0\\n   12.8822    7.9779    7.0882 C   0  0  0  0  0  0  0  0  0  0  0  0\\n   12.4690    9.0806    6.3172 C   0  0  0  0  0  0  0  0  0  0  0  0\\n   13.4546    9.8472    5.6998 C   0  0  0  0  0  0  0  0  0  0  0  0\\n   13.2923   10.9045    4.9431 O   0  0  0  0  0  0  0  0  0  0  0  0\\n   16.0193   10.1568   -0.9472 N   0  0  0  0  0  0  0  0  0  0  0  0\\n   17.4345    9.8632   -0.6824 C   0  0  0  0  0  0  0  0  0  0  0  0\\n   18.2494   11.1138   -0.7719 C   0  0  0  0  0  0  0  0  0  0  0  0\\n   18.3148   11.7465   -1.8596 O   0  0  0  0  0  0  0  0  0  0  0  0\\n   18.9378   11.5767    0.3449 O   0  0  0  0  0  0  0  0  0  0  0  0\\n  1  2  1  0\\n  2  3  1  0\\n  3  4  2  0\\n  4  5  1  0\\n  5  6  2  0\\n  6  7  1  0\\n  7  8  2  0\\n  7  9  1  0\\n  9 10  2  0\\n 10 11  1  0\\n 11 12  2  0\\n 11 13  1  0\\n 13 14  1  0\\n 14 15  2  0\\n 14 16  2  0\\n 14 17  1  0\\n 17 18  2  0\\n 18 19  1  0\\n 19 20  2  0\\n 20 21  1  0\\n 21 22  2  0\\n 22 23  1  0\\n 23 24  2  0\\n 24 25  1  0\\n 10 26  1  0\\n 26 27  1  0\\n 27 28  1  0\\n 28 29  2  0\\n 28 30  1  0\\n  8  3  1  0\\n 25 17  1  0\\n 26  6  1  0\\n 24 19  1  0\\nM  END\\n\",\"sdf\");\n\tviewer_15613902974568036.setStyle({\"stick\": {}});\n\tviewer_15613902974568036.setBackgroundColor(\"0xeeeeee\");\n\tviewer_15613902974568036.zoomTo();\nviewer_15613902974568036.render();\n});\n</script>",
      "text/html": [
       "<div id=\"3dmolviewer_15613902974568036\"  style=\"position: relative; width: 400px; height: 300px\">\n",
       "        <p id=\"3dmolwarning_15613902974568036\" style=\"background-color:#ffcccc;color:black\">You appear to be running in JupyterLab (or JavaScript failed to load for some other reason).  You need to install the 3dmol extension: <br>\n",
       "        <tt>jupyter labextension install jupyterlab_3dmol</tt></p>\n",
       "        </div>\n",
       "<script>\n",
       "\n",
       "var loadScriptAsync = function(uri){\n",
       "  return new Promise((resolve, reject) => {\n",
       "    var tag = document.createElement('script');\n",
       "    tag.src = uri;\n",
       "    tag.async = true;\n",
       "    tag.onload = () => {\n",
       "      resolve();\n",
       "    };\n",
       "  var firstScriptTag = document.getElementsByTagName('script')[0];\n",
       "  firstScriptTag.parentNode.insertBefore(tag, firstScriptTag);\n",
       "});\n",
       "};\n",
       "\n",
       "if(typeof $3Dmolpromise === 'undefined') {\n",
       "$3Dmolpromise = null;\n",
       "  $3Dmolpromise = loadScriptAsync('https://3dmol.csb.pitt.edu/build/3Dmol.js');\n",
       "}\n",
       "\n",
       "var viewer_15613902974568036 = null;\n",
       "var warn = document.getElementById(\"3dmolwarning_15613902974568036\");\n",
       "if(warn) {\n",
       "    warn.parentNode.removeChild(warn);\n",
       "}\n",
       "$3Dmolpromise.then(function() {\n",
       "viewer_15613902974568036 = $3Dmol.createViewer($(\"#3dmolviewer_15613902974568036\"),{backgroundColor:\"white\"});\n",
       "\tviewer_15613902974568036.removeAllModels();\n",
       "\tviewer_15613902974568036.addModel(\"3IVX_FG6_A_302\\n     RDKit          3D\\n\\n 30 33  0  0  0  0  0  0  0  0999 V2000\\n   18.6710   11.0570   -0.9580 C   0  0  0  0  0  0  0  0  0  0  0  0\\n   16.1740   10.3380   -1.3780 N   0  0  0  0  0  0  0  0  0  0  0  0\\n   18.3150   12.1710   -0.5580 O   0  0  0  0  0  0  0  0  0  0  0  0\\n   17.6490   10.1280   -1.5980 C   0  0  0  0  0  0  0  0  0  0  0  0\\n   11.0750    9.7570   -5.0100 C   0  0  0  0  0  0  0  0  0  0  0  0\\n   17.0190   10.3670    1.2910 O   0  0  0  0  0  0  0  0  0  0  0  0\\n   15.1490   13.0720    3.7420 O   0  0  0  0  0  0  0  0  0  0  0  0\\n   17.0670   11.6710    3.5830 O   0  0  0  0  0  0  0  0  0  0  0  0\\n   13.2690    8.7830    8.1850 C   0  0  0  0  0  0  0  0  0  0  0  0\\n   12.9810    7.7440    7.3010 C   0  0  0  0  0  0  0  0  0  0  0  0\\n   14.7120    9.8780   -4.7050 C   0  0  0  0  0  0  0  0  0  0  0  0\\n   13.8850    9.9210    7.6900 C   0  0  0  0  0  0  0  0  0  0  0  0\\n   13.3160    7.8940    5.9520 C   0  0  0  0  0  0  0  0  0  0  0  0\\n   15.7120    9.9650   -3.7420 C   0  0  0  0  0  0  0  0  0  0  0  0\\n   13.1110   10.3400   -2.9690 C   0  0  0  0  0  0  0  0  0  0  0  0\\n   14.7670   10.9740    5.7220 C   0  0  0  0  0  0  0  0  0  0  0  0\\n   14.1290   10.6380   -0.7250 C   0  0  0  0  0  0  0  0  0  0  0  0\\n   15.0740   11.3750    1.8160 N   0  0  0  0  0  0  0  0  0  0  0  0\\n   12.4620    9.9520   -5.3340 O   0  0  0  0  0  0  0  0  0  0  0  0\\n   14.3660    9.4720    4.2000 O   0  0  0  0  0  0  0  0  0  0  0  0\\n   15.8920   10.7650    0.9530 C   0  0  0  0  0  0  0  0  0  0  0  0\\n   13.3910   10.0610   -4.3290 C   0  0  0  0  0  0  0  0  0  0  0  0\\n   14.8640   10.6520    4.4470 C   0  0  0  0  0  0  0  0  0  0  0  0\\n   15.4110   10.5900   -0.3130 C   0  0  0  0  0  0  0  0  0  0  0  0\\n   14.1880    9.9990    6.3980 C   0  0  0  0  0  0  0  0  0  0  0  0\\n   14.1080   10.4150   -2.0560 C   0  0  0  0  0  0  0  0  0  0  0  0\\n   13.9070    9.0160    5.5280 C   0  0  0  0  0  0  0  0  0  0  0  0\\n   15.3880   10.2200   -2.4470 C   0  0  0  0  0  0  0  0  0  0  0  0\\n   15.5540   11.6840    3.4010 S   0  0  0  0  0  0  0  0  0  0  0  0\\n   19.8340   10.6020   -0.9190 O   0  0  0  0  0  0  0  0  0  0  0  0\\n  4  1  1  0\\n  1 30  2  0\\n  1  3  1  0\\n 28  2  1  0\\n  4  2  1  0\\n  2 24  1  0\\n 19  5  1  0\\n 21  6  2  0\\n 29  7  2  0\\n 29  8  2  0\\n 10  9  2  0\\n 12  9  1  0\\n 13 10  1  0\\n 11 22  2  0\\n 11 14  1  0\\n 25 12  2  0\\n 27 13  2  0\\n 14 28  2  0\\n 22 15  1  0\\n 15 26  2  0\\n 23 16  2  0\\n 16 25  1  0\\n 26 17  1  0\\n 17 24  2  0\\n 21 18  1  0\\n 18 29  1  0\\n 19 22  1  0\\n 20 23  1  0\\n 20 27  1  0\\n 24 21  1  0\\n 29 23  1  0\\n 27 25  1  0\\n 28 26  1  0\\nA    1\\nC\\nA    2\\nN\\nA    3\\nO\\nA    4\\nCA\\nA    5\\nCAA\\nA    6\\nOAC\\nA    7\\nOAD\\nA    8\\nOAE\\nA    9\\nCAG\\nA   10\\nCAH\\nA   11\\nCAI\\nA   12\\nCAJ\\nA   13\\nCAK\\nA   14\\nCAL\\nA   15\\nCAM\\nA   16\\nCAN\\nA   17\\nCAO\\nA   18\\nNAQ\\nA   19\\nOAR\\nA   20\\nOAS\\nA   21\\nCAU\\nA   22\\nCAV\\nA   23\\nCAW\\nA   24\\nCAX\\nA   25\\nCAY\\nA   26\\nCAZ\\nA   27\\nCBA\\nA   28\\nCBB\\nA   29\\nSBD\\nA   30\\nOXT\\nM  END\\n\",\"sdf\");\n",
       "\tviewer_15613902974568036.addModel(\"\\n     RDKit          3D\\n\\n 30 33  0  0  0  0  0  0  0  0999 V2000\\n   11.4583   10.1116   -5.4853 C   0  0  0  0  0  0  0  0  0  0  0  0\\n   12.8151    9.6826   -5.4375 O   0  0  0  0  0  0  0  0  0  0  0  0\\n   13.6403    9.7959   -4.3091 C   0  0  0  0  0  0  0  0  0  0  0  0\\n   14.9700    9.3283   -4.4033 C   0  0  0  0  0  0  0  0  0  0  0  0\\n   15.8465    9.4132   -3.3073 C   0  0  0  0  0  0  0  0  0  0  0  0\\n   15.3634    9.9676   -2.1161 C   0  0  0  0  0  0  0  0  0  0  0  0\\n   14.0768   10.4301   -2.0272 C   0  0  0  0  0  0  0  0  0  0  0  0\\n   13.1846   10.3616   -3.0946 C   0  0  0  0  0  0  0  0  0  0  0  0\\n   13.9026   10.9490   -0.7665 C   0  0  0  0  0  0  0  0  0  0  0  0\\n   15.1262   10.7780   -0.1201 C   0  0  0  0  0  0  0  0  0  0  0  0\\n   15.4011   11.2389    1.2632 C   0  0  0  0  0  0  0  0  0  0  0  0\\n   16.3660   10.7542    1.9107 O   0  0  0  0  0  0  0  0  0  0  0  0\\n   14.5693   12.2318    1.8791 N   0  0  0  0  0  0  0  0  0  0  0  0\\n   14.7780   12.6905    3.5361 S   0  0  0  0  0  0  0  0  0  0  0  0\\n   13.7931   13.7705    3.8840 O   0  0  0  0  0  0  0  0  0  0  0  0\\n   16.1687   13.2206    3.7457 O   0  0  0  0  0  0  0  0  0  0  0  0\\n   14.4941   11.3076    4.5741 C   0  0  0  0  0  0  0  0  0  0  0  0\\n   15.4836   10.4876    5.1057 C   0  0  0  0  0  0  0  0  0  0  0  0\\n   14.7859    9.5496    5.8304 C   0  0  0  0  0  0  0  0  0  0  0  0\\n   15.2281    8.4655    6.5852 C   0  0  0  0  0  0  0  0  0  0  0  0\\n   14.2556    7.6716    7.2215 C   0  0  0  0  0  0  0  0  0  0  0  0\\n   12.8822    7.9779    7.0882 C   0  0  0  0  0  0  0  0  0  0  0  0\\n   12.4690    9.0806    6.3172 C   0  0  0  0  0  0  0  0  0  0  0  0\\n   13.4546    9.8472    5.6998 C   0  0  0  0  0  0  0  0  0  0  0  0\\n   13.2923   10.9045    4.9431 O   0  0  0  0  0  0  0  0  0  0  0  0\\n   16.0193   10.1568   -0.9472 N   0  0  0  0  0  0  0  0  0  0  0  0\\n   17.4345    9.8632   -0.6824 C   0  0  0  0  0  0  0  0  0  0  0  0\\n   18.2494   11.1138   -0.7719 C   0  0  0  0  0  0  0  0  0  0  0  0\\n   18.3148   11.7465   -1.8596 O   0  0  0  0  0  0  0  0  0  0  0  0\\n   18.9378   11.5767    0.3449 O   0  0  0  0  0  0  0  0  0  0  0  0\\n  1  2  1  0\\n  2  3  1  0\\n  3  4  2  0\\n  4  5  1  0\\n  5  6  2  0\\n  6  7  1  0\\n  7  8  2  0\\n  7  9  1  0\\n  9 10  2  0\\n 10 11  1  0\\n 11 12  2  0\\n 11 13  1  0\\n 13 14  1  0\\n 14 15  2  0\\n 14 16  2  0\\n 14 17  1  0\\n 17 18  2  0\\n 18 19  1  0\\n 19 20  2  0\\n 20 21  1  0\\n 21 22  2  0\\n 22 23  1  0\\n 23 24  2  0\\n 24 25  1  0\\n 10 26  1  0\\n 26 27  1  0\\n 27 28  1  0\\n 28 29  2  0\\n 28 30  1  0\\n  8  3  1  0\\n 25 17  1  0\\n 26  6  1  0\\n 24 19  1  0\\nM  END\\n\",\"sdf\");\n",
       "\tviewer_15613902974568036.setStyle({\"stick\": {}});\n",
       "\tviewer_15613902974568036.setBackgroundColor(\"0xeeeeee\");\n",
       "\tviewer_15613902974568036.zoomTo();\n",
       "viewer_15613902974568036.render();\n",
       "});\n",
       "</script>"
      ]
     },
     "metadata": {},
     "output_type": "display_data"
    }
   ],
   "source": [
    "print(\"RMS frags: %.3f, Energy: %s\" % (AllChem.AlignMol(frags_3d, best_unconstrained), best_unconstrained.GetProp(\"Energy\")))\n",
    "drawit((hung_3IVX, best_unconstrained))"
   ]
  },
  {
   "cell_type": "code",
   "execution_count": 14,
   "metadata": {},
   "outputs": [
    {
     "name": "stdout",
     "output_type": "stream",
     "text": [
      "RMS frags: 0.093, Energy: 133.6\n"
     ]
    },
    {
     "data": {
      "application/3dmoljs_load.v0": "<div id=\"3dmolviewer_15613902974672236\"  style=\"position: relative; width: 400px; height: 300px\">\n        <p id=\"3dmolwarning_15613902974672236\" style=\"background-color:#ffcccc;color:black\">You appear to be running in JupyterLab (or JavaScript failed to load for some other reason).  You need to install the 3dmol extension: <br>\n        <tt>jupyter labextension install jupyterlab_3dmol</tt></p>\n        </div>\n<script>\n\nvar loadScriptAsync = function(uri){\n  return new Promise((resolve, reject) => {\n    var tag = document.createElement('script');\n    tag.src = uri;\n    tag.async = true;\n    tag.onload = () => {\n      resolve();\n    };\n  var firstScriptTag = document.getElementsByTagName('script')[0];\n  firstScriptTag.parentNode.insertBefore(tag, firstScriptTag);\n});\n};\n\nif(typeof $3Dmolpromise === 'undefined') {\n$3Dmolpromise = null;\n  $3Dmolpromise = loadScriptAsync('https://3dmol.csb.pitt.edu/build/3Dmol.js');\n}\n\nvar viewer_15613902974672236 = null;\nvar warn = document.getElementById(\"3dmolwarning_15613902974672236\");\nif(warn) {\n    warn.parentNode.removeChild(warn);\n}\n$3Dmolpromise.then(function() {\nviewer_15613902974672236 = $3Dmol.createViewer($(\"#3dmolviewer_15613902974672236\"),{backgroundColor:\"white\"});\n\tviewer_15613902974672236.removeAllModels();\n\tviewer_15613902974672236.addModel(\"3IVX_FG6_A_302\\n     RDKit          3D\\n\\n 30 33  0  0  0  0  0  0  0  0999 V2000\\n   18.6710   11.0570   -0.9580 C   0  0  0  0  0  0  0  0  0  0  0  0\\n   16.1740   10.3380   -1.3780 N   0  0  0  0  0  0  0  0  0  0  0  0\\n   18.3150   12.1710   -0.5580 O   0  0  0  0  0  0  0  0  0  0  0  0\\n   17.6490   10.1280   -1.5980 C   0  0  0  0  0  0  0  0  0  0  0  0\\n   11.0750    9.7570   -5.0100 C   0  0  0  0  0  0  0  0  0  0  0  0\\n   17.0190   10.3670    1.2910 O   0  0  0  0  0  0  0  0  0  0  0  0\\n   15.1490   13.0720    3.7420 O   0  0  0  0  0  0  0  0  0  0  0  0\\n   17.0670   11.6710    3.5830 O   0  0  0  0  0  0  0  0  0  0  0  0\\n   13.2690    8.7830    8.1850 C   0  0  0  0  0  0  0  0  0  0  0  0\\n   12.9810    7.7440    7.3010 C   0  0  0  0  0  0  0  0  0  0  0  0\\n   14.7120    9.8780   -4.7050 C   0  0  0  0  0  0  0  0  0  0  0  0\\n   13.8850    9.9210    7.6900 C   0  0  0  0  0  0  0  0  0  0  0  0\\n   13.3160    7.8940    5.9520 C   0  0  0  0  0  0  0  0  0  0  0  0\\n   15.7120    9.9650   -3.7420 C   0  0  0  0  0  0  0  0  0  0  0  0\\n   13.1110   10.3400   -2.9690 C   0  0  0  0  0  0  0  0  0  0  0  0\\n   14.7670   10.9740    5.7220 C   0  0  0  0  0  0  0  0  0  0  0  0\\n   14.1290   10.6380   -0.7250 C   0  0  0  0  0  0  0  0  0  0  0  0\\n   15.0740   11.3750    1.8160 N   0  0  0  0  0  0  0  0  0  0  0  0\\n   12.4620    9.9520   -5.3340 O   0  0  0  0  0  0  0  0  0  0  0  0\\n   14.3660    9.4720    4.2000 O   0  0  0  0  0  0  0  0  0  0  0  0\\n   15.8920   10.7650    0.9530 C   0  0  0  0  0  0  0  0  0  0  0  0\\n   13.3910   10.0610   -4.3290 C   0  0  0  0  0  0  0  0  0  0  0  0\\n   14.8640   10.6520    4.4470 C   0  0  0  0  0  0  0  0  0  0  0  0\\n   15.4110   10.5900   -0.3130 C   0  0  0  0  0  0  0  0  0  0  0  0\\n   14.1880    9.9990    6.3980 C   0  0  0  0  0  0  0  0  0  0  0  0\\n   14.1080   10.4150   -2.0560 C   0  0  0  0  0  0  0  0  0  0  0  0\\n   13.9070    9.0160    5.5280 C   0  0  0  0  0  0  0  0  0  0  0  0\\n   15.3880   10.2200   -2.4470 C   0  0  0  0  0  0  0  0  0  0  0  0\\n   15.5540   11.6840    3.4010 S   0  0  0  0  0  0  0  0  0  0  0  0\\n   19.8340   10.6020   -0.9190 O   0  0  0  0  0  0  0  0  0  0  0  0\\n  4  1  1  0\\n  1 30  2  0\\n  1  3  1  0\\n 28  2  1  0\\n  4  2  1  0\\n  2 24  1  0\\n 19  5  1  0\\n 21  6  2  0\\n 29  7  2  0\\n 29  8  2  0\\n 10  9  2  0\\n 12  9  1  0\\n 13 10  1  0\\n 11 22  2  0\\n 11 14  1  0\\n 25 12  2  0\\n 27 13  2  0\\n 14 28  2  0\\n 22 15  1  0\\n 15 26  2  0\\n 23 16  2  0\\n 16 25  1  0\\n 26 17  1  0\\n 17 24  2  0\\n 21 18  1  0\\n 18 29  1  0\\n 19 22  1  0\\n 20 23  1  0\\n 20 27  1  0\\n 24 21  1  0\\n 29 23  1  0\\n 27 25  1  0\\n 28 26  1  0\\nA    1\\nC\\nA    2\\nN\\nA    3\\nO\\nA    4\\nCA\\nA    5\\nCAA\\nA    6\\nOAC\\nA    7\\nOAD\\nA    8\\nOAE\\nA    9\\nCAG\\nA   10\\nCAH\\nA   11\\nCAI\\nA   12\\nCAJ\\nA   13\\nCAK\\nA   14\\nCAL\\nA   15\\nCAM\\nA   16\\nCAN\\nA   17\\nCAO\\nA   18\\nNAQ\\nA   19\\nOAR\\nA   20\\nOAS\\nA   21\\nCAU\\nA   22\\nCAV\\nA   23\\nCAW\\nA   24\\nCAX\\nA   25\\nCAY\\nA   26\\nCAZ\\nA   27\\nCBA\\nA   28\\nCBB\\nA   29\\nSBD\\nA   30\\nOXT\\nM  END\\n\",\"sdf\");\n\tviewer_15613902974672236.addModel(\"\\n     RDKit          3D\\n\\n 30 33  0  0  0  0  0  0  0  0999 V2000\\n   11.0101    9.7781   -5.0354 C   0  0  0  0  0  0  0  0  0  0  0  0\\n   12.3908    9.9253   -5.3284 O   0  0  0  0  0  0  0  0  0  0  0  0\\n   13.3718   10.0570   -4.3479 C   0  0  0  0  0  0  0  0  0  0  0  0\\n   14.7048    9.8873   -4.7477 C   0  0  0  0  0  0  0  0  0  0  0  0\\n   15.7403    9.9732   -3.8224 C   0  0  0  0  0  0  0  0  0  0  0  0\\n   15.4196   10.2462   -2.4948 C   0  0  0  0  0  0  0  0  0  0  0  0\\n   14.1224   10.4249   -2.0983 C   0  0  0  0  0  0  0  0  0  0  0  0\\n   13.0666   10.3344   -2.9929 C   0  0  0  0  0  0  0  0  0  0  0  0\\n   14.1218   10.6361   -0.7469 C   0  0  0  0  0  0  0  0  0  0  0  0\\n   15.4596   10.5482   -0.3812 C   0  0  0  0  0  0  0  0  0  0  0  0\\n   15.9114   10.6003    0.9867 C   0  0  0  0  0  0  0  0  0  0  0  0\\n   16.8631    9.8719    1.3768 O   0  0  0  0  0  0  0  0  0  0  0  0\\n   15.2548   11.4894    1.8738 N   0  0  0  0  0  0  0  0  0  0  0  0\\n   15.8238   11.7087    3.4632 S   0  0  0  0  0  0  0  0  0  0  0  0\\n   15.6168   13.1493    3.8400 O   0  0  0  0  0  0  0  0  0  0  0  0\\n   17.2901   11.3916    3.5618 O   0  0  0  0  0  0  0  0  0  0  0  0\\n   14.9196   10.6883    4.5402 C   0  0  0  0  0  0  0  0  0  0  0  0\\n   14.7856   11.0718    5.8414 C   0  0  0  0  0  0  0  0  0  0  0  0\\n   14.1736   10.0377    6.4473 C   0  0  0  0  0  0  0  0  0  0  0  0\\n   13.8501    9.9005    7.7820 C   0  0  0  0  0  0  0  0  0  0  0  0\\n   13.2364    8.7128    8.1820 C   0  0  0  0  0  0  0  0  0  0  0  0\\n   12.9700    7.7019    7.2341 C   0  0  0  0  0  0  0  0  0  0  0  0\\n   13.3197    7.8786    5.8733 C   0  0  0  0  0  0  0  0  0  0  0  0\\n   13.9347    9.0787    5.5043 C   0  0  0  0  0  0  0  0  0  0  0  0\\n   14.3891    9.4852    4.3223 O   0  0  0  0  0  0  0  0  0  0  0  0\\n   16.2632   10.3421   -1.4552 N   0  0  0  0  0  0  0  0  0  0  0  0\\n   17.6885    9.9660   -1.4905 C   0  0  0  0  0  0  0  0  0  0  0  0\\n   18.6471   10.9844   -0.9608 C   0  0  0  0  0  0  0  0  0  0  0  0\\n   19.8641   10.6684   -0.8921 O   0  0  0  0  0  0  0  0  0  0  0  0\\n   18.2353   12.2399   -0.5505 O   0  0  0  0  0  0  0  0  0  0  0  0\\n  1  2  1  0\\n  2  3  1  0\\n  3  4  2  0\\n  4  5  1  0\\n  5  6  2  0\\n  6  7  1  0\\n  7  8  2  0\\n  7  9  1  0\\n  9 10  2  0\\n 10 11  1  0\\n 11 12  2  0\\n 11 13  1  0\\n 13 14  1  0\\n 14 15  2  0\\n 14 16  2  0\\n 14 17  1  0\\n 17 18  2  0\\n 18 19  1  0\\n 19 20  2  0\\n 20 21  1  0\\n 21 22  2  0\\n 22 23  1  0\\n 23 24  2  0\\n 24 25  1  0\\n 10 26  1  0\\n 26 27  1  0\\n 27 28  1  0\\n 28 29  2  0\\n 28 30  1  0\\n  8  3  1  0\\n 25 17  1  0\\n 26  6  1  0\\n 24 19  1  0\\nM  END\\n\",\"sdf\");\n\tviewer_15613902974672236.setStyle({\"stick\": {}});\n\tviewer_15613902974672236.setBackgroundColor(\"0xeeeeee\");\n\tviewer_15613902974672236.zoomTo();\nviewer_15613902974672236.render();\n});\n</script>",
      "text/html": [
       "<div id=\"3dmolviewer_15613902974672236\"  style=\"position: relative; width: 400px; height: 300px\">\n",
       "        <p id=\"3dmolwarning_15613902974672236\" style=\"background-color:#ffcccc;color:black\">You appear to be running in JupyterLab (or JavaScript failed to load for some other reason).  You need to install the 3dmol extension: <br>\n",
       "        <tt>jupyter labextension install jupyterlab_3dmol</tt></p>\n",
       "        </div>\n",
       "<script>\n",
       "\n",
       "var loadScriptAsync = function(uri){\n",
       "  return new Promise((resolve, reject) => {\n",
       "    var tag = document.createElement('script');\n",
       "    tag.src = uri;\n",
       "    tag.async = true;\n",
       "    tag.onload = () => {\n",
       "      resolve();\n",
       "    };\n",
       "  var firstScriptTag = document.getElementsByTagName('script')[0];\n",
       "  firstScriptTag.parentNode.insertBefore(tag, firstScriptTag);\n",
       "});\n",
       "};\n",
       "\n",
       "if(typeof $3Dmolpromise === 'undefined') {\n",
       "$3Dmolpromise = null;\n",
       "  $3Dmolpromise = loadScriptAsync('https://3dmol.csb.pitt.edu/build/3Dmol.js');\n",
       "}\n",
       "\n",
       "var viewer_15613902974672236 = null;\n",
       "var warn = document.getElementById(\"3dmolwarning_15613902974672236\");\n",
       "if(warn) {\n",
       "    warn.parentNode.removeChild(warn);\n",
       "}\n",
       "$3Dmolpromise.then(function() {\n",
       "viewer_15613902974672236 = $3Dmol.createViewer($(\"#3dmolviewer_15613902974672236\"),{backgroundColor:\"white\"});\n",
       "\tviewer_15613902974672236.removeAllModels();\n",
       "\tviewer_15613902974672236.addModel(\"3IVX_FG6_A_302\\n     RDKit          3D\\n\\n 30 33  0  0  0  0  0  0  0  0999 V2000\\n   18.6710   11.0570   -0.9580 C   0  0  0  0  0  0  0  0  0  0  0  0\\n   16.1740   10.3380   -1.3780 N   0  0  0  0  0  0  0  0  0  0  0  0\\n   18.3150   12.1710   -0.5580 O   0  0  0  0  0  0  0  0  0  0  0  0\\n   17.6490   10.1280   -1.5980 C   0  0  0  0  0  0  0  0  0  0  0  0\\n   11.0750    9.7570   -5.0100 C   0  0  0  0  0  0  0  0  0  0  0  0\\n   17.0190   10.3670    1.2910 O   0  0  0  0  0  0  0  0  0  0  0  0\\n   15.1490   13.0720    3.7420 O   0  0  0  0  0  0  0  0  0  0  0  0\\n   17.0670   11.6710    3.5830 O   0  0  0  0  0  0  0  0  0  0  0  0\\n   13.2690    8.7830    8.1850 C   0  0  0  0  0  0  0  0  0  0  0  0\\n   12.9810    7.7440    7.3010 C   0  0  0  0  0  0  0  0  0  0  0  0\\n   14.7120    9.8780   -4.7050 C   0  0  0  0  0  0  0  0  0  0  0  0\\n   13.8850    9.9210    7.6900 C   0  0  0  0  0  0  0  0  0  0  0  0\\n   13.3160    7.8940    5.9520 C   0  0  0  0  0  0  0  0  0  0  0  0\\n   15.7120    9.9650   -3.7420 C   0  0  0  0  0  0  0  0  0  0  0  0\\n   13.1110   10.3400   -2.9690 C   0  0  0  0  0  0  0  0  0  0  0  0\\n   14.7670   10.9740    5.7220 C   0  0  0  0  0  0  0  0  0  0  0  0\\n   14.1290   10.6380   -0.7250 C   0  0  0  0  0  0  0  0  0  0  0  0\\n   15.0740   11.3750    1.8160 N   0  0  0  0  0  0  0  0  0  0  0  0\\n   12.4620    9.9520   -5.3340 O   0  0  0  0  0  0  0  0  0  0  0  0\\n   14.3660    9.4720    4.2000 O   0  0  0  0  0  0  0  0  0  0  0  0\\n   15.8920   10.7650    0.9530 C   0  0  0  0  0  0  0  0  0  0  0  0\\n   13.3910   10.0610   -4.3290 C   0  0  0  0  0  0  0  0  0  0  0  0\\n   14.8640   10.6520    4.4470 C   0  0  0  0  0  0  0  0  0  0  0  0\\n   15.4110   10.5900   -0.3130 C   0  0  0  0  0  0  0  0  0  0  0  0\\n   14.1880    9.9990    6.3980 C   0  0  0  0  0  0  0  0  0  0  0  0\\n   14.1080   10.4150   -2.0560 C   0  0  0  0  0  0  0  0  0  0  0  0\\n   13.9070    9.0160    5.5280 C   0  0  0  0  0  0  0  0  0  0  0  0\\n   15.3880   10.2200   -2.4470 C   0  0  0  0  0  0  0  0  0  0  0  0\\n   15.5540   11.6840    3.4010 S   0  0  0  0  0  0  0  0  0  0  0  0\\n   19.8340   10.6020   -0.9190 O   0  0  0  0  0  0  0  0  0  0  0  0\\n  4  1  1  0\\n  1 30  2  0\\n  1  3  1  0\\n 28  2  1  0\\n  4  2  1  0\\n  2 24  1  0\\n 19  5  1  0\\n 21  6  2  0\\n 29  7  2  0\\n 29  8  2  0\\n 10  9  2  0\\n 12  9  1  0\\n 13 10  1  0\\n 11 22  2  0\\n 11 14  1  0\\n 25 12  2  0\\n 27 13  2  0\\n 14 28  2  0\\n 22 15  1  0\\n 15 26  2  0\\n 23 16  2  0\\n 16 25  1  0\\n 26 17  1  0\\n 17 24  2  0\\n 21 18  1  0\\n 18 29  1  0\\n 19 22  1  0\\n 20 23  1  0\\n 20 27  1  0\\n 24 21  1  0\\n 29 23  1  0\\n 27 25  1  0\\n 28 26  1  0\\nA    1\\nC\\nA    2\\nN\\nA    3\\nO\\nA    4\\nCA\\nA    5\\nCAA\\nA    6\\nOAC\\nA    7\\nOAD\\nA    8\\nOAE\\nA    9\\nCAG\\nA   10\\nCAH\\nA   11\\nCAI\\nA   12\\nCAJ\\nA   13\\nCAK\\nA   14\\nCAL\\nA   15\\nCAM\\nA   16\\nCAN\\nA   17\\nCAO\\nA   18\\nNAQ\\nA   19\\nOAR\\nA   20\\nOAS\\nA   21\\nCAU\\nA   22\\nCAV\\nA   23\\nCAW\\nA   24\\nCAX\\nA   25\\nCAY\\nA   26\\nCAZ\\nA   27\\nCBA\\nA   28\\nCBB\\nA   29\\nSBD\\nA   30\\nOXT\\nM  END\\n\",\"sdf\");\n",
       "\tviewer_15613902974672236.addModel(\"\\n     RDKit          3D\\n\\n 30 33  0  0  0  0  0  0  0  0999 V2000\\n   11.0101    9.7781   -5.0354 C   0  0  0  0  0  0  0  0  0  0  0  0\\n   12.3908    9.9253   -5.3284 O   0  0  0  0  0  0  0  0  0  0  0  0\\n   13.3718   10.0570   -4.3479 C   0  0  0  0  0  0  0  0  0  0  0  0\\n   14.7048    9.8873   -4.7477 C   0  0  0  0  0  0  0  0  0  0  0  0\\n   15.7403    9.9732   -3.8224 C   0  0  0  0  0  0  0  0  0  0  0  0\\n   15.4196   10.2462   -2.4948 C   0  0  0  0  0  0  0  0  0  0  0  0\\n   14.1224   10.4249   -2.0983 C   0  0  0  0  0  0  0  0  0  0  0  0\\n   13.0666   10.3344   -2.9929 C   0  0  0  0  0  0  0  0  0  0  0  0\\n   14.1218   10.6361   -0.7469 C   0  0  0  0  0  0  0  0  0  0  0  0\\n   15.4596   10.5482   -0.3812 C   0  0  0  0  0  0  0  0  0  0  0  0\\n   15.9114   10.6003    0.9867 C   0  0  0  0  0  0  0  0  0  0  0  0\\n   16.8631    9.8719    1.3768 O   0  0  0  0  0  0  0  0  0  0  0  0\\n   15.2548   11.4894    1.8738 N   0  0  0  0  0  0  0  0  0  0  0  0\\n   15.8238   11.7087    3.4632 S   0  0  0  0  0  0  0  0  0  0  0  0\\n   15.6168   13.1493    3.8400 O   0  0  0  0  0  0  0  0  0  0  0  0\\n   17.2901   11.3916    3.5618 O   0  0  0  0  0  0  0  0  0  0  0  0\\n   14.9196   10.6883    4.5402 C   0  0  0  0  0  0  0  0  0  0  0  0\\n   14.7856   11.0718    5.8414 C   0  0  0  0  0  0  0  0  0  0  0  0\\n   14.1736   10.0377    6.4473 C   0  0  0  0  0  0  0  0  0  0  0  0\\n   13.8501    9.9005    7.7820 C   0  0  0  0  0  0  0  0  0  0  0  0\\n   13.2364    8.7128    8.1820 C   0  0  0  0  0  0  0  0  0  0  0  0\\n   12.9700    7.7019    7.2341 C   0  0  0  0  0  0  0  0  0  0  0  0\\n   13.3197    7.8786    5.8733 C   0  0  0  0  0  0  0  0  0  0  0  0\\n   13.9347    9.0787    5.5043 C   0  0  0  0  0  0  0  0  0  0  0  0\\n   14.3891    9.4852    4.3223 O   0  0  0  0  0  0  0  0  0  0  0  0\\n   16.2632   10.3421   -1.4552 N   0  0  0  0  0  0  0  0  0  0  0  0\\n   17.6885    9.9660   -1.4905 C   0  0  0  0  0  0  0  0  0  0  0  0\\n   18.6471   10.9844   -0.9608 C   0  0  0  0  0  0  0  0  0  0  0  0\\n   19.8641   10.6684   -0.8921 O   0  0  0  0  0  0  0  0  0  0  0  0\\n   18.2353   12.2399   -0.5505 O   0  0  0  0  0  0  0  0  0  0  0  0\\n  1  2  1  0\\n  2  3  1  0\\n  3  4  2  0\\n  4  5  1  0\\n  5  6  2  0\\n  6  7  1  0\\n  7  8  2  0\\n  7  9  1  0\\n  9 10  2  0\\n 10 11  1  0\\n 11 12  2  0\\n 11 13  1  0\\n 13 14  1  0\\n 14 15  2  0\\n 14 16  2  0\\n 14 17  1  0\\n 17 18  2  0\\n 18 19  1  0\\n 19 20  2  0\\n 20 21  1  0\\n 21 22  2  0\\n 22 23  1  0\\n 23 24  2  0\\n 24 25  1  0\\n 10 26  1  0\\n 26 27  1  0\\n 27 28  1  0\\n 28 29  2  0\\n 28 30  1  0\\n  8  3  1  0\\n 25 17  1  0\\n 26  6  1  0\\n 24 19  1  0\\nM  END\\n\",\"sdf\");\n",
       "\tviewer_15613902974672236.setStyle({\"stick\": {}});\n",
       "\tviewer_15613902974672236.setBackgroundColor(\"0xeeeeee\");\n",
       "\tviewer_15613902974672236.zoomTo();\n",
       "viewer_15613902974672236.render();\n",
       "});\n",
       "</script>"
      ]
     },
     "metadata": {},
     "output_type": "display_data"
    }
   ],
   "source": [
    "print(\"RMS frags: %.3f, Energy: %s\" % (AllChem.AlignMol(frags_3d, best_constrained), best_constrained.GetProp(\"Energy\")))\n",
    "drawit((hung_3IVX, best_constrained))"
   ]
  },
  {
   "cell_type": "code",
   "execution_count": 15,
   "metadata": {},
   "outputs": [
    {
     "name": "stdout",
     "output_type": "stream",
     "text": [
      "RMS frags: 0.724, Energy: 118.7\n"
     ]
    },
    {
     "data": {
      "application/3dmoljs_load.v0": "<div id=\"3dmolviewer_15613902974802299\"  style=\"position: relative; width: 400px; height: 300px\">\n        <p id=\"3dmolwarning_15613902974802299\" style=\"background-color:#ffcccc;color:black\">You appear to be running in JupyterLab (or JavaScript failed to load for some other reason).  You need to install the 3dmol extension: <br>\n        <tt>jupyter labextension install jupyterlab_3dmol</tt></p>\n        </div>\n<script>\n\nvar loadScriptAsync = function(uri){\n  return new Promise((resolve, reject) => {\n    var tag = document.createElement('script');\n    tag.src = uri;\n    tag.async = true;\n    tag.onload = () => {\n      resolve();\n    };\n  var firstScriptTag = document.getElementsByTagName('script')[0];\n  firstScriptTag.parentNode.insertBefore(tag, firstScriptTag);\n});\n};\n\nif(typeof $3Dmolpromise === 'undefined') {\n$3Dmolpromise = null;\n  $3Dmolpromise = loadScriptAsync('https://3dmol.csb.pitt.edu/build/3Dmol.js');\n}\n\nvar viewer_15613902974802299 = null;\nvar warn = document.getElementById(\"3dmolwarning_15613902974802299\");\nif(warn) {\n    warn.parentNode.removeChild(warn);\n}\n$3Dmolpromise.then(function() {\nviewer_15613902974802299 = $3Dmol.createViewer($(\"#3dmolviewer_15613902974802299\"),{backgroundColor:\"white\"});\n\tviewer_15613902974802299.removeAllModels();\n\tviewer_15613902974802299.addModel(\"3IVX_FG6_A_302\\n     RDKit          3D\\n\\n 30 33  0  0  0  0  0  0  0  0999 V2000\\n   18.6710   11.0570   -0.9580 C   0  0  0  0  0  0  0  0  0  0  0  0\\n   16.1740   10.3380   -1.3780 N   0  0  0  0  0  0  0  0  0  0  0  0\\n   18.3150   12.1710   -0.5580 O   0  0  0  0  0  0  0  0  0  0  0  0\\n   17.6490   10.1280   -1.5980 C   0  0  0  0  0  0  0  0  0  0  0  0\\n   11.0750    9.7570   -5.0100 C   0  0  0  0  0  0  0  0  0  0  0  0\\n   17.0190   10.3670    1.2910 O   0  0  0  0  0  0  0  0  0  0  0  0\\n   15.1490   13.0720    3.7420 O   0  0  0  0  0  0  0  0  0  0  0  0\\n   17.0670   11.6710    3.5830 O   0  0  0  0  0  0  0  0  0  0  0  0\\n   13.2690    8.7830    8.1850 C   0  0  0  0  0  0  0  0  0  0  0  0\\n   12.9810    7.7440    7.3010 C   0  0  0  0  0  0  0  0  0  0  0  0\\n   14.7120    9.8780   -4.7050 C   0  0  0  0  0  0  0  0  0  0  0  0\\n   13.8850    9.9210    7.6900 C   0  0  0  0  0  0  0  0  0  0  0  0\\n   13.3160    7.8940    5.9520 C   0  0  0  0  0  0  0  0  0  0  0  0\\n   15.7120    9.9650   -3.7420 C   0  0  0  0  0  0  0  0  0  0  0  0\\n   13.1110   10.3400   -2.9690 C   0  0  0  0  0  0  0  0  0  0  0  0\\n   14.7670   10.9740    5.7220 C   0  0  0  0  0  0  0  0  0  0  0  0\\n   14.1290   10.6380   -0.7250 C   0  0  0  0  0  0  0  0  0  0  0  0\\n   15.0740   11.3750    1.8160 N   0  0  0  0  0  0  0  0  0  0  0  0\\n   12.4620    9.9520   -5.3340 O   0  0  0  0  0  0  0  0  0  0  0  0\\n   14.3660    9.4720    4.2000 O   0  0  0  0  0  0  0  0  0  0  0  0\\n   15.8920   10.7650    0.9530 C   0  0  0  0  0  0  0  0  0  0  0  0\\n   13.3910   10.0610   -4.3290 C   0  0  0  0  0  0  0  0  0  0  0  0\\n   14.8640   10.6520    4.4470 C   0  0  0  0  0  0  0  0  0  0  0  0\\n   15.4110   10.5900   -0.3130 C   0  0  0  0  0  0  0  0  0  0  0  0\\n   14.1880    9.9990    6.3980 C   0  0  0  0  0  0  0  0  0  0  0  0\\n   14.1080   10.4150   -2.0560 C   0  0  0  0  0  0  0  0  0  0  0  0\\n   13.9070    9.0160    5.5280 C   0  0  0  0  0  0  0  0  0  0  0  0\\n   15.3880   10.2200   -2.4470 C   0  0  0  0  0  0  0  0  0  0  0  0\\n   15.5540   11.6840    3.4010 S   0  0  0  0  0  0  0  0  0  0  0  0\\n   19.8340   10.6020   -0.9190 O   0  0  0  0  0  0  0  0  0  0  0  0\\n  4  1  1  0\\n  1 30  2  0\\n  1  3  1  0\\n 28  2  1  0\\n  4  2  1  0\\n  2 24  1  0\\n 19  5  1  0\\n 21  6  2  0\\n 29  7  2  0\\n 29  8  2  0\\n 10  9  2  0\\n 12  9  1  0\\n 13 10  1  0\\n 11 22  2  0\\n 11 14  1  0\\n 25 12  2  0\\n 27 13  2  0\\n 14 28  2  0\\n 22 15  1  0\\n 15 26  2  0\\n 23 16  2  0\\n 16 25  1  0\\n 26 17  1  0\\n 17 24  2  0\\n 21 18  1  0\\n 18 29  1  0\\n 19 22  1  0\\n 20 23  1  0\\n 20 27  1  0\\n 24 21  1  0\\n 29 23  1  0\\n 27 25  1  0\\n 28 26  1  0\\nA    1\\nC\\nA    2\\nN\\nA    3\\nO\\nA    4\\nCA\\nA    5\\nCAA\\nA    6\\nOAC\\nA    7\\nOAD\\nA    8\\nOAE\\nA    9\\nCAG\\nA   10\\nCAH\\nA   11\\nCAI\\nA   12\\nCAJ\\nA   13\\nCAK\\nA   14\\nCAL\\nA   15\\nCAM\\nA   16\\nCAN\\nA   17\\nCAO\\nA   18\\nNAQ\\nA   19\\nOAR\\nA   20\\nOAS\\nA   21\\nCAU\\nA   22\\nCAV\\nA   23\\nCAW\\nA   24\\nCAX\\nA   25\\nCAY\\nA   26\\nCAZ\\nA   27\\nCBA\\nA   28\\nCBB\\nA   29\\nSBD\\nA   30\\nOXT\\nM  END\\n\",\"sdf\");\n\tviewer_15613902974802299.addModel(\"\\n     RDKit          3D\\n\\n 30 33  0  0  0  0  0  0  0  0999 V2000\\n   10.9689   10.1208   -4.6177 C   0  0  0  0  0  0  0  0  0  0  0  0\\n   12.3267   10.0393   -5.0381 O   0  0  0  0  0  0  0  0  0  0  0  0\\n   13.4261   10.0630   -4.1676 C   0  0  0  0  0  0  0  0  0  0  0  0\\n   14.7224    9.9791   -4.7246 C   0  0  0  0  0  0  0  0  0  0  0  0\\n   15.8645   10.0001   -3.9049 C   0  0  0  0  0  0  0  0  0  0  0  0\\n   15.6809   10.0991   -2.5223 C   0  0  0  0  0  0  0  0  0  0  0  0\\n   14.4260   10.1849   -1.9797 C   0  0  0  0  0  0  0  0  0  0  0  0\\n   13.2750   10.1712   -2.7640 C   0  0  0  0  0  0  0  0  0  0  0  0\\n   14.5654   10.3050   -0.6162 C   0  0  0  0  0  0  0  0  0  0  0  0\\n   15.9399   10.2920   -0.3811 C   0  0  0  0  0  0  0  0  0  0  0  0\\n   16.5530   10.4689    0.9554 C   0  0  0  0  0  0  0  0  0  0  0  0\\n   17.7288   10.9106    1.0550 O   0  0  0  0  0  0  0  0  0  0  0  0\\n   15.8085   10.1652    2.1420 N   0  0  0  0  0  0  0  0  0  0  0  0\\n   16.4576   10.4622    3.7205 S   0  0  0  0  0  0  0  0  0  0  0  0\\n   16.7418   11.9305    3.8694 O   0  0  0  0  0  0  0  0  0  0  0  0\\n   17.7221    9.6728    3.9095 O   0  0  0  0  0  0  0  0  0  0  0  0\\n   15.2867    9.9750    4.9299 C   0  0  0  0  0  0  0  0  0  0  0  0\\n   15.1641   10.5353    6.1968 C   0  0  0  0  0  0  0  0  0  0  0  0\\n   14.1292    9.8354    6.7727 C   0  0  0  0  0  0  0  0  0  0  0  0\\n   13.5446    9.9425    8.0325 C   0  0  0  0  0  0  0  0  0  0  0  0\\n   12.4832    9.0698    8.3372 C   0  0  0  0  0  0  0  0  0  0  0  0\\n   12.0386    8.1237    7.3858 C   0  0  0  0  0  0  0  0  0  0  0  0\\n   12.6513    8.0420    6.1213 C   0  0  0  0  0  0  0  0  0  0  0  0\\n   13.6990    8.9187    5.8494 C   0  0  0  0  0  0  0  0  0  0  0  0\\n   14.4020    9.0119    4.7476 O   0  0  0  0  0  0  0  0  0  0  0  0\\n   16.6223   10.1495   -1.5539 N   0  0  0  0  0  0  0  0  0  0  0  0\\n   18.0766   10.0863   -1.7479 C   0  0  0  0  0  0  0  0  0  0  0  0\\n   18.6563   11.4552   -1.9376 C   0  0  0  0  0  0  0  0  0  0  0  0\\n   19.8967   11.5848   -2.1145 O   0  0  0  0  0  0  0  0  0  0  0  0\\n   17.8386   12.5824   -1.9211 O   0  0  0  0  0  0  0  0  0  0  0  0\\n  1  2  1  0\\n  2  3  1  0\\n  3  4  2  0\\n  4  5  1  0\\n  5  6  2  0\\n  6  7  1  0\\n  7  8  2  0\\n  7  9  1  0\\n  9 10  2  0\\n 10 11  1  0\\n 11 12  2  0\\n 11 13  1  0\\n 13 14  1  0\\n 14 15  2  0\\n 14 16  2  0\\n 14 17  1  0\\n 17 18  2  0\\n 18 19  1  0\\n 19 20  2  0\\n 20 21  1  0\\n 21 22  2  0\\n 22 23  1  0\\n 23 24  2  0\\n 24 25  1  0\\n 10 26  1  0\\n 26 27  1  0\\n 27 28  1  0\\n 28 29  2  0\\n 28 30  1  0\\n  8  3  1  0\\n 25 17  1  0\\n 26  6  1  0\\n 24 19  1  0\\nM  END\\n\",\"sdf\");\n\tviewer_15613902974802299.setStyle({\"stick\": {}});\n\tviewer_15613902974802299.setBackgroundColor(\"0xeeeeee\");\n\tviewer_15613902974802299.zoomTo();\nviewer_15613902974802299.render();\n});\n</script>",
      "text/html": [
       "<div id=\"3dmolviewer_15613902974802299\"  style=\"position: relative; width: 400px; height: 300px\">\n",
       "        <p id=\"3dmolwarning_15613902974802299\" style=\"background-color:#ffcccc;color:black\">You appear to be running in JupyterLab (or JavaScript failed to load for some other reason).  You need to install the 3dmol extension: <br>\n",
       "        <tt>jupyter labextension install jupyterlab_3dmol</tt></p>\n",
       "        </div>\n",
       "<script>\n",
       "\n",
       "var loadScriptAsync = function(uri){\n",
       "  return new Promise((resolve, reject) => {\n",
       "    var tag = document.createElement('script');\n",
       "    tag.src = uri;\n",
       "    tag.async = true;\n",
       "    tag.onload = () => {\n",
       "      resolve();\n",
       "    };\n",
       "  var firstScriptTag = document.getElementsByTagName('script')[0];\n",
       "  firstScriptTag.parentNode.insertBefore(tag, firstScriptTag);\n",
       "});\n",
       "};\n",
       "\n",
       "if(typeof $3Dmolpromise === 'undefined') {\n",
       "$3Dmolpromise = null;\n",
       "  $3Dmolpromise = loadScriptAsync('https://3dmol.csb.pitt.edu/build/3Dmol.js');\n",
       "}\n",
       "\n",
       "var viewer_15613902974802299 = null;\n",
       "var warn = document.getElementById(\"3dmolwarning_15613902974802299\");\n",
       "if(warn) {\n",
       "    warn.parentNode.removeChild(warn);\n",
       "}\n",
       "$3Dmolpromise.then(function() {\n",
       "viewer_15613902974802299 = $3Dmol.createViewer($(\"#3dmolviewer_15613902974802299\"),{backgroundColor:\"white\"});\n",
       "\tviewer_15613902974802299.removeAllModels();\n",
       "\tviewer_15613902974802299.addModel(\"3IVX_FG6_A_302\\n     RDKit          3D\\n\\n 30 33  0  0  0  0  0  0  0  0999 V2000\\n   18.6710   11.0570   -0.9580 C   0  0  0  0  0  0  0  0  0  0  0  0\\n   16.1740   10.3380   -1.3780 N   0  0  0  0  0  0  0  0  0  0  0  0\\n   18.3150   12.1710   -0.5580 O   0  0  0  0  0  0  0  0  0  0  0  0\\n   17.6490   10.1280   -1.5980 C   0  0  0  0  0  0  0  0  0  0  0  0\\n   11.0750    9.7570   -5.0100 C   0  0  0  0  0  0  0  0  0  0  0  0\\n   17.0190   10.3670    1.2910 O   0  0  0  0  0  0  0  0  0  0  0  0\\n   15.1490   13.0720    3.7420 O   0  0  0  0  0  0  0  0  0  0  0  0\\n   17.0670   11.6710    3.5830 O   0  0  0  0  0  0  0  0  0  0  0  0\\n   13.2690    8.7830    8.1850 C   0  0  0  0  0  0  0  0  0  0  0  0\\n   12.9810    7.7440    7.3010 C   0  0  0  0  0  0  0  0  0  0  0  0\\n   14.7120    9.8780   -4.7050 C   0  0  0  0  0  0  0  0  0  0  0  0\\n   13.8850    9.9210    7.6900 C   0  0  0  0  0  0  0  0  0  0  0  0\\n   13.3160    7.8940    5.9520 C   0  0  0  0  0  0  0  0  0  0  0  0\\n   15.7120    9.9650   -3.7420 C   0  0  0  0  0  0  0  0  0  0  0  0\\n   13.1110   10.3400   -2.9690 C   0  0  0  0  0  0  0  0  0  0  0  0\\n   14.7670   10.9740    5.7220 C   0  0  0  0  0  0  0  0  0  0  0  0\\n   14.1290   10.6380   -0.7250 C   0  0  0  0  0  0  0  0  0  0  0  0\\n   15.0740   11.3750    1.8160 N   0  0  0  0  0  0  0  0  0  0  0  0\\n   12.4620    9.9520   -5.3340 O   0  0  0  0  0  0  0  0  0  0  0  0\\n   14.3660    9.4720    4.2000 O   0  0  0  0  0  0  0  0  0  0  0  0\\n   15.8920   10.7650    0.9530 C   0  0  0  0  0  0  0  0  0  0  0  0\\n   13.3910   10.0610   -4.3290 C   0  0  0  0  0  0  0  0  0  0  0  0\\n   14.8640   10.6520    4.4470 C   0  0  0  0  0  0  0  0  0  0  0  0\\n   15.4110   10.5900   -0.3130 C   0  0  0  0  0  0  0  0  0  0  0  0\\n   14.1880    9.9990    6.3980 C   0  0  0  0  0  0  0  0  0  0  0  0\\n   14.1080   10.4150   -2.0560 C   0  0  0  0  0  0  0  0  0  0  0  0\\n   13.9070    9.0160    5.5280 C   0  0  0  0  0  0  0  0  0  0  0  0\\n   15.3880   10.2200   -2.4470 C   0  0  0  0  0  0  0  0  0  0  0  0\\n   15.5540   11.6840    3.4010 S   0  0  0  0  0  0  0  0  0  0  0  0\\n   19.8340   10.6020   -0.9190 O   0  0  0  0  0  0  0  0  0  0  0  0\\n  4  1  1  0\\n  1 30  2  0\\n  1  3  1  0\\n 28  2  1  0\\n  4  2  1  0\\n  2 24  1  0\\n 19  5  1  0\\n 21  6  2  0\\n 29  7  2  0\\n 29  8  2  0\\n 10  9  2  0\\n 12  9  1  0\\n 13 10  1  0\\n 11 22  2  0\\n 11 14  1  0\\n 25 12  2  0\\n 27 13  2  0\\n 14 28  2  0\\n 22 15  1  0\\n 15 26  2  0\\n 23 16  2  0\\n 16 25  1  0\\n 26 17  1  0\\n 17 24  2  0\\n 21 18  1  0\\n 18 29  1  0\\n 19 22  1  0\\n 20 23  1  0\\n 20 27  1  0\\n 24 21  1  0\\n 29 23  1  0\\n 27 25  1  0\\n 28 26  1  0\\nA    1\\nC\\nA    2\\nN\\nA    3\\nO\\nA    4\\nCA\\nA    5\\nCAA\\nA    6\\nOAC\\nA    7\\nOAD\\nA    8\\nOAE\\nA    9\\nCAG\\nA   10\\nCAH\\nA   11\\nCAI\\nA   12\\nCAJ\\nA   13\\nCAK\\nA   14\\nCAL\\nA   15\\nCAM\\nA   16\\nCAN\\nA   17\\nCAO\\nA   18\\nNAQ\\nA   19\\nOAR\\nA   20\\nOAS\\nA   21\\nCAU\\nA   22\\nCAV\\nA   23\\nCAW\\nA   24\\nCAX\\nA   25\\nCAY\\nA   26\\nCAZ\\nA   27\\nCBA\\nA   28\\nCBB\\nA   29\\nSBD\\nA   30\\nOXT\\nM  END\\n\",\"sdf\");\n",
       "\tviewer_15613902974802299.addModel(\"\\n     RDKit          3D\\n\\n 30 33  0  0  0  0  0  0  0  0999 V2000\\n   10.9689   10.1208   -4.6177 C   0  0  0  0  0  0  0  0  0  0  0  0\\n   12.3267   10.0393   -5.0381 O   0  0  0  0  0  0  0  0  0  0  0  0\\n   13.4261   10.0630   -4.1676 C   0  0  0  0  0  0  0  0  0  0  0  0\\n   14.7224    9.9791   -4.7246 C   0  0  0  0  0  0  0  0  0  0  0  0\\n   15.8645   10.0001   -3.9049 C   0  0  0  0  0  0  0  0  0  0  0  0\\n   15.6809   10.0991   -2.5223 C   0  0  0  0  0  0  0  0  0  0  0  0\\n   14.4260   10.1849   -1.9797 C   0  0  0  0  0  0  0  0  0  0  0  0\\n   13.2750   10.1712   -2.7640 C   0  0  0  0  0  0  0  0  0  0  0  0\\n   14.5654   10.3050   -0.6162 C   0  0  0  0  0  0  0  0  0  0  0  0\\n   15.9399   10.2920   -0.3811 C   0  0  0  0  0  0  0  0  0  0  0  0\\n   16.5530   10.4689    0.9554 C   0  0  0  0  0  0  0  0  0  0  0  0\\n   17.7288   10.9106    1.0550 O   0  0  0  0  0  0  0  0  0  0  0  0\\n   15.8085   10.1652    2.1420 N   0  0  0  0  0  0  0  0  0  0  0  0\\n   16.4576   10.4622    3.7205 S   0  0  0  0  0  0  0  0  0  0  0  0\\n   16.7418   11.9305    3.8694 O   0  0  0  0  0  0  0  0  0  0  0  0\\n   17.7221    9.6728    3.9095 O   0  0  0  0  0  0  0  0  0  0  0  0\\n   15.2867    9.9750    4.9299 C   0  0  0  0  0  0  0  0  0  0  0  0\\n   15.1641   10.5353    6.1968 C   0  0  0  0  0  0  0  0  0  0  0  0\\n   14.1292    9.8354    6.7727 C   0  0  0  0  0  0  0  0  0  0  0  0\\n   13.5446    9.9425    8.0325 C   0  0  0  0  0  0  0  0  0  0  0  0\\n   12.4832    9.0698    8.3372 C   0  0  0  0  0  0  0  0  0  0  0  0\\n   12.0386    8.1237    7.3858 C   0  0  0  0  0  0  0  0  0  0  0  0\\n   12.6513    8.0420    6.1213 C   0  0  0  0  0  0  0  0  0  0  0  0\\n   13.6990    8.9187    5.8494 C   0  0  0  0  0  0  0  0  0  0  0  0\\n   14.4020    9.0119    4.7476 O   0  0  0  0  0  0  0  0  0  0  0  0\\n   16.6223   10.1495   -1.5539 N   0  0  0  0  0  0  0  0  0  0  0  0\\n   18.0766   10.0863   -1.7479 C   0  0  0  0  0  0  0  0  0  0  0  0\\n   18.6563   11.4552   -1.9376 C   0  0  0  0  0  0  0  0  0  0  0  0\\n   19.8967   11.5848   -2.1145 O   0  0  0  0  0  0  0  0  0  0  0  0\\n   17.8386   12.5824   -1.9211 O   0  0  0  0  0  0  0  0  0  0  0  0\\n  1  2  1  0\\n  2  3  1  0\\n  3  4  2  0\\n  4  5  1  0\\n  5  6  2  0\\n  6  7  1  0\\n  7  8  2  0\\n  7  9  1  0\\n  9 10  2  0\\n 10 11  1  0\\n 11 12  2  0\\n 11 13  1  0\\n 13 14  1  0\\n 14 15  2  0\\n 14 16  2  0\\n 14 17  1  0\\n 17 18  2  0\\n 18 19  1  0\\n 19 20  2  0\\n 20 21  1  0\\n 21 22  2  0\\n 22 23  1  0\\n 23 24  2  0\\n 24 25  1  0\\n 10 26  1  0\\n 26 27  1  0\\n 27 28  1  0\\n 28 29  2  0\\n 28 30  1  0\\n  8  3  1  0\\n 25 17  1  0\\n 26  6  1  0\\n 24 19  1  0\\nM  END\\n\",\"sdf\");\n",
       "\tviewer_15613902974802299.setStyle({\"stick\": {}});\n",
       "\tviewer_15613902974802299.setBackgroundColor(\"0xeeeeee\");\n",
       "\tviewer_15613902974802299.zoomTo();\n",
       "viewer_15613902974802299.render();\n",
       "});\n",
       "</script>"
      ]
     },
     "metadata": {},
     "output_type": "display_data"
    }
   ],
   "source": [
    "print(\"RMS frags: %.3f, Energy: %s\" % (AllChem.AlignMol(frags_3d, best_constrainedopt), best_constrainedopt.GetProp(\"Energy\")))\n",
    "drawit((hung_3IVX, best_constrainedopt))"
   ]
  },
  {
   "cell_type": "markdown",
   "metadata": {},
   "source": [
    "# An alternate option?\n",
    "\n",
    "One of the issues with the constrained embedding was forcing atoms to match precisely the positions of the core atoms. \n",
    "\n",
    "If we relax this procedure slightly, will we produce lower energy conformers, that more closely match the active conformation than either of the two procedures above? \n",
    "\n",
    "To do this, we modify the function `ConstainedEmbed` to taken an additional argument `tdist`, that determines the maximum distance of the atoms to the positions of the core atoms i.e. the amount of slack we permit in the system.\n",
    "The implementation for this function, `ConstrainedEmbed_Slack`, can be found in utils.py."
   ]
  },
  {
   "cell_type": "markdown",
   "metadata": {},
   "source": [
    "We're not sure exactly what value of `tdist` to use, so let's perform a quick search over posible values to see how it varies. Note `tdist=0` corresponds to the original `ConstrainedEmbed` function."
   ]
  },
  {
   "cell_type": "code",
   "execution_count": 16,
   "metadata": {},
   "outputs": [
    {
     "name": "stdout",
     "output_type": "stream",
     "text": [
      "DIST:  0.0\n",
      "RMS Full Mol\t- Mean: 0.62,\tMin: 0.17,\tMax: 0.89\n",
      "RMS Fragments\t- Mean: 0.09,\tMin: 0.08,\tMax: 0.09\n",
      "Energy\t\t- Mean: 140.6,\tMin: 133.6,\tMax: 147.1\n",
      "\n",
      "DIST:  0.1\n",
      "RMS Full Mol\t- Mean: 0.60,\tMin: 0.18,\tMax: 0.83\n",
      "RMS Fragments\t- Mean: 0.14,\tMin: 0.12,\tMax: 0.14\n",
      "Energy\t\t- Mean: 132.8,\tMin: 126.3,\tMax: 138.2\n",
      "\n",
      "DIST:  0.25\n",
      "RMS Full Mol\t- Mean: 0.59,\tMin: 0.22,\tMax: 0.94\n",
      "RMS Fragments\t- Mean: 0.22,\tMin: 0.21,\tMax: 0.23\n",
      "Energy\t\t- Mean: 126.9,\tMin: 122.1,\tMax: 133.3\n",
      "\n",
      "DIST:  0.5\n",
      "RMS Full Mol\t- Mean: 0.70,\tMin: 0.37,\tMax: 1.14\n",
      "RMS Fragments\t- Mean: 0.36,\tMin: 0.35,\tMax: 0.40\n",
      "Energy\t\t- Mean: 123.2,\tMin: 119.9,\tMax: 142.3\n",
      "\n",
      "DIST:  0.75\n",
      "RMS Full Mol\t- Mean: 0.86,\tMin: 0.54,\tMax: 1.39\n",
      "RMS Fragments\t- Mean: 0.51,\tMin: 0.48,\tMax: 0.59\n",
      "Energy\t\t- Mean: 122.0,\tMin: 119.1,\tMax: 154.4\n",
      "\n",
      "DIST:  1.0\n",
      "RMS Full Mol\t- Mean: 0.91,\tMin: 0.57,\tMax: 1.30\n",
      "RMS Fragments\t- Mean: 0.62,\tMin: 0.51,\tMax: 0.68\n",
      "Energy\t\t- Mean: 121.8,\tMin: 118.6,\tMax: 127.3\n",
      "\n"
     ]
    }
   ],
   "source": [
    "for dist in [0.0, 0.1, 0.25, 0.5, 0.75, 1.0]:\n",
    "    print(\"DIST: \", dist)\n",
    "\n",
    "    rms_full_list = []\n",
    "    rms_frags_list = []\n",
    "    cenergy_list = []\n",
    "\n",
    "    np.random.seed(seed=42)\n",
    "    for seed in [int(x) for x in np.random.randint(1,100001, 50)]:\n",
    "        # Generate conformer\n",
    "        nm = Chem.MolFromSmiles(hung_3IVX_noinfo)\n",
    "        nm = Chem.AddHs(nm)\n",
    "        ConstrainedEmbed_Slack(nm,frags_3d,randomseed=seed,tdist=dist)\n",
    "        cenergy = AllChem.UFFGetMoleculeForceField(nm).CalcEnergy()\n",
    "        nm = Chem.RemoveHs(nm)\n",
    "        \n",
    "        # Analyse conformer\n",
    "        rms_full = AllChem.AlignMol(nm, hung_3IVX)\n",
    "        match = nm.GetSubstructMatch(frags_3d)\n",
    "        if not match:\n",
    "            raise ValueError(\"molecule doesn't match the core\")\n",
    "        algMap = [(j, i) for i, j in enumerate(match)]\n",
    "        rms_frags = AllChem.AlignMol(nm, frags_3d, atomMap=algMap) # Note we could access this directly with rms_frags = float(nm.GetProp('EmbedRMS'))\n",
    "\n",
    "        rms_full_list.append(rms_full)\n",
    "        rms_frags_list.append(rms_frags)\n",
    "        cenergy_list.append(cenergy)\n",
    "        \n",
    "        # Record best for dist ==0.75\n",
    "        if dist == 0.75:\n",
    "            if rms_full == min(rms_full_list):\n",
    "                best_constrained_flex = Chem.Mol(nm)\n",
    "                best_constrained_flex.SetProp(\"Energy\", \"%.1f\" % cenergy)\n",
    "\n",
    "    print(\"RMS Full Mol\\t- Mean: %.2f,\\tMin: %.2f,\\tMax: %.2f\" % (np.mean(rms_full_list), min(rms_full_list), max(rms_full_list)))\n",
    "    print(\"RMS Fragments\\t- Mean: %.2f,\\tMin: %.2f,\\tMax: %.2f\" % (np.mean(rms_frags_list), min(rms_frags_list), max(rms_frags_list)))\n",
    "    print(\"Energy\\t\\t- Mean: %.1f,\\tMin: %.1f,\\tMax: %.1f\" % (np.mean(cenergy_list), min(cenergy_list), max(cenergy_list)))\n",
    "    print()"
   ]
  },
  {
   "cell_type": "markdown",
   "metadata": {},
   "source": [
    "As we increase the value of `tdist` the RMSDs increase, but the energies increase, exhibiting the desired behaviour.\n",
    "\n",
    "For all values of `tdist` of at least 0.5, the energies of the conformers is in line with the unconstrained conformer generation, or the constained conformer generation that was followed by a subsequent unconstained optimisation step.\n",
    "\n",
    "However, the RMSDs are substantiall lower than both options. Let's visualise the best conformer with `tdist==0.75`"
   ]
  },
  {
   "cell_type": "code",
   "execution_count": 17,
   "metadata": {},
   "outputs": [
    {
     "name": "stdout",
     "output_type": "stream",
     "text": [
      "RMS: 0.537, Energy: 120.0\n"
     ]
    },
    {
     "data": {
      "application/3dmoljs_load.v0": "<div id=\"3dmolviewer_15613903334519572\"  style=\"position: relative; width: 400px; height: 300px\">\n        <p id=\"3dmolwarning_15613903334519572\" style=\"background-color:#ffcccc;color:black\">You appear to be running in JupyterLab (or JavaScript failed to load for some other reason).  You need to install the 3dmol extension: <br>\n        <tt>jupyter labextension install jupyterlab_3dmol</tt></p>\n        </div>\n<script>\n\nvar loadScriptAsync = function(uri){\n  return new Promise((resolve, reject) => {\n    var tag = document.createElement('script');\n    tag.src = uri;\n    tag.async = true;\n    tag.onload = () => {\n      resolve();\n    };\n  var firstScriptTag = document.getElementsByTagName('script')[0];\n  firstScriptTag.parentNode.insertBefore(tag, firstScriptTag);\n});\n};\n\nif(typeof $3Dmolpromise === 'undefined') {\n$3Dmolpromise = null;\n  $3Dmolpromise = loadScriptAsync('https://3dmol.csb.pitt.edu/build/3Dmol.js');\n}\n\nvar viewer_15613903334519572 = null;\nvar warn = document.getElementById(\"3dmolwarning_15613903334519572\");\nif(warn) {\n    warn.parentNode.removeChild(warn);\n}\n$3Dmolpromise.then(function() {\nviewer_15613903334519572 = $3Dmol.createViewer($(\"#3dmolviewer_15613903334519572\"),{backgroundColor:\"white\"});\n\tviewer_15613903334519572.removeAllModels();\n\tviewer_15613903334519572.addModel(\"3IVX_FG6_A_302\\n     RDKit          3D\\n\\n 30 33  0  0  0  0  0  0  0  0999 V2000\\n   18.6710   11.0570   -0.9580 C   0  0  0  0  0  0  0  0  0  0  0  0\\n   16.1740   10.3380   -1.3780 N   0  0  0  0  0  0  0  0  0  0  0  0\\n   18.3150   12.1710   -0.5580 O   0  0  0  0  0  0  0  0  0  0  0  0\\n   17.6490   10.1280   -1.5980 C   0  0  0  0  0  0  0  0  0  0  0  0\\n   11.0750    9.7570   -5.0100 C   0  0  0  0  0  0  0  0  0  0  0  0\\n   17.0190   10.3670    1.2910 O   0  0  0  0  0  0  0  0  0  0  0  0\\n   15.1490   13.0720    3.7420 O   0  0  0  0  0  0  0  0  0  0  0  0\\n   17.0670   11.6710    3.5830 O   0  0  0  0  0  0  0  0  0  0  0  0\\n   13.2690    8.7830    8.1850 C   0  0  0  0  0  0  0  0  0  0  0  0\\n   12.9810    7.7440    7.3010 C   0  0  0  0  0  0  0  0  0  0  0  0\\n   14.7120    9.8780   -4.7050 C   0  0  0  0  0  0  0  0  0  0  0  0\\n   13.8850    9.9210    7.6900 C   0  0  0  0  0  0  0  0  0  0  0  0\\n   13.3160    7.8940    5.9520 C   0  0  0  0  0  0  0  0  0  0  0  0\\n   15.7120    9.9650   -3.7420 C   0  0  0  0  0  0  0  0  0  0  0  0\\n   13.1110   10.3400   -2.9690 C   0  0  0  0  0  0  0  0  0  0  0  0\\n   14.7670   10.9740    5.7220 C   0  0  0  0  0  0  0  0  0  0  0  0\\n   14.1290   10.6380   -0.7250 C   0  0  0  0  0  0  0  0  0  0  0  0\\n   15.0740   11.3750    1.8160 N   0  0  0  0  0  0  0  0  0  0  0  0\\n   12.4620    9.9520   -5.3340 O   0  0  0  0  0  0  0  0  0  0  0  0\\n   14.3660    9.4720    4.2000 O   0  0  0  0  0  0  0  0  0  0  0  0\\n   15.8920   10.7650    0.9530 C   0  0  0  0  0  0  0  0  0  0  0  0\\n   13.3910   10.0610   -4.3290 C   0  0  0  0  0  0  0  0  0  0  0  0\\n   14.8640   10.6520    4.4470 C   0  0  0  0  0  0  0  0  0  0  0  0\\n   15.4110   10.5900   -0.3130 C   0  0  0  0  0  0  0  0  0  0  0  0\\n   14.1880    9.9990    6.3980 C   0  0  0  0  0  0  0  0  0  0  0  0\\n   14.1080   10.4150   -2.0560 C   0  0  0  0  0  0  0  0  0  0  0  0\\n   13.9070    9.0160    5.5280 C   0  0  0  0  0  0  0  0  0  0  0  0\\n   15.3880   10.2200   -2.4470 C   0  0  0  0  0  0  0  0  0  0  0  0\\n   15.5540   11.6840    3.4010 S   0  0  0  0  0  0  0  0  0  0  0  0\\n   19.8340   10.6020   -0.9190 O   0  0  0  0  0  0  0  0  0  0  0  0\\n  4  1  1  0\\n  1 30  2  0\\n  1  3  1  0\\n 28  2  1  0\\n  4  2  1  0\\n  2 24  1  0\\n 19  5  1  0\\n 21  6  2  0\\n 29  7  2  0\\n 29  8  2  0\\n 10  9  2  0\\n 12  9  1  0\\n 13 10  1  0\\n 11 22  2  0\\n 11 14  1  0\\n 25 12  2  0\\n 27 13  2  0\\n 14 28  2  0\\n 22 15  1  0\\n 15 26  2  0\\n 23 16  2  0\\n 16 25  1  0\\n 26 17  1  0\\n 17 24  2  0\\n 21 18  1  0\\n 18 29  1  0\\n 19 22  1  0\\n 20 23  1  0\\n 20 27  1  0\\n 24 21  1  0\\n 29 23  1  0\\n 27 25  1  0\\n 28 26  1  0\\nA    1\\nC\\nA    2\\nN\\nA    3\\nO\\nA    4\\nCA\\nA    5\\nCAA\\nA    6\\nOAC\\nA    7\\nOAD\\nA    8\\nOAE\\nA    9\\nCAG\\nA   10\\nCAH\\nA   11\\nCAI\\nA   12\\nCAJ\\nA   13\\nCAK\\nA   14\\nCAL\\nA   15\\nCAM\\nA   16\\nCAN\\nA   17\\nCAO\\nA   18\\nNAQ\\nA   19\\nOAR\\nA   20\\nOAS\\nA   21\\nCAU\\nA   22\\nCAV\\nA   23\\nCAW\\nA   24\\nCAX\\nA   25\\nCAY\\nA   26\\nCAZ\\nA   27\\nCBA\\nA   28\\nCBB\\nA   29\\nSBD\\nA   30\\nOXT\\nM  END\\n\",\"sdf\");\n\tviewer_15613903334519572.addModel(\"\\n     RDKit          3D\\n\\n 30 33  0  0  0  0  0  0  0  0999 V2000\\n   11.0955   10.3258   -5.1378 C   0  0  0  0  0  0  0  0  0  0  0  0\\n   12.4371    9.8705   -5.2784 O   0  0  0  0  0  0  0  0  0  0  0  0\\n   13.3942    9.9026   -4.2537 C   0  0  0  0  0  0  0  0  0  0  0  0\\n   14.6847    9.3986   -4.5288 C   0  0  0  0  0  0  0  0  0  0  0  0\\n   15.6859    9.3937   -3.5418 C   0  0  0  0  0  0  0  0  0  0  0  0\\n   15.3687    9.9004   -2.2757 C   0  0  0  0  0  0  0  0  0  0  0  0\\n   14.1195   10.4006   -2.0119 C   0  0  0  0  0  0  0  0  0  0  0  0\\n   13.1066   10.4187   -2.9678 C   0  0  0  0  0  0  0  0  0  0  0  0\\n   14.1073   10.8380   -0.7085 C   0  0  0  0  0  0  0  0  0  0  0  0\\n   15.3834   10.5726   -0.2167 C   0  0  0  0  0  0  0  0  0  0  0  0\\n   15.8219   10.8979    1.1592 C   0  0  0  0  0  0  0  0  0  0  0  0\\n   16.7564   10.2435    1.6934 O   0  0  0  0  0  0  0  0  0  0  0  0\\n   15.1825   11.9507    1.8928 N   0  0  0  0  0  0  0  0  0  0  0  0\\n   15.5911   12.2974    3.5403 S   0  0  0  0  0  0  0  0  0  0  0  0\\n   14.9740   13.6114    3.9280 O   0  0  0  0  0  0  0  0  0  0  0  0\\n   17.0842   12.3886    3.6841 O   0  0  0  0  0  0  0  0  0  0  0  0\\n   14.9592   11.0353    4.5767 C   0  0  0  0  0  0  0  0  0  0  0  0\\n   14.9824   11.0586    5.9665 C   0  0  0  0  0  0  0  0  0  0  0  0\\n   14.3739    9.8797    6.3299 C   0  0  0  0  0  0  0  0  0  0  0  0\\n   14.0986    9.3443    7.5860 C   0  0  0  0  0  0  0  0  0  0  0  0\\n   13.4478    8.0975    7.6371 C   0  0  0  0  0  0  0  0  0  0  0  0\\n   13.0943    7.4251    6.4450 C   0  0  0  0  0  0  0  0  0  0  0  0\\n   13.3870    7.9943    5.1913 C   0  0  0  0  0  0  0  0  0  0  0  0\\n   14.0299    9.2299    5.1733 C   0  0  0  0  0  0  0  0  0  0  0  0\\n   14.3869    9.9336    4.1274 O   0  0  0  0  0  0  0  0  0  0  0  0\\n   16.1581    9.9925   -1.1795 N   0  0  0  0  0  0  0  0  0  0  0  0\\n   17.5712    9.6011   -1.0705 C   0  0  0  0  0  0  0  0  0  0  0  0\\n   18.4657   10.7956   -0.8918 C   0  0  0  0  0  0  0  0  0  0  0  0\\n   19.5563   10.6618   -0.2778 O   0  0  0  0  0  0  0  0  0  0  0  0\\n   18.1358   12.0408   -1.4221 O   0  0  0  0  0  0  0  0  0  0  0  0\\n  1  2  1  0\\n  2  3  1  0\\n  3  4  2  0\\n  4  5  1  0\\n  5  6  2  0\\n  6  7  1  0\\n  7  8  2  0\\n  7  9  1  0\\n  9 10  2  0\\n 10 11  1  0\\n 11 12  2  0\\n 11 13  1  0\\n 13 14  1  0\\n 14 15  2  0\\n 14 16  2  0\\n 14 17  1  0\\n 17 18  2  0\\n 18 19  1  0\\n 19 20  2  0\\n 20 21  1  0\\n 21 22  2  0\\n 22 23  1  0\\n 23 24  2  0\\n 24 25  1  0\\n 10 26  1  0\\n 26 27  1  0\\n 27 28  1  0\\n 28 29  2  0\\n 28 30  1  0\\n  8  3  1  0\\n 25 17  1  0\\n 26  6  1  0\\n 24 19  1  0\\nM  END\\n\",\"sdf\");\n\tviewer_15613903334519572.setStyle({\"stick\": {}});\n\tviewer_15613903334519572.setBackgroundColor(\"0xeeeeee\");\n\tviewer_15613903334519572.zoomTo();\nviewer_15613903334519572.render();\n});\n</script>",
      "text/html": [
       "<div id=\"3dmolviewer_15613903334519572\"  style=\"position: relative; width: 400px; height: 300px\">\n",
       "        <p id=\"3dmolwarning_15613903334519572\" style=\"background-color:#ffcccc;color:black\">You appear to be running in JupyterLab (or JavaScript failed to load for some other reason).  You need to install the 3dmol extension: <br>\n",
       "        <tt>jupyter labextension install jupyterlab_3dmol</tt></p>\n",
       "        </div>\n",
       "<script>\n",
       "\n",
       "var loadScriptAsync = function(uri){\n",
       "  return new Promise((resolve, reject) => {\n",
       "    var tag = document.createElement('script');\n",
       "    tag.src = uri;\n",
       "    tag.async = true;\n",
       "    tag.onload = () => {\n",
       "      resolve();\n",
       "    };\n",
       "  var firstScriptTag = document.getElementsByTagName('script')[0];\n",
       "  firstScriptTag.parentNode.insertBefore(tag, firstScriptTag);\n",
       "});\n",
       "};\n",
       "\n",
       "if(typeof $3Dmolpromise === 'undefined') {\n",
       "$3Dmolpromise = null;\n",
       "  $3Dmolpromise = loadScriptAsync('https://3dmol.csb.pitt.edu/build/3Dmol.js');\n",
       "}\n",
       "\n",
       "var viewer_15613903334519572 = null;\n",
       "var warn = document.getElementById(\"3dmolwarning_15613903334519572\");\n",
       "if(warn) {\n",
       "    warn.parentNode.removeChild(warn);\n",
       "}\n",
       "$3Dmolpromise.then(function() {\n",
       "viewer_15613903334519572 = $3Dmol.createViewer($(\"#3dmolviewer_15613903334519572\"),{backgroundColor:\"white\"});\n",
       "\tviewer_15613903334519572.removeAllModels();\n",
       "\tviewer_15613903334519572.addModel(\"3IVX_FG6_A_302\\n     RDKit          3D\\n\\n 30 33  0  0  0  0  0  0  0  0999 V2000\\n   18.6710   11.0570   -0.9580 C   0  0  0  0  0  0  0  0  0  0  0  0\\n   16.1740   10.3380   -1.3780 N   0  0  0  0  0  0  0  0  0  0  0  0\\n   18.3150   12.1710   -0.5580 O   0  0  0  0  0  0  0  0  0  0  0  0\\n   17.6490   10.1280   -1.5980 C   0  0  0  0  0  0  0  0  0  0  0  0\\n   11.0750    9.7570   -5.0100 C   0  0  0  0  0  0  0  0  0  0  0  0\\n   17.0190   10.3670    1.2910 O   0  0  0  0  0  0  0  0  0  0  0  0\\n   15.1490   13.0720    3.7420 O   0  0  0  0  0  0  0  0  0  0  0  0\\n   17.0670   11.6710    3.5830 O   0  0  0  0  0  0  0  0  0  0  0  0\\n   13.2690    8.7830    8.1850 C   0  0  0  0  0  0  0  0  0  0  0  0\\n   12.9810    7.7440    7.3010 C   0  0  0  0  0  0  0  0  0  0  0  0\\n   14.7120    9.8780   -4.7050 C   0  0  0  0  0  0  0  0  0  0  0  0\\n   13.8850    9.9210    7.6900 C   0  0  0  0  0  0  0  0  0  0  0  0\\n   13.3160    7.8940    5.9520 C   0  0  0  0  0  0  0  0  0  0  0  0\\n   15.7120    9.9650   -3.7420 C   0  0  0  0  0  0  0  0  0  0  0  0\\n   13.1110   10.3400   -2.9690 C   0  0  0  0  0  0  0  0  0  0  0  0\\n   14.7670   10.9740    5.7220 C   0  0  0  0  0  0  0  0  0  0  0  0\\n   14.1290   10.6380   -0.7250 C   0  0  0  0  0  0  0  0  0  0  0  0\\n   15.0740   11.3750    1.8160 N   0  0  0  0  0  0  0  0  0  0  0  0\\n   12.4620    9.9520   -5.3340 O   0  0  0  0  0  0  0  0  0  0  0  0\\n   14.3660    9.4720    4.2000 O   0  0  0  0  0  0  0  0  0  0  0  0\\n   15.8920   10.7650    0.9530 C   0  0  0  0  0  0  0  0  0  0  0  0\\n   13.3910   10.0610   -4.3290 C   0  0  0  0  0  0  0  0  0  0  0  0\\n   14.8640   10.6520    4.4470 C   0  0  0  0  0  0  0  0  0  0  0  0\\n   15.4110   10.5900   -0.3130 C   0  0  0  0  0  0  0  0  0  0  0  0\\n   14.1880    9.9990    6.3980 C   0  0  0  0  0  0  0  0  0  0  0  0\\n   14.1080   10.4150   -2.0560 C   0  0  0  0  0  0  0  0  0  0  0  0\\n   13.9070    9.0160    5.5280 C   0  0  0  0  0  0  0  0  0  0  0  0\\n   15.3880   10.2200   -2.4470 C   0  0  0  0  0  0  0  0  0  0  0  0\\n   15.5540   11.6840    3.4010 S   0  0  0  0  0  0  0  0  0  0  0  0\\n   19.8340   10.6020   -0.9190 O   0  0  0  0  0  0  0  0  0  0  0  0\\n  4  1  1  0\\n  1 30  2  0\\n  1  3  1  0\\n 28  2  1  0\\n  4  2  1  0\\n  2 24  1  0\\n 19  5  1  0\\n 21  6  2  0\\n 29  7  2  0\\n 29  8  2  0\\n 10  9  2  0\\n 12  9  1  0\\n 13 10  1  0\\n 11 22  2  0\\n 11 14  1  0\\n 25 12  2  0\\n 27 13  2  0\\n 14 28  2  0\\n 22 15  1  0\\n 15 26  2  0\\n 23 16  2  0\\n 16 25  1  0\\n 26 17  1  0\\n 17 24  2  0\\n 21 18  1  0\\n 18 29  1  0\\n 19 22  1  0\\n 20 23  1  0\\n 20 27  1  0\\n 24 21  1  0\\n 29 23  1  0\\n 27 25  1  0\\n 28 26  1  0\\nA    1\\nC\\nA    2\\nN\\nA    3\\nO\\nA    4\\nCA\\nA    5\\nCAA\\nA    6\\nOAC\\nA    7\\nOAD\\nA    8\\nOAE\\nA    9\\nCAG\\nA   10\\nCAH\\nA   11\\nCAI\\nA   12\\nCAJ\\nA   13\\nCAK\\nA   14\\nCAL\\nA   15\\nCAM\\nA   16\\nCAN\\nA   17\\nCAO\\nA   18\\nNAQ\\nA   19\\nOAR\\nA   20\\nOAS\\nA   21\\nCAU\\nA   22\\nCAV\\nA   23\\nCAW\\nA   24\\nCAX\\nA   25\\nCAY\\nA   26\\nCAZ\\nA   27\\nCBA\\nA   28\\nCBB\\nA   29\\nSBD\\nA   30\\nOXT\\nM  END\\n\",\"sdf\");\n",
       "\tviewer_15613903334519572.addModel(\"\\n     RDKit          3D\\n\\n 30 33  0  0  0  0  0  0  0  0999 V2000\\n   11.0955   10.3258   -5.1378 C   0  0  0  0  0  0  0  0  0  0  0  0\\n   12.4371    9.8705   -5.2784 O   0  0  0  0  0  0  0  0  0  0  0  0\\n   13.3942    9.9026   -4.2537 C   0  0  0  0  0  0  0  0  0  0  0  0\\n   14.6847    9.3986   -4.5288 C   0  0  0  0  0  0  0  0  0  0  0  0\\n   15.6859    9.3937   -3.5418 C   0  0  0  0  0  0  0  0  0  0  0  0\\n   15.3687    9.9004   -2.2757 C   0  0  0  0  0  0  0  0  0  0  0  0\\n   14.1195   10.4006   -2.0119 C   0  0  0  0  0  0  0  0  0  0  0  0\\n   13.1066   10.4187   -2.9678 C   0  0  0  0  0  0  0  0  0  0  0  0\\n   14.1073   10.8380   -0.7085 C   0  0  0  0  0  0  0  0  0  0  0  0\\n   15.3834   10.5726   -0.2167 C   0  0  0  0  0  0  0  0  0  0  0  0\\n   15.8219   10.8979    1.1592 C   0  0  0  0  0  0  0  0  0  0  0  0\\n   16.7564   10.2435    1.6934 O   0  0  0  0  0  0  0  0  0  0  0  0\\n   15.1825   11.9507    1.8928 N   0  0  0  0  0  0  0  0  0  0  0  0\\n   15.5911   12.2974    3.5403 S   0  0  0  0  0  0  0  0  0  0  0  0\\n   14.9740   13.6114    3.9280 O   0  0  0  0  0  0  0  0  0  0  0  0\\n   17.0842   12.3886    3.6841 O   0  0  0  0  0  0  0  0  0  0  0  0\\n   14.9592   11.0353    4.5767 C   0  0  0  0  0  0  0  0  0  0  0  0\\n   14.9824   11.0586    5.9665 C   0  0  0  0  0  0  0  0  0  0  0  0\\n   14.3739    9.8797    6.3299 C   0  0  0  0  0  0  0  0  0  0  0  0\\n   14.0986    9.3443    7.5860 C   0  0  0  0  0  0  0  0  0  0  0  0\\n   13.4478    8.0975    7.6371 C   0  0  0  0  0  0  0  0  0  0  0  0\\n   13.0943    7.4251    6.4450 C   0  0  0  0  0  0  0  0  0  0  0  0\\n   13.3870    7.9943    5.1913 C   0  0  0  0  0  0  0  0  0  0  0  0\\n   14.0299    9.2299    5.1733 C   0  0  0  0  0  0  0  0  0  0  0  0\\n   14.3869    9.9336    4.1274 O   0  0  0  0  0  0  0  0  0  0  0  0\\n   16.1581    9.9925   -1.1795 N   0  0  0  0  0  0  0  0  0  0  0  0\\n   17.5712    9.6011   -1.0705 C   0  0  0  0  0  0  0  0  0  0  0  0\\n   18.4657   10.7956   -0.8918 C   0  0  0  0  0  0  0  0  0  0  0  0\\n   19.5563   10.6618   -0.2778 O   0  0  0  0  0  0  0  0  0  0  0  0\\n   18.1358   12.0408   -1.4221 O   0  0  0  0  0  0  0  0  0  0  0  0\\n  1  2  1  0\\n  2  3  1  0\\n  3  4  2  0\\n  4  5  1  0\\n  5  6  2  0\\n  6  7  1  0\\n  7  8  2  0\\n  7  9  1  0\\n  9 10  2  0\\n 10 11  1  0\\n 11 12  2  0\\n 11 13  1  0\\n 13 14  1  0\\n 14 15  2  0\\n 14 16  2  0\\n 14 17  1  0\\n 17 18  2  0\\n 18 19  1  0\\n 19 20  2  0\\n 20 21  1  0\\n 21 22  2  0\\n 22 23  1  0\\n 23 24  2  0\\n 24 25  1  0\\n 10 26  1  0\\n 26 27  1  0\\n 27 28  1  0\\n 28 29  2  0\\n 28 30  1  0\\n  8  3  1  0\\n 25 17  1  0\\n 26  6  1  0\\n 24 19  1  0\\nM  END\\n\",\"sdf\");\n",
       "\tviewer_15613903334519572.setStyle({\"stick\": {}});\n",
       "\tviewer_15613903334519572.setBackgroundColor(\"0xeeeeee\");\n",
       "\tviewer_15613903334519572.zoomTo();\n",
       "viewer_15613903334519572.render();\n",
       "});\n",
       "</script>"
      ]
     },
     "metadata": {},
     "output_type": "display_data"
    }
   ],
   "source": [
    "print(\"RMS: %.3f, Energy: %s\" % (AllChem.AlignMol(best_constrained_flex, hung_3IVX), best_constrained_flex.GetProp(\"Energy\")))\n",
    "drawit((hung_3IVX, best_constrained_flex))"
   ]
  },
  {
   "cell_type": "markdown",
   "metadata": {},
   "source": [
    "# Conclusions\n",
    "\n",
    "We have seen how to use the RDKit function `ConstrainedEmbed` and examined the energies of the conformation produced. In addition, we have explored two distinct strategies for ensuring the conformers are not strained (according to your favourite force field).\n",
    "\n",
    "Unforunately, using `ConstrainedEmbed` with two distinct fragments, rather than a single connected subcomponent, is relatively brittle and results in conformers not able to be generated.\n",
    "\n",
    "In a future notebook, I will describe a method that is more robust to changes in the core of a molecule but still allows good 3D alignment at energies similar to unconstrained conformer generation."
   ]
  }
 ],
 "metadata": {
  "kernelspec": {
   "display_name": "Python36 (rdkit)",
   "language": "python",
   "name": "my-rdkit-env"
  },
  "language_info": {
   "codemirror_mode": {
    "name": "ipython",
    "version": 3
   },
   "file_extension": ".py",
   "mimetype": "text/x-python",
   "name": "python",
   "nbconvert_exporter": "python",
   "pygments_lexer": "ipython3",
   "version": "3.6.7"
  }
 },
 "nbformat": 4,
 "nbformat_minor": 2
}
