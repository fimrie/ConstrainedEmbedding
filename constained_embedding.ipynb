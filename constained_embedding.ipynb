{
 "cells": [
  {
   "cell_type": "markdown",
   "metadata": {},
   "source": [
    "# Constrained Embedding\n",
    "\n",
    "My recent work has explored deep generative models where the goal is to design a compound that is highly similar (in a 3D sense) to either the molecule you started with or two fragments.\n",
    "\n",
    "We have assessed 3D similarity by generating conformers of the generated molecules, and comparing them to a conformation of the original molecule/fragments via several metrics. This approach has both the advantage AND the disadvantage of the generated conformers being independent of the target conformer.\n",
    "\n",
    "I recently learnt about the RDKit function `AllChem.ConstrainedEmbed()`, which generates conformations where the positions of a set of atoms are constrained to match the coordinates of a template molecule.\n",
    "\n",
    "Greg has two blog posts about the function ([here](http://rdkit.blogspot.com/2013/12/using-allchemconstrainedembed.html) and [here](http://rdkit.blogspot.com/2019/01/more-on-constrained-embedding.html)) but I wanted to explore this in a little more detail and assess how realistic these conformers were and if it could be useful in assessing 3D similarity."
   ]
  },
  {
   "cell_type": "markdown",
   "metadata": {},
   "source": [
    "### Requirements\n",
    "\n",
    "The majority of this notebook uses rdkit and numpy only. At the end we will use py3Dmol to visualise some of the conformers. If you want to install this then skip this part/just look at our pretty pictures."
   ]
  },
  {
   "cell_type": "code",
   "execution_count": 1,
   "metadata": {},
   "outputs": [],
   "source": [
    "import numpy as np"
   ]
  },
  {
   "cell_type": "code",
   "execution_count": 3,
   "metadata": {},
   "outputs": [
    {
     "name": "stdout",
     "output_type": "stream",
     "text": [
      "2018.09.1\n"
     ]
    },
    {
     "ename": "NameError",
     "evalue": "name 'AllChem' is not defined",
     "output_type": "error",
     "traceback": [
      "\u001b[0;31m---------------------------------------------------------------------------\u001b[0m",
      "\u001b[0;31mNameError\u001b[0m                                 Traceback (most recent call last)",
      "\u001b[0;32m<ipython-input-3-3937c8c02daa>\u001b[0m in \u001b[0;36m<module>\u001b[0;34m\u001b[0m\n\u001b[1;32m      6\u001b[0m \u001b[0mprint\u001b[0m\u001b[0;34m(\u001b[0m\u001b[0mrdBase\u001b[0m\u001b[0;34m.\u001b[0m\u001b[0mrdkitVersion\u001b[0m\u001b[0;34m)\u001b[0m\u001b[0;34m\u001b[0m\u001b[0;34m\u001b[0m\u001b[0m\n\u001b[1;32m      7\u001b[0m \u001b[0;34m\u001b[0m\u001b[0m\n\u001b[0;32m----> 8\u001b[0;31m \u001b[0;32mfrom\u001b[0m \u001b[0mutils\u001b[0m \u001b[0;32mimport\u001b[0m \u001b[0;34m*\u001b[0m\u001b[0;34m\u001b[0m\u001b[0;34m\u001b[0m\u001b[0m\n\u001b[0m",
      "\u001b[0;32m~/constrained_embedding/utils.py\u001b[0m in \u001b[0;36m<module>\u001b[0;34m\u001b[0m\n\u001b[1;32m     41\u001b[0m \u001b[0;34m\u001b[0m\u001b[0m\n\u001b[1;32m     42\u001b[0m def ConstrainedEmbed_Slack(mol, core, useTethers=True, tdist=0.25, coreConfId=-1, randomseed=2342,\n\u001b[0;32m---> 43\u001b[0;31m                      getForceField=AllChem.UFFGetMoleculeForceField, **kwargs):\n\u001b[0m\u001b[1;32m     44\u001b[0m     \"\"\" generates an embedding of a molecule where part of the molecule\n\u001b[1;32m     45\u001b[0m     \u001b[0;32mis\u001b[0m \u001b[0mconstrained\u001b[0m \u001b[0mto\u001b[0m \u001b[0mhave\u001b[0m \u001b[0mparticular\u001b[0m \u001b[0mcoordinates\u001b[0m\u001b[0;34m\u001b[0m\u001b[0;34m\u001b[0m\u001b[0m\n",
      "\u001b[0;31mNameError\u001b[0m: name 'AllChem' is not defined"
     ]
    }
   ],
   "source": [
    "from rdkit import Chem\n",
    "from rdkit.Chem import AllChem\n",
    "from rdkit.Chem import Draw, rdMolAlign\n",
    "from rdkit.Chem.Draw import IPythonConsole\n",
    "from rdkit import rdBase\n",
    "print(rdBase.rdkitVersion)\n",
    "\n",
    "from utils import *"
   ]
  },
  {
   "cell_type": "markdown",
   "metadata": {},
   "source": [
    "We're going to work with an example of fragment linking<sup>1</sup>, extracted from the PDB. To keep it simple, we'll use only the PBD structure of the linked fragments [PDB ID 3IVX](https://www.rcsb.org/structure/3IVX) and assume the binding mode of the fragments is identical.\n",
    "\n",
    "[1. Hung et al., Application of Fragment Growing and Fragment Linking to the Discovery of Inhibitors of Mycobacterium tuberculosis Pantothenate Synthetase. Angew. Chem., Int. Ed. 2009, 48, 8452–8456.](https://onlinelibrary.wiley.com/doi/full/10.1002/anie.200903821)"
   ]
  },
  {
   "cell_type": "code",
   "execution_count": null,
   "metadata": {},
   "outputs": [],
   "source": [
    "hung_frags = \"COc1ccc2c(c1)cc([*:1])n2CC(=O)O.c1ccc2oc([*:2])cc2c1\"\n",
    "hung_3IVX = [x for x in Chem.SDMolSupplier(\"./3IVX_pdb_ligands.sdf\")][0]\n",
    "hung_3IVX_2d = Chem.Mol(hung_3IVX)\n",
    "_ = AllChem.Compute2DCoords(hung_3IVX_2d)\n",
    "\n",
    "hung_3IVX_noinfo = Chem.MolToSmiles(hung_3IVX)\n",
    "\n",
    "to_display = [Chem.MolFromSmiles(hung_frags), hung_3IVX_2d]\n",
    "\n",
    "Draw.MolsToGridImage(to_display,molsPerRow=4)"
   ]
  },
  {
   "cell_type": "markdown",
   "metadata": {},
   "source": [
    "Now let's get the 3D coordinates of the fragments, as these are what we want to compare our conformers of the full molecule to and the atoms we will use for our constrained embedding. We'll use a custom function `get_frags`, that accounts for multiple possible matches of the starting fragments.\n",
    "\n",
    "Once we've done this, let's check the alignment."
   ]
  },
  {
   "cell_type": "code",
   "execution_count": null,
   "metadata": {},
   "outputs": [],
   "source": [
    "du = Chem.MolFromSmiles('*')\n",
    "clean_frag = Chem.RemoveHs(AllChem.ReplaceSubstructs(Chem.MolFromSmiles(hung_frags),du,Chem.MolFromSmiles('[H]'),True)[0])\n",
    "frags_3d = get_frags(hung_3IVX, clean_frag)"
   ]
  },
  {
   "cell_type": "code",
   "execution_count": null,
   "metadata": {},
   "outputs": [],
   "source": [
    "rms = AllChem.AlignMol(frags_3d,hung_3IVX)\n",
    "print(\"RMS: %.3f\" % rms)\n",
    "Chem.SanitizeMol(frags_3d)\n",
    "Chem.SanitizeMol(hung_3IVX)"
   ]
  },
  {
   "cell_type": "markdown",
   "metadata": {},
   "source": [
    "### Unconstrained conformer generation\n",
    "\n",
    "Let's see how good conformer generation is when we impose no additional constraints on the embedding.\n",
    "\n",
    "The molecule has seven rotatable bonds, so 50 conformers should be enough to sample the conformational space effectively<sup>1</sup>.\n",
    "\n",
    "In these examples, we use RDKit's default embedding algorithm and UFF as our force field.\n",
    "    \n",
    "[1. Ebejer et al., Freely Available Conformer Generation Methods: How Good Are They? J. Chem. Inf. Model. 2012, 52, 1146–1158.](https://pubs.acs.org/doi/abs/10.1021/ci2004658)"
   ]
  },
  {
   "cell_type": "code",
   "execution_count": null,
   "metadata": {},
   "outputs": [],
   "source": [
    "num_confs = 50 # How many conformers should each method generate."
   ]
  },
  {
   "cell_type": "code",
   "execution_count": null,
   "metadata": {},
   "outputs": [],
   "source": [
    "rms_full_list = []\n",
    "rms_frags_list = []\n",
    "cenergy_list = []\n",
    "\n",
    "np.random.seed(seed=42)\n",
    "for seed in [int(x) for x in np.random.randint(1,100001, num_confs)]:\n",
    "    # Generate conformer\n",
    "    nm = Chem.MolFromSmiles(hung_3IVX_noinfo)\n",
    "    nm = Chem.AddHs(nm)\n",
    "    AllChem.EmbedMolecule(nm,randomSeed=seed)\n",
    "    AllChem.UFFOptimizeMolecule(nm)\n",
    "    cenergy = AllChem.UFFGetMoleculeForceField(nm).CalcEnergy()\n",
    "    nm = Chem.RemoveHs(nm)\n",
    "    \n",
    "    # Analyse conformer\n",
    "    rms_full = AllChem.AlignMol(nm, hung_3IVX) # Consider using AllChem.GetBestRMS(nm, hung_3IVX)\n",
    "    match = nm.GetSubstructMatch(frags_3d)\n",
    "    if not match:\n",
    "        raise ValueError(\"molecule doesn't match the core\")\n",
    "    algMap = [(j, i) for i, j in enumerate(match)]\n",
    "    rms_frags = AllChem.AlignMol(nm, frags_3d, atomMap=algMap)\n",
    "    \n",
    "    rms_full_list.append(rms_full)\n",
    "    rms_frags_list.append(rms_frags)\n",
    "    cenergy_list.append(cenergy)\n",
    "    \n",
    "    # Record best\n",
    "    if rms_full == min(rms_full_list):\n",
    "        best_unconstrained = Chem.Mol(nm)\n",
    "        best_unconstrained.SetProp(\"Energy\", \"%.1f\" % cenergy)\n",
    "    \n",
    "print(\"RMS Full Mol\\t- Mean: %.2f,\\tMin: %.2f,\\tMax: %.2f\" % (np.mean(rms_full_list), min(rms_full_list), max(rms_full_list)))\n",
    "print(\"RMS Fragments\\t- Mean: %.2f,\\tMin: %.2f,\\tMax: %.2f\" % (np.mean(rms_frags_list), min(rms_frags_list), max(rms_frags_list)))\n",
    "print(\"Energy\\t\\t- Mean: %.1f,\\tMin: %.1f,\\tMax: %.1f\" % (np.mean(cenergy_list), min(cenergy_list), max(cenergy_list)))"
   ]
  },
  {
   "cell_type": "markdown",
   "metadata": {},
   "source": [
    "A best RMSD of 1.07 Angstroms suggests some ability to sample conformers, but is still a fair way from optimal."
   ]
  },
  {
   "cell_type": "markdown",
   "metadata": {},
   "source": [
    "### Constrained Embedding\n",
    "\n",
    "Will a constrained embedding help us? Let's use the coordinates of the fragments to constrain the embedding of the molecule. "
   ]
  },
  {
   "cell_type": "code",
   "execution_count": null,
   "metadata": {},
   "outputs": [],
   "source": [
    "rms_full_list = []\n",
    "rms_frags_list = []\n",
    "cenergy_list = []\n",
    "\n",
    "np.random.seed(seed=42)\n",
    "for seed in [int(x) for x in np.random.randint(1,100001, num_confs)]:\n",
    "    # Generate conformer\n",
    "    nm = Chem.MolFromSmiles(hung_3IVX_noinfo)\n",
    "    nm = Chem.AddHs(nm)\n",
    "    AllChem.ConstrainedEmbed(nm,frags_3d,randomseed=seed)\n",
    "    cenergy = AllChem.UFFGetMoleculeForceField(nm).CalcEnergy()\n",
    "    nm = Chem.RemoveHs(nm)\n",
    "    \n",
    "    # Analyse conformer\n",
    "    rms_full = AllChem.AlignMol(nm, hung_3IVX)\n",
    "    match = nm.GetSubstructMatch(frags_3d)\n",
    "    if not match:\n",
    "        raise ValueError(\"molecule doesn't match the core\")\n",
    "    algMap = [(j, i) for i, j in enumerate(match)]\n",
    "    rms_frags = AllChem.AlignMol(nm, frags_3d, atomMap=algMap) # Note we could access this directly with rms_frags = float(nm.GetProp('EmbedRMS'))\n",
    "    \n",
    "    rms_full_list.append(rms_full)\n",
    "    rms_frags_list.append(rms_frags)\n",
    "    cenergy_list.append(cenergy)\n",
    "    \n",
    "    # Record best\n",
    "    if rms_full == min(rms_full_list):\n",
    "        best_constrained = Chem.Mol(nm)\n",
    "        best_constrained.SetProp(\"Energy\", \"%.1f\" % cenergy)\n",
    "    \n",
    "print(\"RMS Full Mol\\t- Mean: %.2f,\\tMin: %.2f,\\tMax: %.2f\" % (np.mean(rms_full_list), min(rms_full_list), max(rms_full_list)))\n",
    "print(\"RMS Fragments\\t- Mean: %.2f,\\tMin: %.2f,\\tMax: %.2f\" % (np.mean(rms_frags_list), min(rms_frags_list), max(rms_frags_list)))\n",
    "print(\"Energy\\t\\t- Mean: %.1f,\\tMin: %.1f,\\tMax: %.1f\" % (np.mean(cenergy_list), min(cenergy_list), max(cenergy_list)))"
   ]
  },
  {
   "cell_type": "markdown",
   "metadata": {},
   "source": [
    "These conformers are MUCH better, with the worst conformer more similar than the best unconstrained conformer, and the conformations of the fragments being almost identical to the reference molecule as a result of the additional constraints.\n",
    "\n",
    "However, note that the average energy has increased, suggesting some conformational strain. We would ideally like the conformers generated to be no more strained than in the unconstrained case, so let's try adding an additional minimisation step after performing the constrained embedding."
   ]
  },
  {
   "cell_type": "code",
   "execution_count": null,
   "metadata": {},
   "outputs": [],
   "source": []
  },
  {
   "cell_type": "code",
   "execution_count": null,
   "metadata": {},
   "outputs": [],
   "source": [
    "rms_full_list = []\n",
    "rms_frags_list = []\n",
    "cenergy_list = []\n",
    "\n",
    "np.random.seed(seed=42)\n",
    "for seed in [int(x) for x in np.random.randint(1,100001, num_confs)]:\n",
    "    # Generate conformer\n",
    "    nm = Chem.MolFromSmiles(hung_3IVX_noinfo)\n",
    "    nm = Chem.AddHs(nm)\n",
    "    AllChem.ConstrainedEmbed(nm,frags_3d,randomseed=seed)\n",
    "    AllChem.UFFOptimizeMolecule(nm)\n",
    "    cenergy = AllChem.UFFGetMoleculeForceField(nm).CalcEnergy()\n",
    "    nm = Chem.RemoveHs(nm)\n",
    "    \n",
    "    # Analyse conformer\n",
    "    rms_full = AllChem.AlignMol(nm, hung_3IVX)\n",
    "    match = nm.GetSubstructMatch(frags_3d)\n",
    "    if not match:\n",
    "        raise ValueError(\"molecule doesn't match the core\")\n",
    "    algMap = [(j, i) for i, j in enumerate(match)]\n",
    "    rms_frags = AllChem.AlignMol(nm, frags_3d, atomMap=algMap)\n",
    "    \n",
    "    rms_full_list.append(rms_full)\n",
    "    rms_frags_list.append(rms_frags)\n",
    "    cenergy_list.append(cenergy)\n",
    "    \n",
    "    # Record best\n",
    "    if rms_full == min(rms_full_list):\n",
    "        best_constrainedopt = Chem.Mol(nm)\n",
    "        best_constrainedopt.SetProp(\"Energy\", \"%.1f\" % cenergy)\n",
    "    \n",
    "print(\"RMS Full Mol\\t- Mean: %.2f,\\tMin: %.2f,\\tMax: %.2f\" % (np.mean(rms_full_list), min(rms_full_list), max(rms_full_list)))\n",
    "print(\"RMS Fragments\\t- Mean: %.2f,\\tMin: %.2f,\\tMax: %.2f\" % (np.mean(rms_frags_list), min(rms_frags_list), max(rms_frags_list)))\n",
    "print(\"Energy\\t\\t- Mean: %.1f,\\tMin: %.1f,\\tMax: %.1f\" % (np.mean(cenergy_list), min(cenergy_list), max(cenergy_list)))"
   ]
  },
  {
   "cell_type": "markdown",
   "metadata": {},
   "source": [
    "The RMSDs have naturally gotten worse, in particular the fragments, but the average RMSD is almost 1 Angstom lower than in the unconstrained case and crucially the average energy of the conformations now match the uncontrained generation.\n",
    "\n",
    "This suggests this is a valid way to bias the search of conformational space to the space that we're interested in, but if we add an additional minimisation step, will not produce strained conformers."
   ]
  },
  {
   "cell_type": "markdown",
   "metadata": {},
   "source": [
    "### Visualising\n",
    "\n",
    "If you have [py3dmol](https://pypi.org/project/py3Dmol/), let's take a look at the conformers themselves."
   ]
  },
  {
   "cell_type": "code",
   "execution_count": null,
   "metadata": {},
   "outputs": [],
   "source": [
    "import py3Dmol"
   ]
  },
  {
   "cell_type": "code",
   "execution_count": null,
   "metadata": {},
   "outputs": [],
   "source": [
    "def drawit(ms, p=None, confId=-1):\n",
    "        if p is None:\n",
    "            p = py3Dmol.view(width=400, height=300)\n",
    "        p.removeAllModels()\n",
    "        for m in ms:\n",
    "            mb = Chem.MolToMolBlock(m, confId=confId)\n",
    "            p.addModel(mb, 'sdf')\n",
    "        p.setStyle({'stick':{}})\n",
    "        p.setBackgroundColor('0xeeeeee')\n",
    "        p.zoomTo()\n",
    "        return p.show()"
   ]
  },
  {
   "cell_type": "markdown",
   "metadata": {},
   "source": [
    "This is the active conformation extracted from the PDB, together with the energy of the conformer under the UFF force field."
   ]
  },
  {
   "cell_type": "code",
   "execution_count": null,
   "metadata": {},
   "outputs": [],
   "source": [
    "print(\"Energy: %.1f\" % AllChem.UFFGetMoleculeForceField(hung_3IVX).CalcEnergy())\n",
    "drawit([hung_3IVX])"
   ]
  },
  {
   "cell_type": "markdown",
   "metadata": {},
   "source": [
    "Let's look at the best conformer through the unconstrained conformer generation."
   ]
  },
  {
   "cell_type": "code",
   "execution_count": null,
   "metadata": {},
   "outputs": [],
   "source": [
    "print(\"RMS frags: %.3f, Energy: %s\" % (AllChem.AlignMol(frags_3d, best_unconstrained), best_unconstrained.GetProp(\"Energy\")))\n",
    "drawit((hung_3IVX, best_unconstrained))"
   ]
  },
  {
   "cell_type": "code",
   "execution_count": null,
   "metadata": {},
   "outputs": [],
   "source": [
    "print(\"RMS frags: %.3f, Energy: %s\" % (AllChem.AlignMol(frags_3d, best_constrained), best_constrained.GetProp(\"Energy\")))\n",
    "drawit((hung_3IVX, best_constrained))"
   ]
  },
  {
   "cell_type": "code",
   "execution_count": null,
   "metadata": {},
   "outputs": [],
   "source": [
    "print(\"RMS frags: %.3f, Energy: %s\" % (AllChem.AlignMol(frags_3d, best_constrainedopt), best_constrainedopt.GetProp(\"Energy\")))\n",
    "drawit((hung_3IVX, best_constrainedopt))"
   ]
  },
  {
   "cell_type": "markdown",
   "metadata": {},
   "source": [
    "# An alternate option?\n",
    "\n",
    "One of the issues with the constrained embedding was forcing atoms to match precisely the positions of the core atoms. \n",
    "\n",
    "If we relax this procedure slightly, will we produce lower energy conformers, that more closely match the active conformation than either of the two procedures above? \n",
    "\n",
    "To do this, we modify the function `ConstainedEmbed` to taken an additional argument `tdist`, that determines the maximum distance of the atoms to the positions of the core atoms i.e. the amount of slack we permit in the system.\n",
    "The implementation for this function, `ConstrainedEmbed_Slack`, can be found in utils.py."
   ]
  },
  {
   "cell_type": "markdown",
   "metadata": {},
   "source": [
    "We're not sure exactly what value of `tdist` to use, so let's perform a quick search over posible values to see how it varies. Note `tdist=0` corresponds to the original `ConstrainedEmbed` function."
   ]
  },
  {
   "cell_type": "code",
   "execution_count": null,
   "metadata": {},
   "outputs": [],
   "source": [
    "for dist in [0.0, 0.1, 0.25, 0.5, 0.75, 1.0]:\n",
    "    print(\"DIST: \", dist)\n",
    "\n",
    "    rms_full_list = []\n",
    "    rms_frags_list = []\n",
    "    cenergy_list = []\n",
    "\n",
    "    np.random.seed(seed=42)\n",
    "    for seed in [int(x) for x in np.random.randint(1,100001, 50)]:\n",
    "        # Generate conformer\n",
    "        nm = Chem.MolFromSmiles(hung_3IVX_noinfo)\n",
    "        nm = Chem.AddHs(nm)\n",
    "        ConstrainedEmbed_Slack(nm,frags_3d,randomseed=seed,tdist=dist)\n",
    "        cenergy = AllChem.UFFGetMoleculeForceField(nm).CalcEnergy()\n",
    "        nm = Chem.RemoveHs(nm)\n",
    "        \n",
    "        # Analyse conformer\n",
    "        rms_full = AllChem.AlignMol(nm, hung_3IVX)\n",
    "        match = nm.GetSubstructMatch(frags_3d)\n",
    "        if not match:\n",
    "            raise ValueError(\"molecule doesn't match the core\")\n",
    "        algMap = [(j, i) for i, j in enumerate(match)]\n",
    "        rms_frags = AllChem.AlignMol(nm, frags_3d, atomMap=algMap) # Note we could access this directly with rms_frags = float(nm.GetProp('EmbedRMS'))\n",
    "\n",
    "        rms_full_list.append(rms_full)\n",
    "        rms_frags_list.append(rms_frags)\n",
    "        cenergy_list.append(cenergy)\n",
    "        \n",
    "        # Record best for dist ==0.75\n",
    "        if dist == 0.75:\n",
    "            if rms_full == min(rms_full_list):\n",
    "                best_constrained_flex = Chem.Mol(nm)\n",
    "                best_constrained_flex.SetProp(\"Energy\", \"%.1f\" % cenergy)\n",
    "\n",
    "    print(\"RMS Full Mol\\t- Mean: %.2f,\\tMin: %.2f,\\tMax: %.2f\" % (np.mean(rms_full_list), min(rms_full_list), max(rms_full_list)))\n",
    "    print(\"RMS Fragments\\t- Mean: %.2f,\\tMin: %.2f,\\tMax: %.2f\" % (np.mean(rms_frags_list), min(rms_frags_list), max(rms_frags_list)))\n",
    "    print(\"Energy\\t\\t- Mean: %.1f,\\tMin: %.1f,\\tMax: %.1f\" % (np.mean(cenergy_list), min(cenergy_list), max(cenergy_list)))\n",
    "    print()"
   ]
  },
  {
   "cell_type": "markdown",
   "metadata": {},
   "source": [
    "As we increase the value of `tdist` the RMSDs increase, but the energies increase, exhibiting the desired behaviour.\n",
    "\n",
    "For all values of `tdist` of at least 0.5, the energies of the conformers is in line with the unconstrained conformer generation, or the constained conformer generation that was followed by a subsequent unconstained optimisation step.\n",
    "\n",
    "However, the RMSDs are substantiall lower than both options. Let's visualise the best conformer with `tdist==0.75`"
   ]
  },
  {
   "cell_type": "code",
   "execution_count": null,
   "metadata": {},
   "outputs": [],
   "source": [
    "print(\"RMS: %.3f, Energy: %s\" % (AllChem.AlignMol(best_constrained_flex, hung_3IVX), best_constrained_flex.GetProp(\"Energy\")))\n",
    "drawit((hung_3IVX, best_constrained_flex))"
   ]
  },
  {
   "cell_type": "markdown",
   "metadata": {},
   "source": [
    "# Conclusions\n",
    "\n",
    "We have seen how to use the RDKit function `ConstrainedEmbed` and examined the energies of the conformation produced. In addition, we have explored two distinct strategies for ensuring the conformers are not strained (according to your favourite force field).\n",
    "\n",
    "Unforunately, using `ConstrainedEmbed` with two distinct fragments, rather than a single connected subcomponent, is relatively brittle and results in conformers not able to be generated.\n",
    "\n",
    "In a future notebook, I will describe a method that is more robust to changes in the core of a molecule but still allows good 3D alignment at energies similar to unconstrained conformer generation."
   ]
  }
 ],
 "metadata": {
  "kernelspec": {
   "display_name": "Python36 (rdkit)",
   "language": "python",
   "name": "my-rdkit-env"
  },
  "language_info": {
   "codemirror_mode": {
    "name": "ipython",
    "version": 3
   },
   "file_extension": ".py",
   "mimetype": "text/x-python",
   "name": "python",
   "nbconvert_exporter": "python",
   "pygments_lexer": "ipython3",
   "version": "3.6.7"
  }
 },
 "nbformat": 4,
 "nbformat_minor": 2
}
