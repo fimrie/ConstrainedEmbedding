{
 "cells": [
  {
   "cell_type": "markdown",
   "metadata": {},
   "source": [
    "# Robust Constrained Embedding\n",
    "\n",
    "In a [previous notebook](https://nbviewer.jupyter.org/github/fimrie/ConstrainedEmbedding/blob/master/constrained_embedding.ipynb), I discussed the RDKit function `AllChem.ConstrainedEmbed()`, which generates conformations where the positions of a set of atoms are constrained to match the coordinates of a template molecule.\n",
    "\n",
    "There I discussed how to use the RDKit function `ConstrainedEmbed` and examined the energies of the conformation produced. In addition, I demonstrated two distinct strategies for ensuring the conformers are not strained (according to your favourite force field).\n",
    "\n",
    "Unforunately, using `ConstrainedEmbed` with two distinct fragments, rather than a single connected subcomponent, is relatively brittle and results in conformers not able to be generated.\n",
    "\n",
    "In this notebook, I will describe a method that is more robust to changes in the core of a molecule but still allows good 3D alignment at energies similar to unconstrained conformer generation."
   ]
  },
  {
   "cell_type": "markdown",
   "metadata": {},
   "source": [
    "### Requirements\n",
    "\n",
    "The majority of this notebook uses rdkit and numpy only. At the end we will use py3Dmol to visualise some of the conformers. If you want to install this then skip this part/just look at our pretty pictures."
   ]
  },
  {
   "cell_type": "code",
   "execution_count": 1,
   "metadata": {},
   "outputs": [],
   "source": [
    "import numpy as np"
   ]
  },
  {
   "cell_type": "code",
   "execution_count": 2,
   "metadata": {},
   "outputs": [
    {
     "name": "stdout",
     "output_type": "stream",
     "text": [
      "2018.09.1\n"
     ]
    }
   ],
   "source": [
    "from rdkit import Chem\n",
    "from rdkit.Chem import AllChem\n",
    "from rdkit.Chem import Draw, rdMolAlign\n",
    "from rdkit.Chem.Draw import IPythonConsole\n",
    "from rdkit import rdBase\n",
    "print(rdBase.rdkitVersion)\n",
    "\n",
    "from utils import *"
   ]
  },
  {
   "cell_type": "markdown",
   "metadata": {},
   "source": [
    "We're going to use a different example to last time. This is a synthetic example based on [PDB ID 3ARP](https://www.rcsb.org/structure/3ARP), a complex of dequalinium with chitinase A,<sup>1</sup>. \n",
    "\n",
    "We have 'snipped up' the molecule into two fragments and a linker, as you can see below.\n",
    "\n",
    "[1. Pantoom, S. et al., Potent family-18 chitinase inhibitors: x-ray structures, affinities, and binding mechanisms, J. Biol. Chem., 2011, 286, 24312-24323.](http://www.jbc.org/content/286/27/24312)"
   ]
  },
  {
   "cell_type": "code",
   "execution_count": 3,
   "metadata": {},
   "outputs": [
    {
     "name": "stdout",
     "output_type": "stream",
     "text": [
      "Cc1cc(N)c2ccccc2[n+]1CCCCCCCCCC[n+]1c(C)cc(N)c2ccccc21\n",
      "11\n"
     ]
    },
    {
     "data": {
      "image/png": "[encoded data removed]",
      "text/plain": [
       "<PIL.PngImagePlugin.PngImageFile image mode=RGB size=800x200 at 0x7F947D646470>"
      ]
     },
     "execution_count": 3,
     "metadata": {},
     "output_type": "execute_result"
    }
   ],
   "source": [
    "# 3ARP\n",
    "deq_frags = \"Cc1cc(N)c2ccccc2[n+]1CCC[*:1].[*:2][n+]1c(C)cc(N)c2ccccc21\"\n",
    "deq_linker = \"[*:1]CCCCCCC[*:2]\"\n",
    "deq_3ARP = [x for x in Chem.SDMolSupplier(\"./3ARP_pdb_ligands.sdf\")][0]\n",
    "print(Chem.MolToSmiles(deq_3ARP))\n",
    "print(Chem.rdMolDescriptors.CalcNumRotatableBonds(deq_3ARP))\n",
    "deq_3ARP_2d = Chem.Mol(deq_3ARP)\n",
    "_ = AllChem.Compute2DCoords(deq_3ARP_2d)\n",
    "\n",
    "deq_3ARP_noinfo = Chem.MolToSmiles(deq_3ARP)\n",
    "\n",
    "to_display = [Chem.MolFromSmiles(deq_frags), Chem.MolFromSmiles(deq_linker), deq_3ARP_2d]\n",
    "\n",
    "Draw.MolsToGridImage(to_display,molsPerRow=4)"
   ]
  },
  {
   "cell_type": "markdown",
   "metadata": {},
   "source": [
    "Now let's get the 3D coordinates of the fragments, as these are what we want to compare our conformers of the full molecule to and the atoms we will use for our constrained embedding. We'll use a custom function `get_frags`, that accounts for multiple possible matches of the starting fragments.\n",
    "\n",
    "Once we've done this, let's check the alignment."
   ]
  },
  {
   "cell_type": "code",
   "execution_count": 4,
   "metadata": {},
   "outputs": [
    {
     "name": "stderr",
     "output_type": "stream",
     "text": [
      "RDKit WARNING: [18:50:01] WARNING: not removing hydrogen atom without neighbors\n"
     ]
    }
   ],
   "source": [
    "du = Chem.MolFromSmiles('*')\n",
    "clean_frag = Chem.RemoveHs(AllChem.ReplaceSubstructs(Chem.MolFromSmiles(deq_frags),du,Chem.MolFromSmiles('[H]'),True)[0])\n",
    "frags_3d = get_frags(deq_3ARP, clean_frag)"
   ]
  },
  {
   "cell_type": "code",
   "execution_count": 5,
   "metadata": {},
   "outputs": [
    {
     "name": "stdout",
     "output_type": "stream",
     "text": [
      "RMS: 0.000\n"
     ]
    },
    {
     "data": {
      "text/plain": [
       "rdkit.Chem.rdmolops.SanitizeFlags.SANITIZE_NONE"
      ]
     },
     "execution_count": 5,
     "metadata": {},
     "output_type": "execute_result"
    }
   ],
   "source": [
    "rms = AllChem.AlignMol(frags_3d,deq_3ARP)\n",
    "print(\"RMS: %.3f\" % rms)\n",
    "Chem.SanitizeMol(frags_3d)\n",
    "Chem.SanitizeMol(deq_3ARP)"
   ]
  },
  {
   "cell_type": "markdown",
   "metadata": {},
   "source": [
    "## Conformer generation\n",
    "\n",
    "As before, we could generate conformers a look at the similarity to the active conformation and various energies. \n",
    "\n",
    "However, what if we're interested in a molecule that is <i>almost</i> the same, but with a one atom shorter linker."
   ]
  },
  {
   "cell_type": "code",
   "execution_count": 6,
   "metadata": {},
   "outputs": [
    {
     "name": "stdout",
     "output_type": "stream",
     "text": [
      "10\n"
     ]
    },
    {
     "data": {
      "image/png": "[encoded data removed]",
      "text/plain": [
       "<PIL.PngImagePlugin.PngImageFile image mode=RGB size=600x200 at 0x7F947D635C88>"
      ]
     },
     "execution_count": 6,
     "metadata": {},
     "output_type": "execute_result"
    }
   ],
   "source": [
    "candidate_mol = Chem.MolFromSmiles(\"Cc1cc(N)c2ccccc2[n+]1CCCCCCCCC[n+]1c(C)cc(N)c2ccccc21\")\n",
    "\n",
    "print(Chem.rdMolDescriptors.CalcNumRotatableBonds(candidate_mol))\n",
    "\n",
    "Draw.MolsToGridImage([candidate_mol])"
   ]
  },
  {
   "cell_type": "markdown",
   "metadata": {},
   "source": [
    "### Unconstrained conformer generation\n",
    "\n",
    "As before let's see how good conformer generation is when we impose no additional constraints on the embedding. Note that in our assessment we can't compare directly to the active conformation of the original molecule, but only the position of the fragments.\n",
    "\n",
    "The molecule has ten rotatable bonds, so we should use 200 conformers to be confident of a reasonable answer<sup>1</sup>.\n",
    "    \n",
    "[1. Ebejer et al., Freely Available Conformer Generation Methods: How Good Are They? J. Chem. Inf. Model. 2012, 52, 1146–1158.](https://pubs.acs.org/doi/abs/10.1021/ci2004658)"
   ]
  },
  {
   "cell_type": "code",
   "execution_count": 7,
   "metadata": {},
   "outputs": [],
   "source": [
    "num_confs = 200 # Use 50 if this is too slow."
   ]
  },
  {
   "cell_type": "code",
   "execution_count": 8,
   "metadata": {},
   "outputs": [
    {
     "name": "stdout",
     "output_type": "stream",
     "text": [
      "RMS Fragments\t- Mean: 2.35,\tMin: 1.21,\tMax: 4.36\n",
      "Energy\t\t- Mean: 93.3,\tMin: 89.4,\tMax: 103.5\n"
     ]
    }
   ],
   "source": [
    "rms_frags_list = []\n",
    "cenergy_list = []\n",
    "\n",
    "np.random.seed(seed=42)\n",
    "for seed in [int(x) for x in np.random.randint(1,100001, num_confs)]:\n",
    "    # Generate conformer\n",
    "    nm = Chem.Mol(candidate_mol)\n",
    "    nm = Chem.AddHs(nm)\n",
    "    AllChem.EmbedMolecule(nm,randomSeed=seed)\n",
    "    AllChem.UFFOptimizeMolecule(nm)\n",
    "    cenergy = AllChem.UFFGetMoleculeForceField(nm).CalcEnergy()\n",
    "    nm = Chem.RemoveHs(nm)\n",
    "    \n",
    "    # Analyse conformer\n",
    "    match = nm.GetSubstructMatch(frags_3d)\n",
    "    if not match:\n",
    "        raise ValueError(\"molecule doesn't match the core\")\n",
    "    algMap = [(j, i) for i, j in enumerate(match)]\n",
    "    rms_frags = AllChem.AlignMol(nm, frags_3d, atomMap=algMap)\n",
    "    \n",
    "    rms_frags_list.append(rms_frags)\n",
    "    cenergy_list.append(cenergy)\n",
    "    \n",
    "    # Record best\n",
    "    if rms_frags == min(rms_frags_list):\n",
    "        best_unconstrained = Chem.Mol(nm)\n",
    "        best_unconstrained.SetProp(\"Energy\", \"%.1f\" % cenergy)\n",
    "    \n",
    "print(\"RMS Fragments\\t- Mean: %.2f,\\tMin: %.2f,\\tMax: %.2f\" % (np.mean(rms_frags_list), min(rms_frags_list), max(rms_frags_list)))\n",
    "print(\"Energy\\t\\t- Mean: %.1f,\\tMin: %.1f,\\tMax: %.1f\" % (np.mean(cenergy_list), min(cenergy_list), max(cenergy_list)))"
   ]
  },
  {
   "cell_type": "markdown",
   "metadata": {},
   "source": [
    "A best RMSD of 1.21 Angstoms suggests that the candidate compound could be suitable to maintain the binding pose of the fragments. However, can it make a closer match?"
   ]
  },
  {
   "cell_type": "markdown",
   "metadata": {},
   "source": [
    "### Constrained Embedding\n",
    "\n",
    "As before, let's see if a constrained embedding will help us."
   ]
  },
  {
   "cell_type": "code",
   "execution_count": 9,
   "metadata": {},
   "outputs": [
    {
     "name": "stderr",
     "output_type": "stream",
     "text": [
      "RDKit WARNING: [18:50:41] Could not triangle bounds smooth molecule.\n"
     ]
    },
    {
     "ename": "ValueError",
     "evalue": "Could not embed molecule.",
     "output_type": "error",
     "traceback": [
      "\u001b[0;31m---------------------------------------------------------------------------\u001b[0m",
      "\u001b[0;31mValueError\u001b[0m                                Traceback (most recent call last)",
      "\u001b[0;32m<ipython-input-9-eff1b84e6d7c>\u001b[0m in \u001b[0;36m<module>\u001b[0;34m\u001b[0m\n\u001b[1;32m      7\u001b[0m     \u001b[0mnm\u001b[0m \u001b[0;34m=\u001b[0m \u001b[0mChem\u001b[0m\u001b[0;34m.\u001b[0m\u001b[0mMol\u001b[0m\u001b[0;34m(\u001b[0m\u001b[0mcandidate_mol\u001b[0m\u001b[0;34m)\u001b[0m\u001b[0;34m\u001b[0m\u001b[0;34m\u001b[0m\u001b[0m\n\u001b[1;32m      8\u001b[0m     \u001b[0mnm\u001b[0m \u001b[0;34m=\u001b[0m \u001b[0mChem\u001b[0m\u001b[0;34m.\u001b[0m\u001b[0mAddHs\u001b[0m\u001b[0;34m(\u001b[0m\u001b[0mnm\u001b[0m\u001b[0;34m)\u001b[0m\u001b[0;34m\u001b[0m\u001b[0;34m\u001b[0m\u001b[0m\n\u001b[0;32m----> 9\u001b[0;31m     \u001b[0mAllChem\u001b[0m\u001b[0;34m.\u001b[0m\u001b[0mConstrainedEmbed\u001b[0m\u001b[0;34m(\u001b[0m\u001b[0mnm\u001b[0m\u001b[0;34m,\u001b[0m\u001b[0mfrags_3d\u001b[0m\u001b[0;34m,\u001b[0m\u001b[0mrandomseed\u001b[0m\u001b[0;34m=\u001b[0m\u001b[0mseed\u001b[0m\u001b[0;34m)\u001b[0m\u001b[0;34m\u001b[0m\u001b[0;34m\u001b[0m\u001b[0m\n\u001b[0m\u001b[1;32m     10\u001b[0m     \u001b[0mcenergy\u001b[0m \u001b[0;34m=\u001b[0m \u001b[0mAllChem\u001b[0m\u001b[0;34m.\u001b[0m\u001b[0mUFFGetMoleculeForceField\u001b[0m\u001b[0;34m(\u001b[0m\u001b[0mnm\u001b[0m\u001b[0;34m)\u001b[0m\u001b[0;34m.\u001b[0m\u001b[0mCalcEnergy\u001b[0m\u001b[0;34m(\u001b[0m\u001b[0;34m)\u001b[0m\u001b[0;34m\u001b[0m\u001b[0;34m\u001b[0m\u001b[0m\n\u001b[1;32m     11\u001b[0m     \u001b[0mnm\u001b[0m \u001b[0;34m=\u001b[0m \u001b[0mChem\u001b[0m\u001b[0;34m.\u001b[0m\u001b[0mRemoveHs\u001b[0m\u001b[0;34m(\u001b[0m\u001b[0mnm\u001b[0m\u001b[0;34m)\u001b[0m\u001b[0;34m\u001b[0m\u001b[0;34m\u001b[0m\u001b[0m\n",
      "\u001b[0;32m~/miniconda3/envs/my-rdkit-env/lib/python3.6/site-packages/rdkit/Chem/AllChem.py\u001b[0m in \u001b[0;36mConstrainedEmbed\u001b[0;34m(mol, core, useTethers, coreConfId, randomseed, getForceField, **kwargs)\u001b[0m\n\u001b[1;32m    300\u001b[0m   \u001b[0mci\u001b[0m \u001b[0;34m=\u001b[0m \u001b[0mEmbedMolecule\u001b[0m\u001b[0;34m(\u001b[0m\u001b[0mmol\u001b[0m\u001b[0;34m,\u001b[0m \u001b[0mcoordMap\u001b[0m\u001b[0;34m=\u001b[0m\u001b[0mcoordMap\u001b[0m\u001b[0;34m,\u001b[0m \u001b[0mrandomSeed\u001b[0m\u001b[0;34m=\u001b[0m\u001b[0mrandomseed\u001b[0m\u001b[0;34m,\u001b[0m \u001b[0;34m**\u001b[0m\u001b[0mkwargs\u001b[0m\u001b[0;34m)\u001b[0m\u001b[0;34m\u001b[0m\u001b[0;34m\u001b[0m\u001b[0m\n\u001b[1;32m    301\u001b[0m   \u001b[0;32mif\u001b[0m \u001b[0mci\u001b[0m \u001b[0;34m<\u001b[0m \u001b[0;36m0\u001b[0m\u001b[0;34m:\u001b[0m\u001b[0;34m\u001b[0m\u001b[0;34m\u001b[0m\u001b[0m\n\u001b[0;32m--> 302\u001b[0;31m     \u001b[0;32mraise\u001b[0m \u001b[0mValueError\u001b[0m\u001b[0;34m(\u001b[0m\u001b[0;34m'Could not embed molecule.'\u001b[0m\u001b[0;34m)\u001b[0m\u001b[0;34m\u001b[0m\u001b[0;34m\u001b[0m\u001b[0m\n\u001b[0m\u001b[1;32m    303\u001b[0m \u001b[0;34m\u001b[0m\u001b[0m\n\u001b[1;32m    304\u001b[0m   \u001b[0malgMap\u001b[0m \u001b[0;34m=\u001b[0m \u001b[0;34m[\u001b[0m\u001b[0;34m(\u001b[0m\u001b[0mj\u001b[0m\u001b[0;34m,\u001b[0m \u001b[0mi\u001b[0m\u001b[0;34m)\u001b[0m \u001b[0;32mfor\u001b[0m \u001b[0mi\u001b[0m\u001b[0;34m,\u001b[0m \u001b[0mj\u001b[0m \u001b[0;32min\u001b[0m \u001b[0menumerate\u001b[0m\u001b[0;34m(\u001b[0m\u001b[0mmatch\u001b[0m\u001b[0;34m)\u001b[0m\u001b[0;34m]\u001b[0m\u001b[0;34m\u001b[0m\u001b[0;34m\u001b[0m\u001b[0m\n",
      "\u001b[0;31mValueError\u001b[0m: Could not embed molecule."
     ]
    }
   ],
   "source": [
    "rms_frags_list = []\n",
    "cenergy_list = []\n",
    "\n",
    "np.random.seed(seed=42)\n",
    "for seed in [int(x) for x in np.random.randint(1,100001, num_confs)]:\n",
    "    # Generate conformer\n",
    "    nm = Chem.Mol(candidate_mol)\n",
    "    nm = Chem.AddHs(nm)\n",
    "    AllChem.ConstrainedEmbed(nm,frags_3d,randomseed=seed)\n",
    "    cenergy = AllChem.UFFGetMoleculeForceField(nm).CalcEnergy()\n",
    "    nm = Chem.RemoveHs(nm)\n",
    "    \n",
    "    # Analyse conformer\n",
    "    match = nm.GetSubstructMatch(frags_3d)\n",
    "    if not match:\n",
    "        raise ValueError(\"molecule doesn't match the core\")\n",
    "    algMap = [(j, i) for i, j in enumerate(match)]\n",
    "    rms_frags = AllChem.AlignMol(nm, frags_3d, atomMap=algMap) # Note we could access this directly with rms_frags = float(nm.GetProp('EmbedRMS'))\n",
    "    \n",
    "    rms_frags_list.append(rms_frags)\n",
    "    cenergy_list.append(cenergy)\n",
    "    \n",
    "    # Record best\n",
    "    if rms_frags == min(rms_frags_list):\n",
    "        best_constrained = Chem.Mol(nm)\n",
    "        best_constrained.SetProp(\"Energy\", \"%.1f\" % cenergy)\n",
    "    \n",
    "print(\"RMS Fragments\\t- Mean: %.2f,\\tMin: %.2f,\\tMax: %.2f\" % (np.mean(rms_frags_list), min(rms_frags_list), max(rms_frags_list)))\n",
    "print(\"Energy\\t\\t- Mean: %.1f,\\tMin: %.1f,\\tMax: %.1f\" % (np.mean(cenergy_list), min(cenergy_list), max(cenergy_list)))"
   ]
  },
  {
   "cell_type": "markdown",
   "metadata": {},
   "source": [
    "As mentioned before, the `ConstrainedEmbed` function can be a little brittle. Just removing a single carbon makes the initial embedding fail."
   ]
  },
  {
   "cell_type": "markdown",
   "metadata": {},
   "source": [
    "## Rough Constrained Embed\n",
    "\n",
    "To solve this, we propose the new function, `RoughConstrainedEmbed`. This works very similarly to `ConstrainedEmbed`, but allows for more tolerence when performing the intial embedding. This procedure can still fail (as we will see later), but allows non-identical molecules to be embedded with constrains much more often than with `ConstrainedEmbed`.\n",
    "\n",
    "The code is based heavily on `ConstrainedEmbed`, but incorporates the additional parameter `tdist` introduced in the previous notebook. The difference in the procedure is that instead of constraining the atoms on the initial embedding, we generate an arbitrary initial embedding, and then optimise the conformer with the additional distance constraints. "
   ]
  },
  {
   "cell_type": "code",
   "execution_count": 10,
   "metadata": {},
   "outputs": [],
   "source": [
    "def RoughConstrainedEmbed(mol, core, tdist=0.25, randomseed=2342,\n",
    "                          getForceField=AllChem.UFFGetMoleculeForceField, **kwargs):\n",
    "    \"\"\" generates an embedding of a molecule where part of the molecule\n",
    "    is constrained to have particular coordinates\n",
    "    Arguments\n",
    "      - mol: the molecule to embed\n",
    "      - core: the molecule to use as a source of constraints\n",
    "      - randomSeed: (optional) seed for the random number generator\n",
    "    \"\"\"\n",
    "    match = mol.GetSubstructMatch(core)\n",
    "    if not match:\n",
    "        raise ValueError(\"molecule doesn't match the core\")\n",
    "\n",
    "    ci = AllChem.EmbedMolecule(mol, randomSeed=randomseed, **kwargs)\n",
    "    if ci < 0:\n",
    "        raise ValueError('Could not embed molecule.')\n",
    "\n",
    "    algMap = [(j, i) for i, j in enumerate(match)]\n",
    "\n",
    "    # rotate the embedded conformation onto the core:\n",
    "    rms = AllChem.AlignMol(mol, core, atomMap=algMap)\n",
    "    ff = getForceField(mol, confId=0)\n",
    "    conf = core.GetConformer()\n",
    "    for i in range(core.GetNumAtoms()):\n",
    "        p = conf.GetAtomPosition(i)\n",
    "        pIdx = ff.AddExtraPoint(p.x, p.y, p.z, fixed=True) - 1\n",
    "        ff.AddDistanceConstraint(pIdx, match[i], 0, tdist, 100.)\n",
    "    ff.Initialize()\n",
    "    n = 4\n",
    "    more = ff.Minimize(energyTol=1e-4, forceTol=1e-3)\n",
    "    while more and n:\n",
    "        more = ff.Minimize(energyTol=1e-4, forceTol=1e-3)\n",
    "        n -= 1\n",
    "    # realign\n",
    "    rms = AllChem.AlignMol(mol, core, atomMap=algMap)\n",
    "    mol.SetProp('EmbedRMS', str(rms))\n",
    "    return mol"
   ]
  },
  {
   "cell_type": "markdown",
   "metadata": {},
   "source": [
    "As before, let's explore this procedure across a range of values for `tdist`. To speed things up, we'll only generate 50 conformers, rather than 200 as we did above."
   ]
  },
  {
   "cell_type": "code",
   "execution_count": 11,
   "metadata": {},
   "outputs": [
    {
     "name": "stdout",
     "output_type": "stream",
     "text": [
      "50 conformers\n",
      "\n",
      "DIST:  0.0\n",
      "RMS Fragments\t- Mean: 0.10,\tMin: 0.07,\tMax: 0.28\n",
      "Energy\t\t- Mean: 114.8,\tMin: 101.4,\tMax: 142.2\n",
      "\n",
      "DIST:  0.1\n",
      "RMS Fragments\t- Mean: 0.14,\tMin: 0.12,\tMax: 0.29\n",
      "Energy\t\t- Mean: 108.6,\tMin: 92.8,\tMax: 129.1\n",
      "\n",
      "DIST:  0.25\n",
      "RMS Fragments\t- Mean: 0.25,\tMin: 0.21,\tMax: 0.35\n",
      "Energy\t\t- Mean: 101.6,\tMin: 91.4,\tMax: 112.4\n",
      "\n",
      "DIST:  0.5\n",
      "RMS Fragments\t- Mean: 0.44,\tMin: 0.34,\tMax: 0.49\n",
      "Energy\t\t- Mean: 98.3,\tMin: 89.9,\tMax: 118.5\n",
      "\n",
      "DIST:  0.75\n",
      "RMS Fragments\t- Mean: 0.60,\tMin: 0.49,\tMax: 0.70\n",
      "Energy\t\t- Mean: 96.2,\tMin: 88.5,\tMax: 106.7\n",
      "\n",
      "DIST:  1.0\n",
      "RMS Fragments\t- Mean: 0.75,\tMin: 0.55,\tMax: 0.96\n",
      "Energy\t\t- Mean: 94.9,\tMin: 87.2,\tMax: 113.5\n",
      "\n"
     ]
    }
   ],
   "source": [
    "print(\"50 conformers\\n\")\n",
    "\n",
    "for dist in [0.0, 0.1, 0.25, 0.5, 0.75, 1.0]:\n",
    "    print(\"DIST: \", dist)\n",
    "    rms_frags_list = []\n",
    "    cenergy_list = []\n",
    "\n",
    "    np.random.seed(seed=42)\n",
    "    for seed in [int(x) for x in np.random.randint(1,100001, 50)]:\n",
    "        # Generate conformer\n",
    "        nm = Chem.Mol(candidate_mol)\n",
    "        nm = Chem.AddHs(nm)\n",
    "        RoughConstrainedEmbed(nm,frags_3d,randomseed=seed,tdist=dist)\n",
    "        cenergy = AllChem.UFFGetMoleculeForceField(nm).CalcEnergy()\n",
    "        nm = Chem.RemoveHs(nm)\n",
    "        \n",
    "        # Anaylse conformer\n",
    "        match = nm.GetSubstructMatch(frags_3d)\n",
    "        if not match:\n",
    "            raise ValueError(\"molecule doesn't match the core\")\n",
    "        algMap = [(j, i) for i, j in enumerate(match)]\n",
    "        rms_frags = AllChem.AlignMol(nm, frags_3d, atomMap=algMap)\n",
    "\n",
    "        rms_frags_list.append(rms_frags)\n",
    "        cenergy_list.append(cenergy)\n",
    "        \n",
    "        # Record best for dist ==0.75\n",
    "        if dist == 0.75:\n",
    "            if rms_frags == min(rms_frags_list):\n",
    "                best_constrained_flex = Chem.Mol(nm)\n",
    "                best_constrained_flex.SetProp(\"Energy\", \"%.1f\" % cenergy)\n",
    "\n",
    "    print(\"RMS Fragments\\t- Mean: %.2f,\\tMin: %.2f,\\tMax: %.2f\" % (np.mean(rms_frags_list), min(rms_frags_list), max(rms_frags_list)))\n",
    "    print(\"Energy\\t\\t- Mean: %.1f,\\tMin: %.1f,\\tMax: %.1f\" % (np.mean(cenergy_list), min(cenergy_list), max(cenergy_list)))\n",
    "    print()"
   ]
  },
  {
   "cell_type": "markdown",
   "metadata": {},
   "source": [
    "As before, the conformers with small values of `tdist` have the best RMSDs, but the highest energies.\n",
    "\n",
    "As we increase the value of `tdist` the RMSDs increase, but the energies decrease, exhibiting the desired behaviour.\n",
    "\n",
    "Similarly to before, for all values of `tdist` of at least 0.5, the energies of the conformers is in line with the unconstrained conformer generation.\n",
    "\n",
    "However, the RMSDs are substantially lower than the unconstrained case, despite generating 25% as many conformers."
   ]
  },
  {
   "cell_type": "markdown",
   "metadata": {},
   "source": [
    "This process can be made even more efficient, with limited impact on the generated conformers. \n",
    "\n",
    "Even when generating only 20 conformers, the 3D similarity is substantially better than when generating 200 in the unconstrained setting. Additionally, reducing the number of conformers generated from 50 to 20 doesn't substantially impact performance."
   ]
  },
  {
   "cell_type": "code",
   "execution_count": 12,
   "metadata": {},
   "outputs": [
    {
     "name": "stdout",
     "output_type": "stream",
     "text": [
      "20 conformers\n",
      "\n",
      "DIST:  0.0\n",
      "RMS Fragments\t- Mean: 0.09,\tMin: 0.07,\tMax: 0.27\n",
      "Energy\t\t- Mean: 114.1,\tMin: 104.4,\tMax: 128.5\n",
      "\n",
      "DIST:  0.1\n",
      "RMS Fragments\t- Mean: 0.14,\tMin: 0.12,\tMax: 0.29\n",
      "Energy\t\t- Mean: 110.5,\tMin: 98.7,\tMax: 129.1\n",
      "\n",
      "DIST:  0.25\n",
      "RMS Fragments\t- Mean: 0.25,\tMin: 0.21,\tMax: 0.35\n",
      "Energy\t\t- Mean: 101.3,\tMin: 91.4,\tMax: 112.0\n",
      "\n",
      "DIST:  0.5\n",
      "RMS Fragments\t- Mean: 0.43,\tMin: 0.34,\tMax: 0.49\n",
      "Energy\t\t- Mean: 98.0,\tMin: 92.1,\tMax: 108.3\n",
      "\n",
      "DIST:  0.75\n",
      "RMS Fragments\t- Mean: 0.61,\tMin: 0.54,\tMax: 0.69\n",
      "Energy\t\t- Mean: 96.3,\tMin: 90.1,\tMax: 106.7\n",
      "\n",
      "DIST:  1.0\n",
      "RMS Fragments\t- Mean: 0.75,\tMin: 0.59,\tMax: 0.96\n",
      "Energy\t\t- Mean: 94.8,\tMin: 87.2,\tMax: 103.3\n",
      "\n"
     ]
    }
   ],
   "source": [
    "print(\"20 conformers\\n\")\n",
    "\n",
    "for dist in [0.0, 0.1, 0.25, 0.5, 0.75, 1.0]:\n",
    "    print(\"DIST: \", dist)\n",
    "    rms_frags_list = []\n",
    "    cenergy_list = []\n",
    "\n",
    "    np.random.seed(seed=42)\n",
    "    for seed in [int(x) for x in np.random.randint(1,100001, 20)]:\n",
    "        # Generate conformer\n",
    "        nm = Chem.Mol(candidate_mol)\n",
    "        nm = Chem.AddHs(nm)\n",
    "        RoughConstrainedEmbed(nm,frags_3d,randomseed=seed,tdist=dist)\n",
    "        cenergy = AllChem.UFFGetMoleculeForceField(nm).CalcEnergy()\n",
    "        nm = Chem.RemoveHs(nm)\n",
    "        \n",
    "        # Anaylse conformer\n",
    "        match = nm.GetSubstructMatch(frags_3d)\n",
    "        if not match:\n",
    "            raise ValueError(\"molecule doesn't match the core\")\n",
    "        algMap = [(j, i) for i, j in enumerate(match)]\n",
    "        rms_frags = AllChem.AlignMol(nm, frags_3d, atomMap=algMap)\n",
    "\n",
    "        rms_frags_list.append(rms_frags)\n",
    "        cenergy_list.append(cenergy)\n",
    "\n",
    "    print(\"RMS Fragments\\t- Mean: %.2f,\\tMin: %.2f,\\tMax: %.2f\" % (np.mean(rms_frags_list), min(rms_frags_list), max(rms_frags_list)))\n",
    "    print(\"Energy\\t\\t- Mean: %.1f,\\tMin: %.1f,\\tMax: %.1f\" % (np.mean(cenergy_list), min(cenergy_list), max(cenergy_list)))\n",
    "    print()"
   ]
  },
  {
   "cell_type": "markdown",
   "metadata": {},
   "source": [
    "# Visualisation\n",
    "\n",
    "Now let's visualise the best unconstrained conformer out of the 200 generated, as well as the best constrained conformer with `tdist==0.75` when sampling 50 conformers."
   ]
  },
  {
   "cell_type": "code",
   "execution_count": 13,
   "metadata": {},
   "outputs": [],
   "source": [
    "import py3Dmol"
   ]
  },
  {
   "cell_type": "code",
   "execution_count": 14,
   "metadata": {},
   "outputs": [],
   "source": [
    "def drawit(ms, p=None, confId=-1):\n",
    "        if p is None:\n",
    "            p = py3Dmol.view(width=400, height=300)\n",
    "        p.removeAllModels()\n",
    "        for m in ms:\n",
    "            mb = Chem.MolToMolBlock(m, confId=confId)\n",
    "            p.addModel(mb, 'sdf')\n",
    "        p.setStyle({'stick':{}})\n",
    "        p.setBackgroundColor('0xeeeeee')\n",
    "        p.zoomTo()\n",
    "        return p.show()"
   ]
  },
  {
   "cell_type": "markdown",
   "metadata": {},
   "source": [
    "This is the active conformation extracted from the PDB, together with the energy of the conformer under the UFF force field."
   ]
  },
  {
   "cell_type": "code",
   "execution_count": 15,
   "metadata": {},
   "outputs": [
    {
     "name": "stdout",
     "output_type": "stream",
     "text": [
      "Energy: 113.6\n"
     ]
    },
    {
     "data": {
      "application/3dmoljs_load.v0": "<div id=\"3dmolviewer_15613989485433533\"  style=\"position: relative; width: 400px; height: 300px\">\n        <p id=\"3dmolwarning_15613989485433533\" style=\"background-color:#ffcccc;color:black\">You appear to be running in JupyterLab (or JavaScript failed to load for some other reason).  You need to install the 3dmol extension: <br>\n        <tt>jupyter labextension install jupyterlab_3dmol</tt></p>\n        </div>\n<script>\n\nvar loadScriptAsync = function(uri){\n  return new Promise((resolve, reject) => {\n    var tag = document.createElement('script');\n    tag.src = uri;\n    tag.async = true;\n    tag.onload = () => {\n      resolve();\n    };\n  var firstScriptTag = document.getElementsByTagName('script')[0];\n  firstScriptTag.parentNode.insertBefore(tag, firstScriptTag);\n});\n};\n\nif(typeof $3Dmolpromise === 'undefined') {\n$3Dmolpromise = null;\n  $3Dmolpromise = loadScriptAsync('https://3dmol.csb.pitt.edu/build/3Dmol.js');\n}\n\nvar viewer_15613989485433533 = null;\nvar warn = document.getElementById(\"3dmolwarning_15613989485433533\");\nif(warn) {\n    warn.parentNode.removeChild(warn);\n}\n$3Dmolpromise.then(function() {\nviewer_15613989485433533 = $3Dmol.createViewer($(\"#3dmolviewer_15613989485433533\"),{backgroundColor:\"white\"});\n\tviewer_15613989485433533.removeAllModels();\n\tviewer_15613989485433533.addModel(\"3ARP_DEQ_A_606\\n     RDKit          3D\\n\\n 34 37  0  0  0  0  0  0  0  0999 V2000\\n    9.0850   -8.0530   30.0430 C   0  0  0  0  0  0  0  0  0  0  0  0\\n    8.4490   -9.0840   30.6940 C   0  0  0  0  0  0  0  0  0  0  0  0\\n    7.7220   -8.7950   31.8640 C   0  0  0  0  0  0  0  0  0  0  0  0\\n    7.6750   -7.4440   32.4090 C   0  0  0  0  0  0  0  0  0  0  0  0\\n    9.0630   -6.7670   30.5360 C   0  0  0  0  0  0  0  0  0  0  0  0\\n    8.4020   -6.4350   31.7420 C   0  0  0  0  0  0  0  0  0  0  0  0\\n    8.3690   -5.1060   32.1870 C   0  0  0  0  0  0  0  0  0  0  0  0\\n    9.0400   -4.1070   31.5050 C   0  0  0  0  0  0  0  0  0  0  0  0\\n    9.7420   -4.4320   30.3440 C   0  0  0  0  0  0  0  0  0  0  0  0\\n    9.7700   -5.7550   29.8520 N   0  0  0  0  0  0  0  0  0  0  0  0\\n   20.2190  -10.0840   21.7800 C   0  0  0  0  0  0  0  0  0  0  0  0\\n   18.9390   -9.6710   22.2570 C   0  0  0  0  0  0  0  0  0  0  0  0\\n   17.7780   -9.9610   21.5400 N   0  0  0  0  0  0  0  0  0  0  0  0\\n   17.8440  -10.5580   20.2500 C   0  0  0  0  0  0  0  0  0  0  0  0\\n   19.1010  -10.9110   19.8030 C   0  0  0  0  0  0  0  0  0  0  0  0\\n   20.2700  -10.6490   20.5210 C   0  0  0  0  0  0  0  0  0  0  0  0\\n   21.3490   -9.8090   22.4880 C   0  0  0  0  0  0  0  0  0  0  0  0\\n   21.2610   -9.1750   23.7020 C   0  0  0  0  0  0  0  0  0  0  0  0\\n   20.0370   -8.7800   24.1710 C   0  0  0  0  0  0  0  0  0  0  0  0\\n   18.8710   -9.0140   23.5180 C   0  0  0  0  0  0  0  0  0  0  0  0\\n   16.3950   -9.6810   21.9960 C   0  0  0  0  0  0  0  0  0  0  0  0\\n   15.9590   -8.2140   21.8590 C   0  0  0  0  0  0  0  0  0  0  0  0\\n   15.1700   -7.9340   23.1560 C   0  0  0  0  0  0  0  0  0  0  0  0\\n   13.8110   -8.5140   22.9920 C   0  0  0  0  0  0  0  0  0  0  0  0\\n   12.9850   -8.0970   24.2650 C   0  0  0  0  0  0  0  0  0  0  0  0\\n   11.8670   -7.0420   23.8940 C   0  0  0  0  0  0  0  0  0  0  0  0\\n   10.7280   -6.8330   24.9630 C   0  0  0  0  0  0  0  0  0  0  0  0\\n   11.2760   -6.7360   26.4720 C   0  0  0  0  0  0  0  0  0  0  0  0\\n   10.0350   -6.4500   27.4320 C   0  0  0  0  0  0  0  0  0  0  0  0\\n   10.6970   -6.0380   28.6690 C   0  0  0  0  0  0  0  0  0  0  0  0\\n   10.4820   -3.3100   29.5890 C   0  0  0  0  0  0  0  0  0  0  0  0\\n   16.5700  -10.9650   19.4130 C   0  0  0  0  0  0  0  0  0  0  0  0\\n    7.6460   -4.7930   33.3160 N   0  0  0  0  0  0  0  0  0  0  0  0\\n   21.3930  -11.0450   19.9050 N   0  0  0  0  0  0  0  0  0  0  0  0\\n  1  2  2  0\\n  1  5  1  0\\n  2  3  1  0\\n  3  4  2  0\\n  4  6  1  0\\n  5  6  2  0\\n  5 10  1  0\\n  6  7  1  0\\n  7  8  2  0\\n  7 33  1  0\\n  8  9  1  0\\n  9 10  2  0\\n  9 31  1  0\\n 10 30  1  0\\n 11 12  2  0\\n 11 16  1  0\\n 11 17  1  0\\n 12 13  1  0\\n 12 20  1  0\\n 13 14  2  0\\n 13 21  1  0\\n 14 15  1  0\\n 14 32  1  0\\n 15 16  2  0\\n 16 34  1  0\\n 17 18  2  0\\n 18 19  1  0\\n 19 20  2  0\\n 21 22  1  0\\n 22 23  1  0\\n 23 24  1  0\\n 24 25  1  0\\n 25 26  1  0\\n 26 27  1  0\\n 27 28  1  0\\n 28 29  1  0\\n 29 30  1  0\\nM  CHG  2  10   1  13   1\\nA    1\\nC1\\nA    2\\nC2\\nA    3\\nC3\\nA    4\\nC4\\nA    5\\nC5\\nA    6\\nC6\\nA    7\\nC7\\nA    8\\nC8\\nA    9\\nC9\\nA   10\\nN1\\nA   11\\nC10\\nA   12\\nC11\\nA   13\\nN2\\nA   14\\nC12\\nA   15\\nC13\\nA   16\\nC14\\nA   17\\nC15\\nA   18\\nC16\\nA   19\\nC17\\nA   20\\nC18\\nA   21\\nC19\\nA   22\\nC20\\nA   23\\nC21\\nA   24\\nC22\\nA   25\\nC23\\nA   26\\nC24\\nA   27\\nC25\\nA   28\\nC26\\nA   29\\nC27\\nA   30\\nC28\\nA   31\\nC30\\nA   32\\nC29\\nA   33\\nN4\\nA   34\\nN3\\nM  END\\n\",\"sdf\");\n\tviewer_15613989485433533.setStyle({\"stick\": {}});\n\tviewer_15613989485433533.setBackgroundColor(\"0xeeeeee\");\n\tviewer_15613989485433533.zoomTo();\nviewer_15613989485433533.render();\n});\n</script>",
      "text/html": [
       "<div id=\"3dmolviewer_15613989485433533\"  style=\"position: relative; width: 400px; height: 300px\">\n",
       "        <p id=\"3dmolwarning_15613989485433533\" style=\"background-color:#ffcccc;color:black\">You appear to be running in JupyterLab (or JavaScript failed to load for some other reason).  You need to install the 3dmol extension: <br>\n",
       "        <tt>jupyter labextension install jupyterlab_3dmol</tt></p>\n",
       "        </div>\n",
       "<script>\n",
       "\n",
       "var loadScriptAsync = function(uri){\n",
       "  return new Promise((resolve, reject) => {\n",
       "    var tag = document.createElement('script');\n",
       "    tag.src = uri;\n",
       "    tag.async = true;\n",
       "    tag.onload = () => {\n",
       "      resolve();\n",
       "    };\n",
       "  var firstScriptTag = document.getElementsByTagName('script')[0];\n",
       "  firstScriptTag.parentNode.insertBefore(tag, firstScriptTag);\n",
       "});\n",
       "};\n",
       "\n",
       "if(typeof $3Dmolpromise === 'undefined') {\n",
       "$3Dmolpromise = null;\n",
       "  $3Dmolpromise = loadScriptAsync('https://3dmol.csb.pitt.edu/build/3Dmol.js');\n",
       "}\n",
       "\n",
       "var viewer_15613989485433533 = null;\n",
       "var warn = document.getElementById(\"3dmolwarning_15613989485433533\");\n",
       "if(warn) {\n",
       "    warn.parentNode.removeChild(warn);\n",
       "}\n",
       "$3Dmolpromise.then(function() {\n",
       "viewer_15613989485433533 = $3Dmol.createViewer($(\"#3dmolviewer_15613989485433533\"),{backgroundColor:\"white\"});\n",
       "\tviewer_15613989485433533.removeAllModels();\n",
       "\tviewer_15613989485433533.addModel(\"3ARP_DEQ_A_606\\n     RDKit          3D\\n\\n 34 37  0  0  0  0  0  0  0  0999 V2000\\n    9.0850   -8.0530   30.0430 C   0  0  0  0  0  0  0  0  0  0  0  0\\n    8.4490   -9.0840   30.6940 C   0  0  0  0  0  0  0  0  0  0  0  0\\n    7.7220   -8.7950   31.8640 C   0  0  0  0  0  0  0  0  0  0  0  0\\n    7.6750   -7.4440   32.4090 C   0  0  0  0  0  0  0  0  0  0  0  0\\n    9.0630   -6.7670   30.5360 C   0  0  0  0  0  0  0  0  0  0  0  0\\n    8.4020   -6.4350   31.7420 C   0  0  0  0  0  0  0  0  0  0  0  0\\n    8.3690   -5.1060   32.1870 C   0  0  0  0  0  0  0  0  0  0  0  0\\n    9.0400   -4.1070   31.5050 C   0  0  0  0  0  0  0  0  0  0  0  0\\n    9.7420   -4.4320   30.3440 C   0  0  0  0  0  0  0  0  0  0  0  0\\n    9.7700   -5.7550   29.8520 N   0  0  0  0  0  0  0  0  0  0  0  0\\n   20.2190  -10.0840   21.7800 C   0  0  0  0  0  0  0  0  0  0  0  0\\n   18.9390   -9.6710   22.2570 C   0  0  0  0  0  0  0  0  0  0  0  0\\n   17.7780   -9.9610   21.5400 N   0  0  0  0  0  0  0  0  0  0  0  0\\n   17.8440  -10.5580   20.2500 C   0  0  0  0  0  0  0  0  0  0  0  0\\n   19.1010  -10.9110   19.8030 C   0  0  0  0  0  0  0  0  0  0  0  0\\n   20.2700  -10.6490   20.5210 C   0  0  0  0  0  0  0  0  0  0  0  0\\n   21.3490   -9.8090   22.4880 C   0  0  0  0  0  0  0  0  0  0  0  0\\n   21.2610   -9.1750   23.7020 C   0  0  0  0  0  0  0  0  0  0  0  0\\n   20.0370   -8.7800   24.1710 C   0  0  0  0  0  0  0  0  0  0  0  0\\n   18.8710   -9.0140   23.5180 C   0  0  0  0  0  0  0  0  0  0  0  0\\n   16.3950   -9.6810   21.9960 C   0  0  0  0  0  0  0  0  0  0  0  0\\n   15.9590   -8.2140   21.8590 C   0  0  0  0  0  0  0  0  0  0  0  0\\n   15.1700   -7.9340   23.1560 C   0  0  0  0  0  0  0  0  0  0  0  0\\n   13.8110   -8.5140   22.9920 C   0  0  0  0  0  0  0  0  0  0  0  0\\n   12.9850   -8.0970   24.2650 C   0  0  0  0  0  0  0  0  0  0  0  0\\n   11.8670   -7.0420   23.8940 C   0  0  0  0  0  0  0  0  0  0  0  0\\n   10.7280   -6.8330   24.9630 C   0  0  0  0  0  0  0  0  0  0  0  0\\n   11.2760   -6.7360   26.4720 C   0  0  0  0  0  0  0  0  0  0  0  0\\n   10.0350   -6.4500   27.4320 C   0  0  0  0  0  0  0  0  0  0  0  0\\n   10.6970   -6.0380   28.6690 C   0  0  0  0  0  0  0  0  0  0  0  0\\n   10.4820   -3.3100   29.5890 C   0  0  0  0  0  0  0  0  0  0  0  0\\n   16.5700  -10.9650   19.4130 C   0  0  0  0  0  0  0  0  0  0  0  0\\n    7.6460   -4.7930   33.3160 N   0  0  0  0  0  0  0  0  0  0  0  0\\n   21.3930  -11.0450   19.9050 N   0  0  0  0  0  0  0  0  0  0  0  0\\n  1  2  2  0\\n  1  5  1  0\\n  2  3  1  0\\n  3  4  2  0\\n  4  6  1  0\\n  5  6  2  0\\n  5 10  1  0\\n  6  7  1  0\\n  7  8  2  0\\n  7 33  1  0\\n  8  9  1  0\\n  9 10  2  0\\n  9 31  1  0\\n 10 30  1  0\\n 11 12  2  0\\n 11 16  1  0\\n 11 17  1  0\\n 12 13  1  0\\n 12 20  1  0\\n 13 14  2  0\\n 13 21  1  0\\n 14 15  1  0\\n 14 32  1  0\\n 15 16  2  0\\n 16 34  1  0\\n 17 18  2  0\\n 18 19  1  0\\n 19 20  2  0\\n 21 22  1  0\\n 22 23  1  0\\n 23 24  1  0\\n 24 25  1  0\\n 25 26  1  0\\n 26 27  1  0\\n 27 28  1  0\\n 28 29  1  0\\n 29 30  1  0\\nM  CHG  2  10   1  13   1\\nA    1\\nC1\\nA    2\\nC2\\nA    3\\nC3\\nA    4\\nC4\\nA    5\\nC5\\nA    6\\nC6\\nA    7\\nC7\\nA    8\\nC8\\nA    9\\nC9\\nA   10\\nN1\\nA   11\\nC10\\nA   12\\nC11\\nA   13\\nN2\\nA   14\\nC12\\nA   15\\nC13\\nA   16\\nC14\\nA   17\\nC15\\nA   18\\nC16\\nA   19\\nC17\\nA   20\\nC18\\nA   21\\nC19\\nA   22\\nC20\\nA   23\\nC21\\nA   24\\nC22\\nA   25\\nC23\\nA   26\\nC24\\nA   27\\nC25\\nA   28\\nC26\\nA   29\\nC27\\nA   30\\nC28\\nA   31\\nC30\\nA   32\\nC29\\nA   33\\nN4\\nA   34\\nN3\\nM  END\\n\",\"sdf\");\n",
       "\tviewer_15613989485433533.setStyle({\"stick\": {}});\n",
       "\tviewer_15613989485433533.setBackgroundColor(\"0xeeeeee\");\n",
       "\tviewer_15613989485433533.zoomTo();\n",
       "viewer_15613989485433533.render();\n",
       "});\n",
       "</script>"
      ]
     },
     "metadata": {},
     "output_type": "display_data"
    }
   ],
   "source": [
    "print(\"Energy: %.1f\" % AllChem.UFFGetMoleculeForceField(deq_3ARP).CalcEnergy())\n",
    "drawit([deq_3ARP])"
   ]
  },
  {
   "cell_type": "markdown",
   "metadata": {},
   "source": [
    "Let's look at the best conformer of the candidate molecule through the unconstrained conformer generation."
   ]
  },
  {
   "cell_type": "code",
   "execution_count": 16,
   "metadata": {},
   "outputs": [
    {
     "name": "stdout",
     "output_type": "stream",
     "text": [
      "RMS frags: 1.206, Energy: 92.5\n"
     ]
    },
    {
     "data": {
      "application/3dmoljs_load.v0": "<div id=\"3dmolviewer_15613989485502508\"  style=\"position: relative; width: 400px; height: 300px\">\n        <p id=\"3dmolwarning_15613989485502508\" style=\"background-color:#ffcccc;color:black\">You appear to be running in JupyterLab (or JavaScript failed to load for some other reason).  You need to install the 3dmol extension: <br>\n        <tt>jupyter labextension install jupyterlab_3dmol</tt></p>\n        </div>\n<script>\n\nvar loadScriptAsync = function(uri){\n  return new Promise((resolve, reject) => {\n    var tag = document.createElement('script');\n    tag.src = uri;\n    tag.async = true;\n    tag.onload = () => {\n      resolve();\n    };\n  var firstScriptTag = document.getElementsByTagName('script')[0];\n  firstScriptTag.parentNode.insertBefore(tag, firstScriptTag);\n});\n};\n\nif(typeof $3Dmolpromise === 'undefined') {\n$3Dmolpromise = null;\n  $3Dmolpromise = loadScriptAsync('https://3dmol.csb.pitt.edu/build/3Dmol.js');\n}\n\nvar viewer_15613989485502508 = null;\nvar warn = document.getElementById(\"3dmolwarning_15613989485502508\");\nif(warn) {\n    warn.parentNode.removeChild(warn);\n}\n$3Dmolpromise.then(function() {\nviewer_15613989485502508 = $3Dmol.createViewer($(\"#3dmolviewer_15613989485502508\"),{backgroundColor:\"white\"});\n\tviewer_15613989485502508.removeAllModels();\n\tviewer_15613989485502508.addModel(\"3ARP_DEQ_A_606\\n     RDKit          3D\\n\\n 34 37  0  0  0  0  0  0  0  0999 V2000\\n    9.0850   -8.0530   30.0430 C   0  0  0  0  0  0  0  0  0  0  0  0\\n    8.4490   -9.0840   30.6940 C   0  0  0  0  0  0  0  0  0  0  0  0\\n    7.7220   -8.7950   31.8640 C   0  0  0  0  0  0  0  0  0  0  0  0\\n    7.6750   -7.4440   32.4090 C   0  0  0  0  0  0  0  0  0  0  0  0\\n    9.0630   -6.7670   30.5360 C   0  0  0  0  0  0  0  0  0  0  0  0\\n    8.4020   -6.4350   31.7420 C   0  0  0  0  0  0  0  0  0  0  0  0\\n    8.3690   -5.1060   32.1870 C   0  0  0  0  0  0  0  0  0  0  0  0\\n    9.0400   -4.1070   31.5050 C   0  0  0  0  0  0  0  0  0  0  0  0\\n    9.7420   -4.4320   30.3440 C   0  0  0  0  0  0  0  0  0  0  0  0\\n    9.7700   -5.7550   29.8520 N   0  0  0  0  0  0  0  0  0  0  0  0\\n   20.2190  -10.0840   21.7800 C   0  0  0  0  0  0  0  0  0  0  0  0\\n   18.9390   -9.6710   22.2570 C   0  0  0  0  0  0  0  0  0  0  0  0\\n   17.7780   -9.9610   21.5400 N   0  0  0  0  0  0  0  0  0  0  0  0\\n   17.8440  -10.5580   20.2500 C   0  0  0  0  0  0  0  0  0  0  0  0\\n   19.1010  -10.9110   19.8030 C   0  0  0  0  0  0  0  0  0  0  0  0\\n   20.2700  -10.6490   20.5210 C   0  0  0  0  0  0  0  0  0  0  0  0\\n   21.3490   -9.8090   22.4880 C   0  0  0  0  0  0  0  0  0  0  0  0\\n   21.2610   -9.1750   23.7020 C   0  0  0  0  0  0  0  0  0  0  0  0\\n   20.0370   -8.7800   24.1710 C   0  0  0  0  0  0  0  0  0  0  0  0\\n   18.8710   -9.0140   23.5180 C   0  0  0  0  0  0  0  0  0  0  0  0\\n   16.3950   -9.6810   21.9960 C   0  0  0  0  0  0  0  0  0  0  0  0\\n   15.9590   -8.2140   21.8590 C   0  0  0  0  0  0  0  0  0  0  0  0\\n   15.1700   -7.9340   23.1560 C   0  0  0  0  0  0  0  0  0  0  0  0\\n   13.8110   -8.5140   22.9920 C   0  0  0  0  0  0  0  0  0  0  0  0\\n   12.9850   -8.0970   24.2650 C   0  0  0  0  0  0  0  0  0  0  0  0\\n   11.8670   -7.0420   23.8940 C   0  0  0  0  0  0  0  0  0  0  0  0\\n   10.7280   -6.8330   24.9630 C   0  0  0  0  0  0  0  0  0  0  0  0\\n   11.2760   -6.7360   26.4720 C   0  0  0  0  0  0  0  0  0  0  0  0\\n   10.0350   -6.4500   27.4320 C   0  0  0  0  0  0  0  0  0  0  0  0\\n   10.6970   -6.0380   28.6690 C   0  0  0  0  0  0  0  0  0  0  0  0\\n   10.4820   -3.3100   29.5890 C   0  0  0  0  0  0  0  0  0  0  0  0\\n   16.5700  -10.9650   19.4130 C   0  0  0  0  0  0  0  0  0  0  0  0\\n    7.6460   -4.7930   33.3160 N   0  0  0  0  0  0  0  0  0  0  0  0\\n   21.3930  -11.0450   19.9050 N   0  0  0  0  0  0  0  0  0  0  0  0\\n  1  2  2  0\\n  1  5  1  0\\n  2  3  1  0\\n  3  4  2  0\\n  4  6  1  0\\n  5  6  2  0\\n  5 10  1  0\\n  6  7  1  0\\n  7  8  2  0\\n  7 33  1  0\\n  8  9  1  0\\n  9 10  2  0\\n  9 31  1  0\\n 10 30  1  0\\n 11 12  2  0\\n 11 16  1  0\\n 11 17  1  0\\n 12 13  1  0\\n 12 20  1  0\\n 13 14  2  0\\n 13 21  1  0\\n 14 15  1  0\\n 14 32  1  0\\n 15 16  2  0\\n 16 34  1  0\\n 17 18  2  0\\n 18 19  1  0\\n 19 20  2  0\\n 21 22  1  0\\n 22 23  1  0\\n 23 24  1  0\\n 24 25  1  0\\n 25 26  1  0\\n 26 27  1  0\\n 27 28  1  0\\n 28 29  1  0\\n 29 30  1  0\\nM  CHG  2  10   1  13   1\\nA    1\\nC1\\nA    2\\nC2\\nA    3\\nC3\\nA    4\\nC4\\nA    5\\nC5\\nA    6\\nC6\\nA    7\\nC7\\nA    8\\nC8\\nA    9\\nC9\\nA   10\\nN1\\nA   11\\nC10\\nA   12\\nC11\\nA   13\\nN2\\nA   14\\nC12\\nA   15\\nC13\\nA   16\\nC14\\nA   17\\nC15\\nA   18\\nC16\\nA   19\\nC17\\nA   20\\nC18\\nA   21\\nC19\\nA   22\\nC20\\nA   23\\nC21\\nA   24\\nC22\\nA   25\\nC23\\nA   26\\nC24\\nA   27\\nC25\\nA   28\\nC26\\nA   29\\nC27\\nA   30\\nC28\\nA   31\\nC30\\nA   32\\nC29\\nA   33\\nN4\\nA   34\\nN3\\nM  END\\n\",\"sdf\");\n\tviewer_15613989485502508.addModel(\"\\n     RDKit          3D\\n\\n 33 36  0  0  0  0  0  0  0  0999 V2000\\n   10.8049   -3.6139   28.5935 C   0  0  0  0  0  0  0  0  0  0  0  0\\n   10.2094   -4.7056   29.4577 C   0  0  0  0  0  0  0  0  0  0  0  0\\n    9.7220   -4.3312   30.7129 C   0  0  0  0  0  0  0  0  0  0  0  0\\n    9.1689   -5.2664   31.5787 C   0  0  0  0  0  0  0  0  0  0  0  0\\n    8.7220   -4.8134   32.8678 N   0  0  0  0  0  0  0  0  0  0  0  0\\n    9.0951   -6.6160   31.1747 C   0  0  0  0  0  0  0  0  0  0  0  0\\n    8.5035   -7.6013   31.9973 C   0  0  0  0  0  0  0  0  0  0  0  0\\n    8.4759   -8.9363   31.6058 C   0  0  0  0  0  0  0  0  0  0  0  0\\n    9.0313   -9.3185   30.3934 C   0  0  0  0  0  0  0  0  0  0  0  0\\n    9.5960   -8.3662   29.5485 C   0  0  0  0  0  0  0  0  0  0  0  0\\n    9.6210   -6.9891   29.8995 C   0  0  0  0  0  0  0  0  0  0  0  0\\n   10.1401   -6.0236   29.0457 N   0  0  0  0  0  0  0  0  0  0  0  0\\n   10.6487   -6.3970   27.7013 C   0  0  0  0  0  0  0  0  0  0  0  0\\n   12.0974   -6.9078   27.7894 C   0  0  0  0  0  0  0  0  0  0  0  0\\n   12.5677   -7.5874   26.4951 C   0  0  0  0  0  0  0  0  0  0  0  0\\n   12.7159   -6.6003   25.3275 C   0  0  0  0  0  0  0  0  0  0  0  0\\n   13.3448   -7.2868   24.1090 C   0  0  0  0  0  0  0  0  0  0  0  0\\n   13.4984   -6.3067   22.9391 C   0  0  0  0  0  0  0  0  0  0  0  0\\n   13.9345   -6.9941   21.6338 C   0  0  0  0  0  0  0  0  0  0  0  0\\n   15.4003   -7.4784   21.6384 C   0  0  0  0  0  0  0  0  0  0  0  0\\n   15.5340   -8.9822   21.9417 C   0  0  0  0  0  0  0  0  0  0  0  0\\n   16.9339   -9.4381   21.7412 N   0  0  0  0  0  0  0  0  0  0  0  0\\n   17.2886  -10.0315   20.5436 C   0  0  0  0  0  0  0  0  0  0  0  0\\n   16.3154  -10.1930   19.3951 C   0  0  0  0  0  0  0  0  0  0  0  0\\n   18.5815  -10.5265   20.3551 C   0  0  0  0  0  0  0  0  0  0  0  0\\n   19.5499  -10.4044   21.3433 C   0  0  0  0  0  0  0  0  0  0  0  0\\n   20.8716  -10.8921   21.0581 N   0  0  0  0  0  0  0  0  0  0  0  0\\n   19.2084   -9.7898   22.5663 C   0  0  0  0  0  0  0  0  0  0  0  0\\n   20.1412   -9.6805   23.6226 C   0  0  0  0  0  0  0  0  0  0  0  0\\n   19.7997   -9.0504   24.8151 C   0  0  0  0  0  0  0  0  0  0  0  0\\n   18.5283   -8.5227   24.9845 C   0  0  0  0  0  0  0  0  0  0  0  0\\n   17.5801   -8.6375   23.9710 C   0  0  0  0  0  0  0  0  0  0  0  0\\n   17.8827   -9.2865   22.7448 C   0  0  0  0  0  0  0  0  0  0  0  0\\n  1  2  1  0\\n  2  3  2  0\\n  3  4  1  0\\n  4  5  1  0\\n  4  6  2  0\\n  6  7  1  0\\n  7  8  2  0\\n  8  9  1  0\\n  9 10  2  0\\n 10 11  1  0\\n 11 12  2  0\\n 12 13  1  0\\n 13 14  1  0\\n 14 15  1  0\\n 15 16  1  0\\n 16 17  1  0\\n 17 18  1  0\\n 18 19  1  0\\n 19 20  1  0\\n 20 21  1  0\\n 21 22  1  0\\n 22 23  2  0\\n 23 24  1  0\\n 23 25  1  0\\n 25 26  2  0\\n 26 27  1  0\\n 26 28  1  0\\n 28 29  2  0\\n 29 30  1  0\\n 30 31  2  0\\n 31 32  1  0\\n 32 33  2  0\\n 12  2  1  0\\n 33 22  1  0\\n 11  6  1  0\\n 33 28  1  0\\nM  CHG  2  12   1  22   1\\nM  END\\n\",\"sdf\");\n\tviewer_15613989485502508.setStyle({\"stick\": {}});\n\tviewer_15613989485502508.setBackgroundColor(\"0xeeeeee\");\n\tviewer_15613989485502508.zoomTo();\nviewer_15613989485502508.render();\n});\n</script>",
      "text/html": [
       "<div id=\"3dmolviewer_15613989485502508\"  style=\"position: relative; width: 400px; height: 300px\">\n",
       "        <p id=\"3dmolwarning_15613989485502508\" style=\"background-color:#ffcccc;color:black\">You appear to be running in JupyterLab (or JavaScript failed to load for some other reason).  You need to install the 3dmol extension: <br>\n",
       "        <tt>jupyter labextension install jupyterlab_3dmol</tt></p>\n",
       "        </div>\n",
       "<script>\n",
       "\n",
       "var loadScriptAsync = function(uri){\n",
       "  return new Promise((resolve, reject) => {\n",
       "    var tag = document.createElement('script');\n",
       "    tag.src = uri;\n",
       "    tag.async = true;\n",
       "    tag.onload = () => {\n",
       "      resolve();\n",
       "    };\n",
       "  var firstScriptTag = document.getElementsByTagName('script')[0];\n",
       "  firstScriptTag.parentNode.insertBefore(tag, firstScriptTag);\n",
       "});\n",
       "};\n",
       "\n",
       "if(typeof $3Dmolpromise === 'undefined') {\n",
       "$3Dmolpromise = null;\n",
       "  $3Dmolpromise = loadScriptAsync('https://3dmol.csb.pitt.edu/build/3Dmol.js');\n",
       "}\n",
       "\n",
       "var viewer_15613989485502508 = null;\n",
       "var warn = document.getElementById(\"3dmolwarning_15613989485502508\");\n",
       "if(warn) {\n",
       "    warn.parentNode.removeChild(warn);\n",
       "}\n",
       "$3Dmolpromise.then(function() {\n",
       "viewer_15613989485502508 = $3Dmol.createViewer($(\"#3dmolviewer_15613989485502508\"),{backgroundColor:\"white\"});\n",
       "\tviewer_15613989485502508.removeAllModels();\n",
       "\tviewer_15613989485502508.addModel(\"3ARP_DEQ_A_606\\n     RDKit          3D\\n\\n 34 37  0  0  0  0  0  0  0  0999 V2000\\n    9.0850   -8.0530   30.0430 C   0  0  0  0  0  0  0  0  0  0  0  0\\n    8.4490   -9.0840   30.6940 C   0  0  0  0  0  0  0  0  0  0  0  0\\n    7.7220   -8.7950   31.8640 C   0  0  0  0  0  0  0  0  0  0  0  0\\n    7.6750   -7.4440   32.4090 C   0  0  0  0  0  0  0  0  0  0  0  0\\n    9.0630   -6.7670   30.5360 C   0  0  0  0  0  0  0  0  0  0  0  0\\n    8.4020   -6.4350   31.7420 C   0  0  0  0  0  0  0  0  0  0  0  0\\n    8.3690   -5.1060   32.1870 C   0  0  0  0  0  0  0  0  0  0  0  0\\n    9.0400   -4.1070   31.5050 C   0  0  0  0  0  0  0  0  0  0  0  0\\n    9.7420   -4.4320   30.3440 C   0  0  0  0  0  0  0  0  0  0  0  0\\n    9.7700   -5.7550   29.8520 N   0  0  0  0  0  0  0  0  0  0  0  0\\n   20.2190  -10.0840   21.7800 C   0  0  0  0  0  0  0  0  0  0  0  0\\n   18.9390   -9.6710   22.2570 C   0  0  0  0  0  0  0  0  0  0  0  0\\n   17.7780   -9.9610   21.5400 N   0  0  0  0  0  0  0  0  0  0  0  0\\n   17.8440  -10.5580   20.2500 C   0  0  0  0  0  0  0  0  0  0  0  0\\n   19.1010  -10.9110   19.8030 C   0  0  0  0  0  0  0  0  0  0  0  0\\n   20.2700  -10.6490   20.5210 C   0  0  0  0  0  0  0  0  0  0  0  0\\n   21.3490   -9.8090   22.4880 C   0  0  0  0  0  0  0  0  0  0  0  0\\n   21.2610   -9.1750   23.7020 C   0  0  0  0  0  0  0  0  0  0  0  0\\n   20.0370   -8.7800   24.1710 C   0  0  0  0  0  0  0  0  0  0  0  0\\n   18.8710   -9.0140   23.5180 C   0  0  0  0  0  0  0  0  0  0  0  0\\n   16.3950   -9.6810   21.9960 C   0  0  0  0  0  0  0  0  0  0  0  0\\n   15.9590   -8.2140   21.8590 C   0  0  0  0  0  0  0  0  0  0  0  0\\n   15.1700   -7.9340   23.1560 C   0  0  0  0  0  0  0  0  0  0  0  0\\n   13.8110   -8.5140   22.9920 C   0  0  0  0  0  0  0  0  0  0  0  0\\n   12.9850   -8.0970   24.2650 C   0  0  0  0  0  0  0  0  0  0  0  0\\n   11.8670   -7.0420   23.8940 C   0  0  0  0  0  0  0  0  0  0  0  0\\n   10.7280   -6.8330   24.9630 C   0  0  0  0  0  0  0  0  0  0  0  0\\n   11.2760   -6.7360   26.4720 C   0  0  0  0  0  0  0  0  0  0  0  0\\n   10.0350   -6.4500   27.4320 C   0  0  0  0  0  0  0  0  0  0  0  0\\n   10.6970   -6.0380   28.6690 C   0  0  0  0  0  0  0  0  0  0  0  0\\n   10.4820   -3.3100   29.5890 C   0  0  0  0  0  0  0  0  0  0  0  0\\n   16.5700  -10.9650   19.4130 C   0  0  0  0  0  0  0  0  0  0  0  0\\n    7.6460   -4.7930   33.3160 N   0  0  0  0  0  0  0  0  0  0  0  0\\n   21.3930  -11.0450   19.9050 N   0  0  0  0  0  0  0  0  0  0  0  0\\n  1  2  2  0\\n  1  5  1  0\\n  2  3  1  0\\n  3  4  2  0\\n  4  6  1  0\\n  5  6  2  0\\n  5 10  1  0\\n  6  7  1  0\\n  7  8  2  0\\n  7 33  1  0\\n  8  9  1  0\\n  9 10  2  0\\n  9 31  1  0\\n 10 30  1  0\\n 11 12  2  0\\n 11 16  1  0\\n 11 17  1  0\\n 12 13  1  0\\n 12 20  1  0\\n 13 14  2  0\\n 13 21  1  0\\n 14 15  1  0\\n 14 32  1  0\\n 15 16  2  0\\n 16 34  1  0\\n 17 18  2  0\\n 18 19  1  0\\n 19 20  2  0\\n 21 22  1  0\\n 22 23  1  0\\n 23 24  1  0\\n 24 25  1  0\\n 25 26  1  0\\n 26 27  1  0\\n 27 28  1  0\\n 28 29  1  0\\n 29 30  1  0\\nM  CHG  2  10   1  13   1\\nA    1\\nC1\\nA    2\\nC2\\nA    3\\nC3\\nA    4\\nC4\\nA    5\\nC5\\nA    6\\nC6\\nA    7\\nC7\\nA    8\\nC8\\nA    9\\nC9\\nA   10\\nN1\\nA   11\\nC10\\nA   12\\nC11\\nA   13\\nN2\\nA   14\\nC12\\nA   15\\nC13\\nA   16\\nC14\\nA   17\\nC15\\nA   18\\nC16\\nA   19\\nC17\\nA   20\\nC18\\nA   21\\nC19\\nA   22\\nC20\\nA   23\\nC21\\nA   24\\nC22\\nA   25\\nC23\\nA   26\\nC24\\nA   27\\nC25\\nA   28\\nC26\\nA   29\\nC27\\nA   30\\nC28\\nA   31\\nC30\\nA   32\\nC29\\nA   33\\nN4\\nA   34\\nN3\\nM  END\\n\",\"sdf\");\n",
       "\tviewer_15613989485502508.addModel(\"\\n     RDKit          3D\\n\\n 33 36  0  0  0  0  0  0  0  0999 V2000\\n   10.8049   -3.6139   28.5935 C   0  0  0  0  0  0  0  0  0  0  0  0\\n   10.2094   -4.7056   29.4577 C   0  0  0  0  0  0  0  0  0  0  0  0\\n    9.7220   -4.3312   30.7129 C   0  0  0  0  0  0  0  0  0  0  0  0\\n    9.1689   -5.2664   31.5787 C   0  0  0  0  0  0  0  0  0  0  0  0\\n    8.7220   -4.8134   32.8678 N   0  0  0  0  0  0  0  0  0  0  0  0\\n    9.0951   -6.6160   31.1747 C   0  0  0  0  0  0  0  0  0  0  0  0\\n    8.5035   -7.6013   31.9973 C   0  0  0  0  0  0  0  0  0  0  0  0\\n    8.4759   -8.9363   31.6058 C   0  0  0  0  0  0  0  0  0  0  0  0\\n    9.0313   -9.3185   30.3934 C   0  0  0  0  0  0  0  0  0  0  0  0\\n    9.5960   -8.3662   29.5485 C   0  0  0  0  0  0  0  0  0  0  0  0\\n    9.6210   -6.9891   29.8995 C   0  0  0  0  0  0  0  0  0  0  0  0\\n   10.1401   -6.0236   29.0457 N   0  0  0  0  0  0  0  0  0  0  0  0\\n   10.6487   -6.3970   27.7013 C   0  0  0  0  0  0  0  0  0  0  0  0\\n   12.0974   -6.9078   27.7894 C   0  0  0  0  0  0  0  0  0  0  0  0\\n   12.5677   -7.5874   26.4951 C   0  0  0  0  0  0  0  0  0  0  0  0\\n   12.7159   -6.6003   25.3275 C   0  0  0  0  0  0  0  0  0  0  0  0\\n   13.3448   -7.2868   24.1090 C   0  0  0  0  0  0  0  0  0  0  0  0\\n   13.4984   -6.3067   22.9391 C   0  0  0  0  0  0  0  0  0  0  0  0\\n   13.9345   -6.9941   21.6338 C   0  0  0  0  0  0  0  0  0  0  0  0\\n   15.4003   -7.4784   21.6384 C   0  0  0  0  0  0  0  0  0  0  0  0\\n   15.5340   -8.9822   21.9417 C   0  0  0  0  0  0  0  0  0  0  0  0\\n   16.9339   -9.4381   21.7412 N   0  0  0  0  0  0  0  0  0  0  0  0\\n   17.2886  -10.0315   20.5436 C   0  0  0  0  0  0  0  0  0  0  0  0\\n   16.3154  -10.1930   19.3951 C   0  0  0  0  0  0  0  0  0  0  0  0\\n   18.5815  -10.5265   20.3551 C   0  0  0  0  0  0  0  0  0  0  0  0\\n   19.5499  -10.4044   21.3433 C   0  0  0  0  0  0  0  0  0  0  0  0\\n   20.8716  -10.8921   21.0581 N   0  0  0  0  0  0  0  0  0  0  0  0\\n   19.2084   -9.7898   22.5663 C   0  0  0  0  0  0  0  0  0  0  0  0\\n   20.1412   -9.6805   23.6226 C   0  0  0  0  0  0  0  0  0  0  0  0\\n   19.7997   -9.0504   24.8151 C   0  0  0  0  0  0  0  0  0  0  0  0\\n   18.5283   -8.5227   24.9845 C   0  0  0  0  0  0  0  0  0  0  0  0\\n   17.5801   -8.6375   23.9710 C   0  0  0  0  0  0  0  0  0  0  0  0\\n   17.8827   -9.2865   22.7448 C   0  0  0  0  0  0  0  0  0  0  0  0\\n  1  2  1  0\\n  2  3  2  0\\n  3  4  1  0\\n  4  5  1  0\\n  4  6  2  0\\n  6  7  1  0\\n  7  8  2  0\\n  8  9  1  0\\n  9 10  2  0\\n 10 11  1  0\\n 11 12  2  0\\n 12 13  1  0\\n 13 14  1  0\\n 14 15  1  0\\n 15 16  1  0\\n 16 17  1  0\\n 17 18  1  0\\n 18 19  1  0\\n 19 20  1  0\\n 20 21  1  0\\n 21 22  1  0\\n 22 23  2  0\\n 23 24  1  0\\n 23 25  1  0\\n 25 26  2  0\\n 26 27  1  0\\n 26 28  1  0\\n 28 29  2  0\\n 29 30  1  0\\n 30 31  2  0\\n 31 32  1  0\\n 32 33  2  0\\n 12  2  1  0\\n 33 22  1  0\\n 11  6  1  0\\n 33 28  1  0\\nM  CHG  2  12   1  22   1\\nM  END\\n\",\"sdf\");\n",
       "\tviewer_15613989485502508.setStyle({\"stick\": {}});\n",
       "\tviewer_15613989485502508.setBackgroundColor(\"0xeeeeee\");\n",
       "\tviewer_15613989485502508.zoomTo();\n",
       "viewer_15613989485502508.render();\n",
       "});\n",
       "</script>"
      ]
     },
     "metadata": {},
     "output_type": "display_data"
    }
   ],
   "source": [
    "print(\"RMS frags: %.3f, Energy: %s\" % (AllChem.AlignMol(frags_3d, best_unconstrained), best_unconstrained.GetProp(\"Energy\")))\n",
    "drawit((deq_3ARP, best_unconstrained))"
   ]
  },
  {
   "cell_type": "markdown",
   "metadata": {},
   "source": [
    "Now let's compare that to the best conformer generated during `RoughConstrainedEmbed`."
   ]
  },
  {
   "cell_type": "code",
   "execution_count": 17,
   "metadata": {},
   "outputs": [
    {
     "name": "stdout",
     "output_type": "stream",
     "text": [
      "RMS frags: 0.492, Energy: 99.5\n"
     ]
    },
    {
     "data": {
      "application/3dmoljs_load.v0": "<div id=\"3dmolviewer_15613989485569592\"  style=\"position: relative; width: 400px; height: 300px\">\n        <p id=\"3dmolwarning_15613989485569592\" style=\"background-color:#ffcccc;color:black\">You appear to be running in JupyterLab (or JavaScript failed to load for some other reason).  You need to install the 3dmol extension: <br>\n        <tt>jupyter labextension install jupyterlab_3dmol</tt></p>\n        </div>\n<script>\n\nvar loadScriptAsync = function(uri){\n  return new Promise((resolve, reject) => {\n    var tag = document.createElement('script');\n    tag.src = uri;\n    tag.async = true;\n    tag.onload = () => {\n      resolve();\n    };\n  var firstScriptTag = document.getElementsByTagName('script')[0];\n  firstScriptTag.parentNode.insertBefore(tag, firstScriptTag);\n});\n};\n\nif(typeof $3Dmolpromise === 'undefined') {\n$3Dmolpromise = null;\n  $3Dmolpromise = loadScriptAsync('https://3dmol.csb.pitt.edu/build/3Dmol.js');\n}\n\nvar viewer_15613989485569592 = null;\nvar warn = document.getElementById(\"3dmolwarning_15613989485569592\");\nif(warn) {\n    warn.parentNode.removeChild(warn);\n}\n$3Dmolpromise.then(function() {\nviewer_15613989485569592 = $3Dmol.createViewer($(\"#3dmolviewer_15613989485569592\"),{backgroundColor:\"white\"});\n\tviewer_15613989485569592.removeAllModels();\n\tviewer_15613989485569592.addModel(\"3ARP_DEQ_A_606\\n     RDKit          3D\\n\\n 34 37  0  0  0  0  0  0  0  0999 V2000\\n    9.0850   -8.0530   30.0430 C   0  0  0  0  0  0  0  0  0  0  0  0\\n    8.4490   -9.0840   30.6940 C   0  0  0  0  0  0  0  0  0  0  0  0\\n    7.7220   -8.7950   31.8640 C   0  0  0  0  0  0  0  0  0  0  0  0\\n    7.6750   -7.4440   32.4090 C   0  0  0  0  0  0  0  0  0  0  0  0\\n    9.0630   -6.7670   30.5360 C   0  0  0  0  0  0  0  0  0  0  0  0\\n    8.4020   -6.4350   31.7420 C   0  0  0  0  0  0  0  0  0  0  0  0\\n    8.3690   -5.1060   32.1870 C   0  0  0  0  0  0  0  0  0  0  0  0\\n    9.0400   -4.1070   31.5050 C   0  0  0  0  0  0  0  0  0  0  0  0\\n    9.7420   -4.4320   30.3440 C   0  0  0  0  0  0  0  0  0  0  0  0\\n    9.7700   -5.7550   29.8520 N   0  0  0  0  0  0  0  0  0  0  0  0\\n   20.2190  -10.0840   21.7800 C   0  0  0  0  0  0  0  0  0  0  0  0\\n   18.9390   -9.6710   22.2570 C   0  0  0  0  0  0  0  0  0  0  0  0\\n   17.7780   -9.9610   21.5400 N   0  0  0  0  0  0  0  0  0  0  0  0\\n   17.8440  -10.5580   20.2500 C   0  0  0  0  0  0  0  0  0  0  0  0\\n   19.1010  -10.9110   19.8030 C   0  0  0  0  0  0  0  0  0  0  0  0\\n   20.2700  -10.6490   20.5210 C   0  0  0  0  0  0  0  0  0  0  0  0\\n   21.3490   -9.8090   22.4880 C   0  0  0  0  0  0  0  0  0  0  0  0\\n   21.2610   -9.1750   23.7020 C   0  0  0  0  0  0  0  0  0  0  0  0\\n   20.0370   -8.7800   24.1710 C   0  0  0  0  0  0  0  0  0  0  0  0\\n   18.8710   -9.0140   23.5180 C   0  0  0  0  0  0  0  0  0  0  0  0\\n   16.3950   -9.6810   21.9960 C   0  0  0  0  0  0  0  0  0  0  0  0\\n   15.9590   -8.2140   21.8590 C   0  0  0  0  0  0  0  0  0  0  0  0\\n   15.1700   -7.9340   23.1560 C   0  0  0  0  0  0  0  0  0  0  0  0\\n   13.8110   -8.5140   22.9920 C   0  0  0  0  0  0  0  0  0  0  0  0\\n   12.9850   -8.0970   24.2650 C   0  0  0  0  0  0  0  0  0  0  0  0\\n   11.8670   -7.0420   23.8940 C   0  0  0  0  0  0  0  0  0  0  0  0\\n   10.7280   -6.8330   24.9630 C   0  0  0  0  0  0  0  0  0  0  0  0\\n   11.2760   -6.7360   26.4720 C   0  0  0  0  0  0  0  0  0  0  0  0\\n   10.0350   -6.4500   27.4320 C   0  0  0  0  0  0  0  0  0  0  0  0\\n   10.6970   -6.0380   28.6690 C   0  0  0  0  0  0  0  0  0  0  0  0\\n   10.4820   -3.3100   29.5890 C   0  0  0  0  0  0  0  0  0  0  0  0\\n   16.5700  -10.9650   19.4130 C   0  0  0  0  0  0  0  0  0  0  0  0\\n    7.6460   -4.7930   33.3160 N   0  0  0  0  0  0  0  0  0  0  0  0\\n   21.3930  -11.0450   19.9050 N   0  0  0  0  0  0  0  0  0  0  0  0\\n  1  2  2  0\\n  1  5  1  0\\n  2  3  1  0\\n  3  4  2  0\\n  4  6  1  0\\n  5  6  2  0\\n  5 10  1  0\\n  6  7  1  0\\n  7  8  2  0\\n  7 33  1  0\\n  8  9  1  0\\n  9 10  2  0\\n  9 31  1  0\\n 10 30  1  0\\n 11 12  2  0\\n 11 16  1  0\\n 11 17  1  0\\n 12 13  1  0\\n 12 20  1  0\\n 13 14  2  0\\n 13 21  1  0\\n 14 15  1  0\\n 14 32  1  0\\n 15 16  2  0\\n 16 34  1  0\\n 17 18  2  0\\n 18 19  1  0\\n 19 20  2  0\\n 21 22  1  0\\n 22 23  1  0\\n 23 24  1  0\\n 24 25  1  0\\n 25 26  1  0\\n 26 27  1  0\\n 27 28  1  0\\n 28 29  1  0\\n 29 30  1  0\\nM  CHG  2  10   1  13   1\\nA    1\\nC1\\nA    2\\nC2\\nA    3\\nC3\\nA    4\\nC4\\nA    5\\nC5\\nA    6\\nC6\\nA    7\\nC7\\nA    8\\nC8\\nA    9\\nC9\\nA   10\\nN1\\nA   11\\nC10\\nA   12\\nC11\\nA   13\\nN2\\nA   14\\nC12\\nA   15\\nC13\\nA   16\\nC14\\nA   17\\nC15\\nA   18\\nC16\\nA   19\\nC17\\nA   20\\nC18\\nA   21\\nC19\\nA   22\\nC20\\nA   23\\nC21\\nA   24\\nC22\\nA   25\\nC23\\nA   26\\nC24\\nA   27\\nC25\\nA   28\\nC26\\nA   29\\nC27\\nA   30\\nC28\\nA   31\\nC30\\nA   32\\nC29\\nA   33\\nN4\\nA   34\\nN3\\nM  END\\n\",\"sdf\");\n\tviewer_15613989485569592.addModel(\"\\n     RDKit          3D\\n\\n 33 36  0  0  0  0  0  0  0  0999 V2000\\n   10.6170   -3.4299   29.1931 C   0  0  0  0  0  0  0  0  0  0  0  0\\n    9.9318   -4.5240   29.9827 C   0  0  0  0  0  0  0  0  0  0  0  0\\n    9.0993   -4.1304   31.0357 C   0  0  0  0  0  0  0  0  0  0  0  0\\n    8.4124   -5.0673   31.7997 C   0  0  0  0  0  0  0  0  0  0  0  0\\n    7.5470   -4.5905   32.8446 N   0  0  0  0  0  0  0  0  0  0  0  0\\n    8.5633   -6.4369   31.5017 C   0  0  0  0  0  0  0  0  0  0  0  0\\n    7.9197   -7.4334   32.2703 C   0  0  0  0  0  0  0  0  0  0  0  0\\n    8.0375   -8.7791   31.9377 C   0  0  0  0  0  0  0  0  0  0  0  0\\n    8.7948   -9.1607   30.8402 C   0  0  0  0  0  0  0  0  0  0  0  0\\n    9.4655   -8.2032   30.0830 C   0  0  0  0  0  0  0  0  0  0  0  0\\n    9.3955   -6.8222   30.4060 C   0  0  0  0  0  0  0  0  0  0  0  0\\n   10.1016   -5.8636   29.6888 N   0  0  0  0  0  0  0  0  0  0  0  0\\n   11.0249   -6.2626   28.5926 C   0  0  0  0  0  0  0  0  0  0  0  0\\n   10.2653   -6.4406   27.2602 C   0  0  0  0  0  0  0  0  0  0  0  0\\n   10.7705   -7.6390   26.4427 C   0  0  0  0  0  0  0  0  0  0  0  0\\n   12.1337   -7.4070   25.7633 C   0  0  0  0  0  0  0  0  0  0  0  0\\n   12.8855   -8.7392   25.5943 C   0  0  0  0  0  0  0  0  0  0  0  0\\n   13.9710   -8.6823   24.5076 C   0  0  0  0  0  0  0  0  0  0  0  0\\n   14.9818   -9.8331   24.6856 C   0  0  0  0  0  0  0  0  0  0  0  0\\n   15.6409  -10.2999   23.3775 C   0  0  0  0  0  0  0  0  0  0  0  0\\n   16.3261   -9.1743   22.5789 C   0  0  0  0  0  0  0  0  0  0  0  0\\n   17.5599   -9.6675   21.9131 N   0  0  0  0  0  0  0  0  0  0  0  0\\n   17.5002  -10.1237   20.6098 C   0  0  0  0  0  0  0  0  0  0  0  0\\n   16.1957  -10.2710   19.8581 C   0  0  0  0  0  0  0  0  0  0  0  0\\n   18.6710  -10.4592   19.9246 C   0  0  0  0  0  0  0  0  0  0  0  0\\n   19.9130  -10.3872   20.5440 C   0  0  0  0  0  0  0  0  0  0  0  0\\n   21.0694  -10.7844   19.7882 N   0  0  0  0  0  0  0  0  0  0  0  0\\n   19.9851   -9.9672   21.8890 C   0  0  0  0  0  0  0  0  0  0  0  0\\n   21.2224   -9.8475   22.5615 C   0  0  0  0  0  0  0  0  0  0  0  0\\n   21.2735   -9.4743   23.9014 C   0  0  0  0  0  0  0  0  0  0  0  0\\n   20.1016   -9.2178   24.5987 C   0  0  0  0  0  0  0  0  0  0  0  0\\n   18.8694   -9.3026   23.9552 C   0  0  0  0  0  0  0  0  0  0  0  0\\n   18.7777   -9.6415   22.5795 C   0  0  0  0  0  0  0  0  0  0  0  0\\n  1  2  1  0\\n  2  3  2  0\\n  3  4  1  0\\n  4  5  1  0\\n  4  6  2  0\\n  6  7  1  0\\n  7  8  2  0\\n  8  9  1  0\\n  9 10  2  0\\n 10 11  1  0\\n 11 12  2  0\\n 12 13  1  0\\n 13 14  1  0\\n 14 15  1  0\\n 15 16  1  0\\n 16 17  1  0\\n 17 18  1  0\\n 18 19  1  0\\n 19 20  1  0\\n 20 21  1  0\\n 21 22  1  0\\n 22 23  2  0\\n 23 24  1  0\\n 23 25  1  0\\n 25 26  2  0\\n 26 27  1  0\\n 26 28  1  0\\n 28 29  2  0\\n 29 30  1  0\\n 30 31  2  0\\n 31 32  1  0\\n 32 33  2  0\\n 12  2  1  0\\n 33 22  1  0\\n 11  6  1  0\\n 33 28  1  0\\nM  CHG  2  12   1  22   1\\nM  END\\n\",\"sdf\");\n\tviewer_15613989485569592.setStyle({\"stick\": {}});\n\tviewer_15613989485569592.setBackgroundColor(\"0xeeeeee\");\n\tviewer_15613989485569592.zoomTo();\nviewer_15613989485569592.render();\n});\n</script>",
      "text/html": [
       "<div id=\"3dmolviewer_15613989485569592\"  style=\"position: relative; width: 400px; height: 300px\">\n",
       "        <p id=\"3dmolwarning_15613989485569592\" style=\"background-color:#ffcccc;color:black\">You appear to be running in JupyterLab (or JavaScript failed to load for some other reason).  You need to install the 3dmol extension: <br>\n",
       "        <tt>jupyter labextension install jupyterlab_3dmol</tt></p>\n",
       "        </div>\n",
       "<script>\n",
       "\n",
       "var loadScriptAsync = function(uri){\n",
       "  return new Promise((resolve, reject) => {\n",
       "    var tag = document.createElement('script');\n",
       "    tag.src = uri;\n",
       "    tag.async = true;\n",
       "    tag.onload = () => {\n",
       "      resolve();\n",
       "    };\n",
       "  var firstScriptTag = document.getElementsByTagName('script')[0];\n",
       "  firstScriptTag.parentNode.insertBefore(tag, firstScriptTag);\n",
       "});\n",
       "};\n",
       "\n",
       "if(typeof $3Dmolpromise === 'undefined') {\n",
       "$3Dmolpromise = null;\n",
       "  $3Dmolpromise = loadScriptAsync('https://3dmol.csb.pitt.edu/build/3Dmol.js');\n",
       "}\n",
       "\n",
       "var viewer_15613989485569592 = null;\n",
       "var warn = document.getElementById(\"3dmolwarning_15613989485569592\");\n",
       "if(warn) {\n",
       "    warn.parentNode.removeChild(warn);\n",
       "}\n",
       "$3Dmolpromise.then(function() {\n",
       "viewer_15613989485569592 = $3Dmol.createViewer($(\"#3dmolviewer_15613989485569592\"),{backgroundColor:\"white\"});\n",
       "\tviewer_15613989485569592.removeAllModels();\n",
       "\tviewer_15613989485569592.addModel(\"3ARP_DEQ_A_606\\n     RDKit          3D\\n\\n 34 37  0  0  0  0  0  0  0  0999 V2000\\n    9.0850   -8.0530   30.0430 C   0  0  0  0  0  0  0  0  0  0  0  0\\n    8.4490   -9.0840   30.6940 C   0  0  0  0  0  0  0  0  0  0  0  0\\n    7.7220   -8.7950   31.8640 C   0  0  0  0  0  0  0  0  0  0  0  0\\n    7.6750   -7.4440   32.4090 C   0  0  0  0  0  0  0  0  0  0  0  0\\n    9.0630   -6.7670   30.5360 C   0  0  0  0  0  0  0  0  0  0  0  0\\n    8.4020   -6.4350   31.7420 C   0  0  0  0  0  0  0  0  0  0  0  0\\n    8.3690   -5.1060   32.1870 C   0  0  0  0  0  0  0  0  0  0  0  0\\n    9.0400   -4.1070   31.5050 C   0  0  0  0  0  0  0  0  0  0  0  0\\n    9.7420   -4.4320   30.3440 C   0  0  0  0  0  0  0  0  0  0  0  0\\n    9.7700   -5.7550   29.8520 N   0  0  0  0  0  0  0  0  0  0  0  0\\n   20.2190  -10.0840   21.7800 C   0  0  0  0  0  0  0  0  0  0  0  0\\n   18.9390   -9.6710   22.2570 C   0  0  0  0  0  0  0  0  0  0  0  0\\n   17.7780   -9.9610   21.5400 N   0  0  0  0  0  0  0  0  0  0  0  0\\n   17.8440  -10.5580   20.2500 C   0  0  0  0  0  0  0  0  0  0  0  0\\n   19.1010  -10.9110   19.8030 C   0  0  0  0  0  0  0  0  0  0  0  0\\n   20.2700  -10.6490   20.5210 C   0  0  0  0  0  0  0  0  0  0  0  0\\n   21.3490   -9.8090   22.4880 C   0  0  0  0  0  0  0  0  0  0  0  0\\n   21.2610   -9.1750   23.7020 C   0  0  0  0  0  0  0  0  0  0  0  0\\n   20.0370   -8.7800   24.1710 C   0  0  0  0  0  0  0  0  0  0  0  0\\n   18.8710   -9.0140   23.5180 C   0  0  0  0  0  0  0  0  0  0  0  0\\n   16.3950   -9.6810   21.9960 C   0  0  0  0  0  0  0  0  0  0  0  0\\n   15.9590   -8.2140   21.8590 C   0  0  0  0  0  0  0  0  0  0  0  0\\n   15.1700   -7.9340   23.1560 C   0  0  0  0  0  0  0  0  0  0  0  0\\n   13.8110   -8.5140   22.9920 C   0  0  0  0  0  0  0  0  0  0  0  0\\n   12.9850   -8.0970   24.2650 C   0  0  0  0  0  0  0  0  0  0  0  0\\n   11.8670   -7.0420   23.8940 C   0  0  0  0  0  0  0  0  0  0  0  0\\n   10.7280   -6.8330   24.9630 C   0  0  0  0  0  0  0  0  0  0  0  0\\n   11.2760   -6.7360   26.4720 C   0  0  0  0  0  0  0  0  0  0  0  0\\n   10.0350   -6.4500   27.4320 C   0  0  0  0  0  0  0  0  0  0  0  0\\n   10.6970   -6.0380   28.6690 C   0  0  0  0  0  0  0  0  0  0  0  0\\n   10.4820   -3.3100   29.5890 C   0  0  0  0  0  0  0  0  0  0  0  0\\n   16.5700  -10.9650   19.4130 C   0  0  0  0  0  0  0  0  0  0  0  0\\n    7.6460   -4.7930   33.3160 N   0  0  0  0  0  0  0  0  0  0  0  0\\n   21.3930  -11.0450   19.9050 N   0  0  0  0  0  0  0  0  0  0  0  0\\n  1  2  2  0\\n  1  5  1  0\\n  2  3  1  0\\n  3  4  2  0\\n  4  6  1  0\\n  5  6  2  0\\n  5 10  1  0\\n  6  7  1  0\\n  7  8  2  0\\n  7 33  1  0\\n  8  9  1  0\\n  9 10  2  0\\n  9 31  1  0\\n 10 30  1  0\\n 11 12  2  0\\n 11 16  1  0\\n 11 17  1  0\\n 12 13  1  0\\n 12 20  1  0\\n 13 14  2  0\\n 13 21  1  0\\n 14 15  1  0\\n 14 32  1  0\\n 15 16  2  0\\n 16 34  1  0\\n 17 18  2  0\\n 18 19  1  0\\n 19 20  2  0\\n 21 22  1  0\\n 22 23  1  0\\n 23 24  1  0\\n 24 25  1  0\\n 25 26  1  0\\n 26 27  1  0\\n 27 28  1  0\\n 28 29  1  0\\n 29 30  1  0\\nM  CHG  2  10   1  13   1\\nA    1\\nC1\\nA    2\\nC2\\nA    3\\nC3\\nA    4\\nC4\\nA    5\\nC5\\nA    6\\nC6\\nA    7\\nC7\\nA    8\\nC8\\nA    9\\nC9\\nA   10\\nN1\\nA   11\\nC10\\nA   12\\nC11\\nA   13\\nN2\\nA   14\\nC12\\nA   15\\nC13\\nA   16\\nC14\\nA   17\\nC15\\nA   18\\nC16\\nA   19\\nC17\\nA   20\\nC18\\nA   21\\nC19\\nA   22\\nC20\\nA   23\\nC21\\nA   24\\nC22\\nA   25\\nC23\\nA   26\\nC24\\nA   27\\nC25\\nA   28\\nC26\\nA   29\\nC27\\nA   30\\nC28\\nA   31\\nC30\\nA   32\\nC29\\nA   33\\nN4\\nA   34\\nN3\\nM  END\\n\",\"sdf\");\n",
       "\tviewer_15613989485569592.addModel(\"\\n     RDKit          3D\\n\\n 33 36  0  0  0  0  0  0  0  0999 V2000\\n   10.6170   -3.4299   29.1931 C   0  0  0  0  0  0  0  0  0  0  0  0\\n    9.9318   -4.5240   29.9827 C   0  0  0  0  0  0  0  0  0  0  0  0\\n    9.0993   -4.1304   31.0357 C   0  0  0  0  0  0  0  0  0  0  0  0\\n    8.4124   -5.0673   31.7997 C   0  0  0  0  0  0  0  0  0  0  0  0\\n    7.5470   -4.5905   32.8446 N   0  0  0  0  0  0  0  0  0  0  0  0\\n    8.5633   -6.4369   31.5017 C   0  0  0  0  0  0  0  0  0  0  0  0\\n    7.9197   -7.4334   32.2703 C   0  0  0  0  0  0  0  0  0  0  0  0\\n    8.0375   -8.7791   31.9377 C   0  0  0  0  0  0  0  0  0  0  0  0\\n    8.7948   -9.1607   30.8402 C   0  0  0  0  0  0  0  0  0  0  0  0\\n    9.4655   -8.2032   30.0830 C   0  0  0  0  0  0  0  0  0  0  0  0\\n    9.3955   -6.8222   30.4060 C   0  0  0  0  0  0  0  0  0  0  0  0\\n   10.1016   -5.8636   29.6888 N   0  0  0  0  0  0  0  0  0  0  0  0\\n   11.0249   -6.2626   28.5926 C   0  0  0  0  0  0  0  0  0  0  0  0\\n   10.2653   -6.4406   27.2602 C   0  0  0  0  0  0  0  0  0  0  0  0\\n   10.7705   -7.6390   26.4427 C   0  0  0  0  0  0  0  0  0  0  0  0\\n   12.1337   -7.4070   25.7633 C   0  0  0  0  0  0  0  0  0  0  0  0\\n   12.8855   -8.7392   25.5943 C   0  0  0  0  0  0  0  0  0  0  0  0\\n   13.9710   -8.6823   24.5076 C   0  0  0  0  0  0  0  0  0  0  0  0\\n   14.9818   -9.8331   24.6856 C   0  0  0  0  0  0  0  0  0  0  0  0\\n   15.6409  -10.2999   23.3775 C   0  0  0  0  0  0  0  0  0  0  0  0\\n   16.3261   -9.1743   22.5789 C   0  0  0  0  0  0  0  0  0  0  0  0\\n   17.5599   -9.6675   21.9131 N   0  0  0  0  0  0  0  0  0  0  0  0\\n   17.5002  -10.1237   20.6098 C   0  0  0  0  0  0  0  0  0  0  0  0\\n   16.1957  -10.2710   19.8581 C   0  0  0  0  0  0  0  0  0  0  0  0\\n   18.6710  -10.4592   19.9246 C   0  0  0  0  0  0  0  0  0  0  0  0\\n   19.9130  -10.3872   20.5440 C   0  0  0  0  0  0  0  0  0  0  0  0\\n   21.0694  -10.7844   19.7882 N   0  0  0  0  0  0  0  0  0  0  0  0\\n   19.9851   -9.9672   21.8890 C   0  0  0  0  0  0  0  0  0  0  0  0\\n   21.2224   -9.8475   22.5615 C   0  0  0  0  0  0  0  0  0  0  0  0\\n   21.2735   -9.4743   23.9014 C   0  0  0  0  0  0  0  0  0  0  0  0\\n   20.1016   -9.2178   24.5987 C   0  0  0  0  0  0  0  0  0  0  0  0\\n   18.8694   -9.3026   23.9552 C   0  0  0  0  0  0  0  0  0  0  0  0\\n   18.7777   -9.6415   22.5795 C   0  0  0  0  0  0  0  0  0  0  0  0\\n  1  2  1  0\\n  2  3  2  0\\n  3  4  1  0\\n  4  5  1  0\\n  4  6  2  0\\n  6  7  1  0\\n  7  8  2  0\\n  8  9  1  0\\n  9 10  2  0\\n 10 11  1  0\\n 11 12  2  0\\n 12 13  1  0\\n 13 14  1  0\\n 14 15  1  0\\n 15 16  1  0\\n 16 17  1  0\\n 17 18  1  0\\n 18 19  1  0\\n 19 20  1  0\\n 20 21  1  0\\n 21 22  1  0\\n 22 23  2  0\\n 23 24  1  0\\n 23 25  1  0\\n 25 26  2  0\\n 26 27  1  0\\n 26 28  1  0\\n 28 29  2  0\\n 29 30  1  0\\n 30 31  2  0\\n 31 32  1  0\\n 32 33  2  0\\n 12  2  1  0\\n 33 22  1  0\\n 11  6  1  0\\n 33 28  1  0\\nM  CHG  2  12   1  22   1\\nM  END\\n\",\"sdf\");\n",
       "\tviewer_15613989485569592.setStyle({\"stick\": {}});\n",
       "\tviewer_15613989485569592.setBackgroundColor(\"0xeeeeee\");\n",
       "\tviewer_15613989485569592.zoomTo();\n",
       "viewer_15613989485569592.render();\n",
       "});\n",
       "</script>"
      ]
     },
     "metadata": {},
     "output_type": "display_data"
    }
   ],
   "source": [
    "print(\"RMS frags: %.3f, Energy: %s\" % (AllChem.AlignMol(frags_3d, best_constrained_flex), best_constrained_flex.GetProp(\"Energy\")))\n",
    "drawit((deq_3ARP, best_constrained_flex))"
   ]
  },
  {
   "cell_type": "markdown",
   "metadata": {},
   "source": [
    "## Failure case\n",
    "\n",
    "If we now consider a more radical change to the ligand, how will this affect our process?\n",
    "\n",
    "We consider the same analysis, this time having removed six carbon atoms from the linker, reducing the linker length from seven carbons in the original fragmentation of dequalinium, to just one now. This molecule definitely should not be able to adopt a 3D conformation that is highly similar to dequalinium."
   ]
  },
  {
   "cell_type": "code",
   "execution_count": 18,
   "metadata": {},
   "outputs": [
    {
     "name": "stdout",
     "output_type": "stream",
     "text": [
      "5\n"
     ]
    },
    {
     "data": {
      "image/png": "[encoded data removed]",
      "text/plain": [
       "<PIL.PngImagePlugin.PngImageFile image mode=RGB size=600x200 at 0x7F947D5DD4E0>"
      ]
     },
     "execution_count": 18,
     "metadata": {},
     "output_type": "execute_result"
    }
   ],
   "source": [
    "candidate_mol = Chem.MolFromSmiles(\"Cc1cc(N)c2ccccc2[n+]1CCCC[n+]1c(C)cc(N)c2ccccc21\")\n",
    "\n",
    "print(Chem.rdMolDescriptors.CalcNumRotatableBonds(candidate_mol))\n",
    "\n",
    "Draw.MolsToGridImage([candidate_mol, deq_3ARP_2d])"
   ]
  },
  {
   "cell_type": "code",
   "execution_count": 19,
   "metadata": {},
   "outputs": [
    {
     "name": "stdout",
     "output_type": "stream",
     "text": [
      "Unconstrained generation\n",
      "\n",
      "RMS Fragments\t- Mean: 3.63,\tMin: 3.12,\tMax: 4.71\n",
      "Energy\t\t- Mean: 85.1,\tMin: 83.8,\tMax: 91.5\n"
     ]
    }
   ],
   "source": [
    "print(\"Unconstrained generation\\n\")\n",
    "\n",
    "rms_frags_list = []\n",
    "cenergy_list = []\n",
    "\n",
    "np.random.seed(seed=42)\n",
    "for seed in [int(x) for x in np.random.randint(1,100001, 50)]:\n",
    "    # Generate conformer\n",
    "    nm = Chem.Mol(candidate_mol)\n",
    "    nm = Chem.AddHs(nm)\n",
    "    AllChem.EmbedMolecule(nm,randomSeed=seed)\n",
    "    AllChem.UFFOptimizeMolecule(nm)\n",
    "    cenergy = AllChem.UFFGetMoleculeForceField(nm).CalcEnergy()\n",
    "    nm = Chem.RemoveHs(nm)\n",
    "    \n",
    "    # Analyse conformer\n",
    "    match = nm.GetSubstructMatch(frags_3d)\n",
    "    if not match:\n",
    "        raise ValueError(\"molecule doesn't match the core\")\n",
    "    algMap = [(j, i) for i, j in enumerate(match)]\n",
    "    rms_frags = AllChem.AlignMol(nm, frags_3d, atomMap=algMap)\n",
    "    \n",
    "    rms_frags_list.append(rms_frags)\n",
    "    cenergy_list.append(cenergy)\n",
    "    \n",
    "    # Record best\n",
    "    if rms_frags == min(rms_frags_list):\n",
    "        best_unconstrained = Chem.Mol(nm)\n",
    "        best_unconstrained.SetProp(\"Energy\", \"%.1f\" % cenergy)\n",
    "    \n",
    "print(\"RMS Fragments\\t- Mean: %.2f,\\tMin: %.2f,\\tMax: %.2f\" % (np.mean(rms_frags_list), min(rms_frags_list), max(rms_frags_list)))\n",
    "print(\"Energy\\t\\t- Mean: %.1f,\\tMin: %.1f,\\tMax: %.1f\" % (np.mean(cenergy_list), min(cenergy_list), max(cenergy_list)))"
   ]
  },
  {
   "cell_type": "code",
   "execution_count": 20,
   "metadata": {},
   "outputs": [
    {
     "name": "stdout",
     "output_type": "stream",
     "text": [
      "Rough Constrained Generation\n",
      "\n",
      "DIST:  0.0\n",
      "RMS Fragments\t- Mean: 0.83,\tMin: 0.83,\tMax: 0.84\n",
      "Energy\t\t- Mean: 1576.5,\tMin: 1564.9,\tMax: 1650.9\n",
      "\n",
      "DIST:  0.1\n",
      "RMS Fragments\t- Mean: 0.88,\tMin: 0.87,\tMax: 0.88\n",
      "Energy\t\t- Mean: 1483.7,\tMin: 1473.9,\tMax: 1548.6\n",
      "\n",
      "DIST:  0.25\n",
      "RMS Fragments\t- Mean: 0.95,\tMin: 0.95,\tMax: 0.96\n",
      "Energy\t\t- Mean: 1348.5,\tMin: 1338.3,\tMax: 1414.3\n",
      "\n",
      "DIST:  0.5\n",
      "RMS Fragments\t- Mean: 1.10,\tMin: 1.09,\tMax: 1.10\n",
      "Energy\t\t- Mean: 1140.2,\tMin: 1124.8,\tMax: 1227.4\n",
      "\n",
      "DIST:  0.75\n",
      "RMS Fragments\t- Mean: 1.26,\tMin: 1.25,\tMax: 1.26\n",
      "Energy\t\t- Mean: 947.5,\tMin: 936.4,\tMax: 1020.6\n",
      "\n",
      "DIST:  1.0\n",
      "RMS Fragments\t- Mean: 1.43,\tMin: 1.42,\tMax: 1.43\n",
      "Energy\t\t- Mean: 784.9,\tMin: 771.4,\tMax: 811.6\n",
      "\n"
     ]
    }
   ],
   "source": [
    "print(\"Rough Constrained Generation\\n\")\n",
    "\n",
    "for dist in [0.0, 0.1, 0.25, 0.5, 0.75, 1.0]:\n",
    "    print(\"DIST: \", dist)\n",
    "    rms_frags_list = []\n",
    "    cenergy_list = []\n",
    "\n",
    "    np.random.seed(seed=42)\n",
    "    for seed in [int(x) for x in np.random.randint(1,100001, 50)]:\n",
    "        # Generate conformer\n",
    "        nm = Chem.Mol(candidate_mol)\n",
    "        nm = Chem.AddHs(nm)\n",
    "        RoughConstrainedEmbed(nm,frags_3d,randomseed=seed,tdist=dist)\n",
    "        cenergy = AllChem.UFFGetMoleculeForceField(nm).CalcEnergy()\n",
    "        nm = Chem.RemoveHs(nm)\n",
    "        \n",
    "        # Anaylse conformer\n",
    "        match = nm.GetSubstructMatch(frags_3d)\n",
    "        if not match:\n",
    "            raise ValueError(\"molecule doesn't match the core\")\n",
    "        algMap = [(j, i) for i, j in enumerate(match)]\n",
    "        rms_frags = AllChem.AlignMol(nm, frags_3d, atomMap=algMap)\n",
    "\n",
    "        rms_frags_list.append(rms_frags)\n",
    "        cenergy_list.append(cenergy)\n",
    "        \n",
    "        # Record best for dist ==0.75\n",
    "        if dist == 0.75:\n",
    "            if rms_frags == min(rms_frags_list):\n",
    "                best_constrained_flex = Chem.Mol(nm)\n",
    "                best_constrained_flex.SetProp(\"Energy\", \"%.1f\" % cenergy)\n",
    "\n",
    "    print(\"RMS Fragments\\t- Mean: %.2f,\\tMin: %.2f,\\tMax: %.2f\" % (np.mean(rms_frags_list), min(rms_frags_list), max(rms_frags_list)))\n",
    "    print(\"Energy\\t\\t- Mean: %.1f,\\tMin: %.1f,\\tMax: %.1f\" % (np.mean(cenergy_list), min(cenergy_list), max(cenergy_list)))\n",
    "    print()"
   ]
  },
  {
   "cell_type": "code",
   "execution_count": 21,
   "metadata": {},
   "outputs": [
    {
     "name": "stdout",
     "output_type": "stream",
     "text": [
      "RMS frags: 3.116, Energy: 84.6\n"
     ]
    },
    {
     "data": {
      "application/3dmoljs_load.v0": "<div id=\"3dmolviewer_15613990075691168\"  style=\"position: relative; width: 400px; height: 300px\">\n        <p id=\"3dmolwarning_15613990075691168\" style=\"background-color:#ffcccc;color:black\">You appear to be running in JupyterLab (or JavaScript failed to load for some other reason).  You need to install the 3dmol extension: <br>\n        <tt>jupyter labextension install jupyterlab_3dmol</tt></p>\n        </div>\n<script>\n\nvar loadScriptAsync = function(uri){\n  return new Promise((resolve, reject) => {\n    var tag = document.createElement('script');\n    tag.src = uri;\n    tag.async = true;\n    tag.onload = () => {\n      resolve();\n    };\n  var firstScriptTag = document.getElementsByTagName('script')[0];\n  firstScriptTag.parentNode.insertBefore(tag, firstScriptTag);\n});\n};\n\nif(typeof $3Dmolpromise === 'undefined') {\n$3Dmolpromise = null;\n  $3Dmolpromise = loadScriptAsync('https://3dmol.csb.pitt.edu/build/3Dmol.js');\n}\n\nvar viewer_15613990075691168 = null;\nvar warn = document.getElementById(\"3dmolwarning_15613990075691168\");\nif(warn) {\n    warn.parentNode.removeChild(warn);\n}\n$3Dmolpromise.then(function() {\nviewer_15613990075691168 = $3Dmol.createViewer($(\"#3dmolviewer_15613990075691168\"),{backgroundColor:\"white\"});\n\tviewer_15613990075691168.removeAllModels();\n\tviewer_15613990075691168.addModel(\"3ARP_DEQ_A_606\\n     RDKit          3D\\n\\n 34 37  0  0  0  0  0  0  0  0999 V2000\\n    9.0850   -8.0530   30.0430 C   0  0  0  0  0  0  0  0  0  0  0  0\\n    8.4490   -9.0840   30.6940 C   0  0  0  0  0  0  0  0  0  0  0  0\\n    7.7220   -8.7950   31.8640 C   0  0  0  0  0  0  0  0  0  0  0  0\\n    7.6750   -7.4440   32.4090 C   0  0  0  0  0  0  0  0  0  0  0  0\\n    9.0630   -6.7670   30.5360 C   0  0  0  0  0  0  0  0  0  0  0  0\\n    8.4020   -6.4350   31.7420 C   0  0  0  0  0  0  0  0  0  0  0  0\\n    8.3690   -5.1060   32.1870 C   0  0  0  0  0  0  0  0  0  0  0  0\\n    9.0400   -4.1070   31.5050 C   0  0  0  0  0  0  0  0  0  0  0  0\\n    9.7420   -4.4320   30.3440 C   0  0  0  0  0  0  0  0  0  0  0  0\\n    9.7700   -5.7550   29.8520 N   0  0  0  0  0  0  0  0  0  0  0  0\\n   20.2190  -10.0840   21.7800 C   0  0  0  0  0  0  0  0  0  0  0  0\\n   18.9390   -9.6710   22.2570 C   0  0  0  0  0  0  0  0  0  0  0  0\\n   17.7780   -9.9610   21.5400 N   0  0  0  0  0  0  0  0  0  0  0  0\\n   17.8440  -10.5580   20.2500 C   0  0  0  0  0  0  0  0  0  0  0  0\\n   19.1010  -10.9110   19.8030 C   0  0  0  0  0  0  0  0  0  0  0  0\\n   20.2700  -10.6490   20.5210 C   0  0  0  0  0  0  0  0  0  0  0  0\\n   21.3490   -9.8090   22.4880 C   0  0  0  0  0  0  0  0  0  0  0  0\\n   21.2610   -9.1750   23.7020 C   0  0  0  0  0  0  0  0  0  0  0  0\\n   20.0370   -8.7800   24.1710 C   0  0  0  0  0  0  0  0  0  0  0  0\\n   18.8710   -9.0140   23.5180 C   0  0  0  0  0  0  0  0  0  0  0  0\\n   16.3950   -9.6810   21.9960 C   0  0  0  0  0  0  0  0  0  0  0  0\\n   15.9590   -8.2140   21.8590 C   0  0  0  0  0  0  0  0  0  0  0  0\\n   15.1700   -7.9340   23.1560 C   0  0  0  0  0  0  0  0  0  0  0  0\\n   13.8110   -8.5140   22.9920 C   0  0  0  0  0  0  0  0  0  0  0  0\\n   12.9850   -8.0970   24.2650 C   0  0  0  0  0  0  0  0  0  0  0  0\\n   11.8670   -7.0420   23.8940 C   0  0  0  0  0  0  0  0  0  0  0  0\\n   10.7280   -6.8330   24.9630 C   0  0  0  0  0  0  0  0  0  0  0  0\\n   11.2760   -6.7360   26.4720 C   0  0  0  0  0  0  0  0  0  0  0  0\\n   10.0350   -6.4500   27.4320 C   0  0  0  0  0  0  0  0  0  0  0  0\\n   10.6970   -6.0380   28.6690 C   0  0  0  0  0  0  0  0  0  0  0  0\\n   10.4820   -3.3100   29.5890 C   0  0  0  0  0  0  0  0  0  0  0  0\\n   16.5700  -10.9650   19.4130 C   0  0  0  0  0  0  0  0  0  0  0  0\\n    7.6460   -4.7930   33.3160 N   0  0  0  0  0  0  0  0  0  0  0  0\\n   21.3930  -11.0450   19.9050 N   0  0  0  0  0  0  0  0  0  0  0  0\\n  1  2  2  0\\n  1  5  1  0\\n  2  3  1  0\\n  3  4  2  0\\n  4  6  1  0\\n  5  6  2  0\\n  5 10  1  0\\n  6  7  1  0\\n  7  8  2  0\\n  7 33  1  0\\n  8  9  1  0\\n  9 10  2  0\\n  9 31  1  0\\n 10 30  1  0\\n 11 12  2  0\\n 11 16  1  0\\n 11 17  1  0\\n 12 13  1  0\\n 12 20  1  0\\n 13 14  2  0\\n 13 21  1  0\\n 14 15  1  0\\n 14 32  1  0\\n 15 16  2  0\\n 16 34  1  0\\n 17 18  2  0\\n 18 19  1  0\\n 19 20  2  0\\n 21 22  1  0\\n 22 23  1  0\\n 23 24  1  0\\n 24 25  1  0\\n 25 26  1  0\\n 26 27  1  0\\n 27 28  1  0\\n 28 29  1  0\\n 29 30  1  0\\nM  CHG  2  10   1  13   1\\nA    1\\nC1\\nA    2\\nC2\\nA    3\\nC3\\nA    4\\nC4\\nA    5\\nC5\\nA    6\\nC6\\nA    7\\nC7\\nA    8\\nC8\\nA    9\\nC9\\nA   10\\nN1\\nA   11\\nC10\\nA   12\\nC11\\nA   13\\nN2\\nA   14\\nC12\\nA   15\\nC13\\nA   16\\nC14\\nA   17\\nC15\\nA   18\\nC16\\nA   19\\nC17\\nA   20\\nC18\\nA   21\\nC19\\nA   22\\nC20\\nA   23\\nC21\\nA   24\\nC22\\nA   25\\nC23\\nA   26\\nC24\\nA   27\\nC25\\nA   28\\nC26\\nA   29\\nC27\\nA   30\\nC28\\nA   31\\nC30\\nA   32\\nC29\\nA   33\\nN4\\nA   34\\nN3\\nM  END\\n\",\"sdf\");\n\tviewer_15613990075691168.addModel(\"\\n     RDKit          3D\\n\\n 28 31  0  0  0  0  0  0  0  0999 V2000\\n   12.2181   -4.4699   27.0784 C   0  0  0  0  0  0  0  0  0  0  0  0\\n   11.5309   -5.3777   28.0773 C   0  0  0  0  0  0  0  0  0  0  0  0\\n   10.5151   -4.8162   28.8555 C   0  0  0  0  0  0  0  0  0  0  0  0\\n    9.8366   -5.5705   29.8044 C   0  0  0  0  0  0  0  0  0  0  0  0\\n    8.8531   -4.9102   30.6182 N   0  0  0  0  0  0  0  0  0  0  0  0\\n   10.1399   -6.9414   29.9360 C   0  0  0  0  0  0  0  0  0  0  0  0\\n    9.4147   -7.7738   30.8180 C   0  0  0  0  0  0  0  0  0  0  0  0\\n    9.7162   -9.1271   30.9333 C   0  0  0  0  0  0  0  0  0  0  0  0\\n   10.7295   -9.6828   30.1658 C   0  0  0  0  0  0  0  0  0  0  0  0\\n   11.4496   -8.8918   29.2735 C   0  0  0  0  0  0  0  0  0  0  0  0\\n   11.1812   -7.5030   29.1344 C   0  0  0  0  0  0  0  0  0  0  0  0\\n   11.8866   -6.7038   28.2429 N   0  0  0  0  0  0  0  0  0  0  0  0\\n   12.9935   -7.2668   27.4291 C   0  0  0  0  0  0  0  0  0  0  0  0\\n   12.4463   -7.9535   26.1654 C   0  0  0  0  0  0  0  0  0  0  0  0\\n   13.5496   -8.6383   25.3457 C   0  0  0  0  0  0  0  0  0  0  0  0\\n   14.3948   -7.6352   24.5406 C   0  0  0  0  0  0  0  0  0  0  0  0\\n   15.4780   -8.3331   23.8037 N   0  0  0  0  0  0  0  0  0  0  0  0\\n   15.2980   -8.6553   22.4715 C   0  0  0  0  0  0  0  0  0  0  0  0\\n   14.0062   -8.3755   21.7338 C   0  0  0  0  0  0  0  0  0  0  0  0\\n   16.3386   -9.2302   21.7372 C   0  0  0  0  0  0  0  0  0  0  0  0\\n   17.5608   -9.5216   22.3302 C   0  0  0  0  0  0  0  0  0  0  0  0\\n   18.6052  -10.0589   21.5020 N   0  0  0  0  0  0  0  0  0  0  0  0\\n   17.7321   -9.2719   23.7076 C   0  0  0  0  0  0  0  0  0  0  0  0\\n   18.9214   -9.6338   24.3794 C   0  0  0  0  0  0  0  0  0  0  0  0\\n   19.0816   -9.3755   25.7373 C   0  0  0  0  0  0  0  0  0  0  0  0\\n   18.0629   -8.7662   26.4557 C   0  0  0  0  0  0  0  0  0  0  0  0\\n   16.8708   -8.4168   25.8256 C   0  0  0  0  0  0  0  0  0  0  0  0\\n   16.6683   -8.6614   24.4403 C   0  0  0  0  0  0  0  0  0  0  0  0\\n  1  2  1  0\\n  2  3  2  0\\n  3  4  1  0\\n  4  5  1  0\\n  4  6  2  0\\n  6  7  1  0\\n  7  8  2  0\\n  8  9  1  0\\n  9 10  2  0\\n 10 11  1  0\\n 11 12  2  0\\n 12 13  1  0\\n 13 14  1  0\\n 14 15  1  0\\n 15 16  1  0\\n 16 17  1  0\\n 17 18  2  0\\n 18 19  1  0\\n 18 20  1  0\\n 20 21  2  0\\n 21 22  1  0\\n 21 23  1  0\\n 23 24  2  0\\n 24 25  1  0\\n 25 26  2  0\\n 26 27  1  0\\n 27 28  2  0\\n 12  2  1  0\\n 28 17  1  0\\n 11  6  1  0\\n 28 23  1  0\\nM  CHG  2  12   1  17   1\\nM  END\\n\",\"sdf\");\n\tviewer_15613990075691168.setStyle({\"stick\": {}});\n\tviewer_15613990075691168.setBackgroundColor(\"0xeeeeee\");\n\tviewer_15613990075691168.zoomTo();\nviewer_15613990075691168.render();\n});\n</script>",
      "text/html": [
       "<div id=\"3dmolviewer_15613990075691168\"  style=\"position: relative; width: 400px; height: 300px\">\n",
       "        <p id=\"3dmolwarning_15613990075691168\" style=\"background-color:#ffcccc;color:black\">You appear to be running in JupyterLab (or JavaScript failed to load for some other reason).  You need to install the 3dmol extension: <br>\n",
       "        <tt>jupyter labextension install jupyterlab_3dmol</tt></p>\n",
       "        </div>\n",
       "<script>\n",
       "\n",
       "var loadScriptAsync = function(uri){\n",
       "  return new Promise((resolve, reject) => {\n",
       "    var tag = document.createElement('script');\n",
       "    tag.src = uri;\n",
       "    tag.async = true;\n",
       "    tag.onload = () => {\n",
       "      resolve();\n",
       "    };\n",
       "  var firstScriptTag = document.getElementsByTagName('script')[0];\n",
       "  firstScriptTag.parentNode.insertBefore(tag, firstScriptTag);\n",
       "});\n",
       "};\n",
       "\n",
       "if(typeof $3Dmolpromise === 'undefined') {\n",
       "$3Dmolpromise = null;\n",
       "  $3Dmolpromise = loadScriptAsync('https://3dmol.csb.pitt.edu/build/3Dmol.js');\n",
       "}\n",
       "\n",
       "var viewer_15613990075691168 = null;\n",
       "var warn = document.getElementById(\"3dmolwarning_15613990075691168\");\n",
       "if(warn) {\n",
       "    warn.parentNode.removeChild(warn);\n",
       "}\n",
       "$3Dmolpromise.then(function() {\n",
       "viewer_15613990075691168 = $3Dmol.createViewer($(\"#3dmolviewer_15613990075691168\"),{backgroundColor:\"white\"});\n",
       "\tviewer_15613990075691168.removeAllModels();\n",
       "\tviewer_15613990075691168.addModel(\"3ARP_DEQ_A_606\\n     RDKit          3D\\n\\n 34 37  0  0  0  0  0  0  0  0999 V2000\\n    9.0850   -8.0530   30.0430 C   0  0  0  0  0  0  0  0  0  0  0  0\\n    8.4490   -9.0840   30.6940 C   0  0  0  0  0  0  0  0  0  0  0  0\\n    7.7220   -8.7950   31.8640 C   0  0  0  0  0  0  0  0  0  0  0  0\\n    7.6750   -7.4440   32.4090 C   0  0  0  0  0  0  0  0  0  0  0  0\\n    9.0630   -6.7670   30.5360 C   0  0  0  0  0  0  0  0  0  0  0  0\\n    8.4020   -6.4350   31.7420 C   0  0  0  0  0  0  0  0  0  0  0  0\\n    8.3690   -5.1060   32.1870 C   0  0  0  0  0  0  0  0  0  0  0  0\\n    9.0400   -4.1070   31.5050 C   0  0  0  0  0  0  0  0  0  0  0  0\\n    9.7420   -4.4320   30.3440 C   0  0  0  0  0  0  0  0  0  0  0  0\\n    9.7700   -5.7550   29.8520 N   0  0  0  0  0  0  0  0  0  0  0  0\\n   20.2190  -10.0840   21.7800 C   0  0  0  0  0  0  0  0  0  0  0  0\\n   18.9390   -9.6710   22.2570 C   0  0  0  0  0  0  0  0  0  0  0  0\\n   17.7780   -9.9610   21.5400 N   0  0  0  0  0  0  0  0  0  0  0  0\\n   17.8440  -10.5580   20.2500 C   0  0  0  0  0  0  0  0  0  0  0  0\\n   19.1010  -10.9110   19.8030 C   0  0  0  0  0  0  0  0  0  0  0  0\\n   20.2700  -10.6490   20.5210 C   0  0  0  0  0  0  0  0  0  0  0  0\\n   21.3490   -9.8090   22.4880 C   0  0  0  0  0  0  0  0  0  0  0  0\\n   21.2610   -9.1750   23.7020 C   0  0  0  0  0  0  0  0  0  0  0  0\\n   20.0370   -8.7800   24.1710 C   0  0  0  0  0  0  0  0  0  0  0  0\\n   18.8710   -9.0140   23.5180 C   0  0  0  0  0  0  0  0  0  0  0  0\\n   16.3950   -9.6810   21.9960 C   0  0  0  0  0  0  0  0  0  0  0  0\\n   15.9590   -8.2140   21.8590 C   0  0  0  0  0  0  0  0  0  0  0  0\\n   15.1700   -7.9340   23.1560 C   0  0  0  0  0  0  0  0  0  0  0  0\\n   13.8110   -8.5140   22.9920 C   0  0  0  0  0  0  0  0  0  0  0  0\\n   12.9850   -8.0970   24.2650 C   0  0  0  0  0  0  0  0  0  0  0  0\\n   11.8670   -7.0420   23.8940 C   0  0  0  0  0  0  0  0  0  0  0  0\\n   10.7280   -6.8330   24.9630 C   0  0  0  0  0  0  0  0  0  0  0  0\\n   11.2760   -6.7360   26.4720 C   0  0  0  0  0  0  0  0  0  0  0  0\\n   10.0350   -6.4500   27.4320 C   0  0  0  0  0  0  0  0  0  0  0  0\\n   10.6970   -6.0380   28.6690 C   0  0  0  0  0  0  0  0  0  0  0  0\\n   10.4820   -3.3100   29.5890 C   0  0  0  0  0  0  0  0  0  0  0  0\\n   16.5700  -10.9650   19.4130 C   0  0  0  0  0  0  0  0  0  0  0  0\\n    7.6460   -4.7930   33.3160 N   0  0  0  0  0  0  0  0  0  0  0  0\\n   21.3930  -11.0450   19.9050 N   0  0  0  0  0  0  0  0  0  0  0  0\\n  1  2  2  0\\n  1  5  1  0\\n  2  3  1  0\\n  3  4  2  0\\n  4  6  1  0\\n  5  6  2  0\\n  5 10  1  0\\n  6  7  1  0\\n  7  8  2  0\\n  7 33  1  0\\n  8  9  1  0\\n  9 10  2  0\\n  9 31  1  0\\n 10 30  1  0\\n 11 12  2  0\\n 11 16  1  0\\n 11 17  1  0\\n 12 13  1  0\\n 12 20  1  0\\n 13 14  2  0\\n 13 21  1  0\\n 14 15  1  0\\n 14 32  1  0\\n 15 16  2  0\\n 16 34  1  0\\n 17 18  2  0\\n 18 19  1  0\\n 19 20  2  0\\n 21 22  1  0\\n 22 23  1  0\\n 23 24  1  0\\n 24 25  1  0\\n 25 26  1  0\\n 26 27  1  0\\n 27 28  1  0\\n 28 29  1  0\\n 29 30  1  0\\nM  CHG  2  10   1  13   1\\nA    1\\nC1\\nA    2\\nC2\\nA    3\\nC3\\nA    4\\nC4\\nA    5\\nC5\\nA    6\\nC6\\nA    7\\nC7\\nA    8\\nC8\\nA    9\\nC9\\nA   10\\nN1\\nA   11\\nC10\\nA   12\\nC11\\nA   13\\nN2\\nA   14\\nC12\\nA   15\\nC13\\nA   16\\nC14\\nA   17\\nC15\\nA   18\\nC16\\nA   19\\nC17\\nA   20\\nC18\\nA   21\\nC19\\nA   22\\nC20\\nA   23\\nC21\\nA   24\\nC22\\nA   25\\nC23\\nA   26\\nC24\\nA   27\\nC25\\nA   28\\nC26\\nA   29\\nC27\\nA   30\\nC28\\nA   31\\nC30\\nA   32\\nC29\\nA   33\\nN4\\nA   34\\nN3\\nM  END\\n\",\"sdf\");\n",
       "\tviewer_15613990075691168.addModel(\"\\n     RDKit          3D\\n\\n 28 31  0  0  0  0  0  0  0  0999 V2000\\n   12.2181   -4.4699   27.0784 C   0  0  0  0  0  0  0  0  0  0  0  0\\n   11.5309   -5.3777   28.0773 C   0  0  0  0  0  0  0  0  0  0  0  0\\n   10.5151   -4.8162   28.8555 C   0  0  0  0  0  0  0  0  0  0  0  0\\n    9.8366   -5.5705   29.8044 C   0  0  0  0  0  0  0  0  0  0  0  0\\n    8.8531   -4.9102   30.6182 N   0  0  0  0  0  0  0  0  0  0  0  0\\n   10.1399   -6.9414   29.9360 C   0  0  0  0  0  0  0  0  0  0  0  0\\n    9.4147   -7.7738   30.8180 C   0  0  0  0  0  0  0  0  0  0  0  0\\n    9.7162   -9.1271   30.9333 C   0  0  0  0  0  0  0  0  0  0  0  0\\n   10.7295   -9.6828   30.1658 C   0  0  0  0  0  0  0  0  0  0  0  0\\n   11.4496   -8.8918   29.2735 C   0  0  0  0  0  0  0  0  0  0  0  0\\n   11.1812   -7.5030   29.1344 C   0  0  0  0  0  0  0  0  0  0  0  0\\n   11.8866   -6.7038   28.2429 N   0  0  0  0  0  0  0  0  0  0  0  0\\n   12.9935   -7.2668   27.4291 C   0  0  0  0  0  0  0  0  0  0  0  0\\n   12.4463   -7.9535   26.1654 C   0  0  0  0  0  0  0  0  0  0  0  0\\n   13.5496   -8.6383   25.3457 C   0  0  0  0  0  0  0  0  0  0  0  0\\n   14.3948   -7.6352   24.5406 C   0  0  0  0  0  0  0  0  0  0  0  0\\n   15.4780   -8.3331   23.8037 N   0  0  0  0  0  0  0  0  0  0  0  0\\n   15.2980   -8.6553   22.4715 C   0  0  0  0  0  0  0  0  0  0  0  0\\n   14.0062   -8.3755   21.7338 C   0  0  0  0  0  0  0  0  0  0  0  0\\n   16.3386   -9.2302   21.7372 C   0  0  0  0  0  0  0  0  0  0  0  0\\n   17.5608   -9.5216   22.3302 C   0  0  0  0  0  0  0  0  0  0  0  0\\n   18.6052  -10.0589   21.5020 N   0  0  0  0  0  0  0  0  0  0  0  0\\n   17.7321   -9.2719   23.7076 C   0  0  0  0  0  0  0  0  0  0  0  0\\n   18.9214   -9.6338   24.3794 C   0  0  0  0  0  0  0  0  0  0  0  0\\n   19.0816   -9.3755   25.7373 C   0  0  0  0  0  0  0  0  0  0  0  0\\n   18.0629   -8.7662   26.4557 C   0  0  0  0  0  0  0  0  0  0  0  0\\n   16.8708   -8.4168   25.8256 C   0  0  0  0  0  0  0  0  0  0  0  0\\n   16.6683   -8.6614   24.4403 C   0  0  0  0  0  0  0  0  0  0  0  0\\n  1  2  1  0\\n  2  3  2  0\\n  3  4  1  0\\n  4  5  1  0\\n  4  6  2  0\\n  6  7  1  0\\n  7  8  2  0\\n  8  9  1  0\\n  9 10  2  0\\n 10 11  1  0\\n 11 12  2  0\\n 12 13  1  0\\n 13 14  1  0\\n 14 15  1  0\\n 15 16  1  0\\n 16 17  1  0\\n 17 18  2  0\\n 18 19  1  0\\n 18 20  1  0\\n 20 21  2  0\\n 21 22  1  0\\n 21 23  1  0\\n 23 24  2  0\\n 24 25  1  0\\n 25 26  2  0\\n 26 27  1  0\\n 27 28  2  0\\n 12  2  1  0\\n 28 17  1  0\\n 11  6  1  0\\n 28 23  1  0\\nM  CHG  2  12   1  17   1\\nM  END\\n\",\"sdf\");\n",
       "\tviewer_15613990075691168.setStyle({\"stick\": {}});\n",
       "\tviewer_15613990075691168.setBackgroundColor(\"0xeeeeee\");\n",
       "\tviewer_15613990075691168.zoomTo();\n",
       "viewer_15613990075691168.render();\n",
       "});\n",
       "</script>"
      ]
     },
     "metadata": {},
     "output_type": "display_data"
    }
   ],
   "source": [
    "print(\"RMS frags: %.3f, Energy: %s\" % (AllChem.AlignMol(frags_3d, best_unconstrained), best_unconstrained.GetProp(\"Energy\")))\n",
    "drawit((deq_3ARP, best_unconstrained))"
   ]
  },
  {
   "cell_type": "code",
   "execution_count": 22,
   "metadata": {},
   "outputs": [
    {
     "name": "stdout",
     "output_type": "stream",
     "text": [
      "RMS frags: 1.251, Energy: 968.3\n"
     ]
    },
    {
     "data": {
      "application/3dmoljs_load.v0": "<div id=\"3dmolviewer_15613990075763142\"  style=\"position: relative; width: 400px; height: 300px\">\n        <p id=\"3dmolwarning_15613990075763142\" style=\"background-color:#ffcccc;color:black\">You appear to be running in JupyterLab (or JavaScript failed to load for some other reason).  You need to install the 3dmol extension: <br>\n        <tt>jupyter labextension install jupyterlab_3dmol</tt></p>\n        </div>\n<script>\n\nvar loadScriptAsync = function(uri){\n  return new Promise((resolve, reject) => {\n    var tag = document.createElement('script');\n    tag.src = uri;\n    tag.async = true;\n    tag.onload = () => {\n      resolve();\n    };\n  var firstScriptTag = document.getElementsByTagName('script')[0];\n  firstScriptTag.parentNode.insertBefore(tag, firstScriptTag);\n});\n};\n\nif(typeof $3Dmolpromise === 'undefined') {\n$3Dmolpromise = null;\n  $3Dmolpromise = loadScriptAsync('https://3dmol.csb.pitt.edu/build/3Dmol.js');\n}\n\nvar viewer_15613990075763142 = null;\nvar warn = document.getElementById(\"3dmolwarning_15613990075763142\");\nif(warn) {\n    warn.parentNode.removeChild(warn);\n}\n$3Dmolpromise.then(function() {\nviewer_15613990075763142 = $3Dmol.createViewer($(\"#3dmolviewer_15613990075763142\"),{backgroundColor:\"white\"});\n\tviewer_15613990075763142.removeAllModels();\n\tviewer_15613990075763142.addModel(\"3ARP_DEQ_A_606\\n     RDKit          3D\\n\\n 34 37  0  0  0  0  0  0  0  0999 V2000\\n    9.0850   -8.0530   30.0430 C   0  0  0  0  0  0  0  0  0  0  0  0\\n    8.4490   -9.0840   30.6940 C   0  0  0  0  0  0  0  0  0  0  0  0\\n    7.7220   -8.7950   31.8640 C   0  0  0  0  0  0  0  0  0  0  0  0\\n    7.6750   -7.4440   32.4090 C   0  0  0  0  0  0  0  0  0  0  0  0\\n    9.0630   -6.7670   30.5360 C   0  0  0  0  0  0  0  0  0  0  0  0\\n    8.4020   -6.4350   31.7420 C   0  0  0  0  0  0  0  0  0  0  0  0\\n    8.3690   -5.1060   32.1870 C   0  0  0  0  0  0  0  0  0  0  0  0\\n    9.0400   -4.1070   31.5050 C   0  0  0  0  0  0  0  0  0  0  0  0\\n    9.7420   -4.4320   30.3440 C   0  0  0  0  0  0  0  0  0  0  0  0\\n    9.7700   -5.7550   29.8520 N   0  0  0  0  0  0  0  0  0  0  0  0\\n   20.2190  -10.0840   21.7800 C   0  0  0  0  0  0  0  0  0  0  0  0\\n   18.9390   -9.6710   22.2570 C   0  0  0  0  0  0  0  0  0  0  0  0\\n   17.7780   -9.9610   21.5400 N   0  0  0  0  0  0  0  0  0  0  0  0\\n   17.8440  -10.5580   20.2500 C   0  0  0  0  0  0  0  0  0  0  0  0\\n   19.1010  -10.9110   19.8030 C   0  0  0  0  0  0  0  0  0  0  0  0\\n   20.2700  -10.6490   20.5210 C   0  0  0  0  0  0  0  0  0  0  0  0\\n   21.3490   -9.8090   22.4880 C   0  0  0  0  0  0  0  0  0  0  0  0\\n   21.2610   -9.1750   23.7020 C   0  0  0  0  0  0  0  0  0  0  0  0\\n   20.0370   -8.7800   24.1710 C   0  0  0  0  0  0  0  0  0  0  0  0\\n   18.8710   -9.0140   23.5180 C   0  0  0  0  0  0  0  0  0  0  0  0\\n   16.3950   -9.6810   21.9960 C   0  0  0  0  0  0  0  0  0  0  0  0\\n   15.9590   -8.2140   21.8590 C   0  0  0  0  0  0  0  0  0  0  0  0\\n   15.1700   -7.9340   23.1560 C   0  0  0  0  0  0  0  0  0  0  0  0\\n   13.8110   -8.5140   22.9920 C   0  0  0  0  0  0  0  0  0  0  0  0\\n   12.9850   -8.0970   24.2650 C   0  0  0  0  0  0  0  0  0  0  0  0\\n   11.8670   -7.0420   23.8940 C   0  0  0  0  0  0  0  0  0  0  0  0\\n   10.7280   -6.8330   24.9630 C   0  0  0  0  0  0  0  0  0  0  0  0\\n   11.2760   -6.7360   26.4720 C   0  0  0  0  0  0  0  0  0  0  0  0\\n   10.0350   -6.4500   27.4320 C   0  0  0  0  0  0  0  0  0  0  0  0\\n   10.6970   -6.0380   28.6690 C   0  0  0  0  0  0  0  0  0  0  0  0\\n   10.4820   -3.3100   29.5890 C   0  0  0  0  0  0  0  0  0  0  0  0\\n   16.5700  -10.9650   19.4130 C   0  0  0  0  0  0  0  0  0  0  0  0\\n    7.6460   -4.7930   33.3160 N   0  0  0  0  0  0  0  0  0  0  0  0\\n   21.3930  -11.0450   19.9050 N   0  0  0  0  0  0  0  0  0  0  0  0\\n  1  2  2  0\\n  1  5  1  0\\n  2  3  1  0\\n  3  4  2  0\\n  4  6  1  0\\n  5  6  2  0\\n  5 10  1  0\\n  6  7  1  0\\n  7  8  2  0\\n  7 33  1  0\\n  8  9  1  0\\n  9 10  2  0\\n  9 31  1  0\\n 10 30  1  0\\n 11 12  2  0\\n 11 16  1  0\\n 11 17  1  0\\n 12 13  1  0\\n 12 20  1  0\\n 13 14  2  0\\n 13 21  1  0\\n 14 15  1  0\\n 14 32  1  0\\n 15 16  2  0\\n 16 34  1  0\\n 17 18  2  0\\n 18 19  1  0\\n 19 20  2  0\\n 21 22  1  0\\n 22 23  1  0\\n 23 24  1  0\\n 24 25  1  0\\n 25 26  1  0\\n 26 27  1  0\\n 27 28  1  0\\n 28 29  1  0\\n 29 30  1  0\\nM  CHG  2  10   1  13   1\\nA    1\\nC1\\nA    2\\nC2\\nA    3\\nC3\\nA    4\\nC4\\nA    5\\nC5\\nA    6\\nC6\\nA    7\\nC7\\nA    8\\nC8\\nA    9\\nC9\\nA   10\\nN1\\nA   11\\nC10\\nA   12\\nC11\\nA   13\\nN2\\nA   14\\nC12\\nA   15\\nC13\\nA   16\\nC14\\nA   17\\nC15\\nA   18\\nC16\\nA   19\\nC17\\nA   20\\nC18\\nA   21\\nC19\\nA   22\\nC20\\nA   23\\nC21\\nA   24\\nC22\\nA   25\\nC23\\nA   26\\nC24\\nA   27\\nC25\\nA   28\\nC26\\nA   29\\nC27\\nA   30\\nC28\\nA   31\\nC30\\nA   32\\nC29\\nA   33\\nN4\\nA   34\\nN3\\nM  END\\n\",\"sdf\");\n\tviewer_15613990075763142.addModel(\"\\n     RDKit          3D\\n\\n 28 31  0  0  0  0  0  0  0  0999 V2000\\n   11.0016   -3.5870   28.9960 C   0  0  0  0  0  0  0  0  0  0  0  0\\n   10.3031   -4.7330   29.6694 C   0  0  0  0  0  0  0  0  0  0  0  0\\n    9.5396   -4.3633   30.8250 C   0  0  0  0  0  0  0  0  0  0  0  0\\n    8.8602   -5.2913   31.5850 C   0  0  0  0  0  0  0  0  0  0  0  0\\n    8.1754   -4.8579   32.7813 N   0  0  0  0  0  0  0  0  0  0  0  0\\n    8.8855   -6.6205   31.1381 C   0  0  0  0  0  0  0  0  0  0  0  0\\n    8.1393   -7.6075   31.8280 C   0  0  0  0  0  0  0  0  0  0  0  0\\n    8.1651   -8.9297   31.4006 C   0  0  0  0  0  0  0  0  0  0  0  0\\n    8.9171   -9.2929   30.2888 C   0  0  0  0  0  0  0  0  0  0  0  0\\n    9.6517   -8.3399   29.5798 C   0  0  0  0  0  0  0  0  0  0  0  0\\n    9.6721   -6.9884   29.9510 C   0  0  0  0  0  0  0  0  0  0  0  0\\n   10.4362   -6.0643   29.1964 N   0  0  0  0  0  0  0  0  0  0  0  0\\n   11.6531   -6.4928   28.1870 C   0  0  0  0  0  0  0  0  0  0  0  0\\n   11.8518   -7.2117   26.5399 C   0  0  0  0  0  0  0  0  0  0  0  0\\n   13.3434   -7.7024   25.2258 C   0  0  0  0  0  0  0  0  0  0  0  0\\n   15.0865   -8.6225   24.0002 C   0  0  0  0  0  0  0  0  0  0  0  0\\n   16.5173   -9.2920   22.7901 N   0  0  0  0  0  0  0  0  0  0  0  0\\n   16.6780   -9.9811   21.4160 C   0  0  0  0  0  0  0  0  0  0  0  0\\n   15.5600  -10.3944   20.4887 C   0  0  0  0  0  0  0  0  0  0  0  0\\n   17.9172  -10.4390   20.6696 C   0  0  0  0  0  0  0  0  0  0  0  0\\n   19.1896  -10.3177   21.1428 C   0  0  0  0  0  0  0  0  0  0  0  0\\n   20.3677  -10.7775   20.4066 N   0  0  0  0  0  0  0  0  0  0  0  0\\n   19.2241   -9.7161   22.3904 C   0  0  0  0  0  0  0  0  0  0  0  0\\n   20.5208   -9.5567   22.9404 C   0  0  0  0  0  0  0  0  0  0  0  0\\n   20.6852   -8.9562   24.1698 C   0  0  0  0  0  0  0  0  0  0  0  0\\n   19.5827   -8.5163   24.8728 C   0  0  0  0  0  0  0  0  0  0  0  0\\n   18.2837   -8.6618   24.3765 C   0  0  0  0  0  0  0  0  0  0  0  0\\n   17.9636   -9.2358   23.1460 C   0  0  0  0  0  0  0  0  0  0  0  0\\n  1  2  1  0\\n  2  3  2  0\\n  3  4  1  0\\n  4  5  1  0\\n  4  6  2  0\\n  6  7  1  0\\n  7  8  2  0\\n  8  9  1  0\\n  9 10  2  0\\n 10 11  1  0\\n 11 12  2  0\\n 12 13  1  0\\n 13 14  1  0\\n 14 15  1  0\\n 15 16  1  0\\n 16 17  1  0\\n 17 18  2  0\\n 18 19  1  0\\n 18 20  1  0\\n 20 21  2  0\\n 21 22  1  0\\n 21 23  1  0\\n 23 24  2  0\\n 24 25  1  0\\n 25 26  2  0\\n 26 27  1  0\\n 27 28  2  0\\n 12  2  1  0\\n 28 17  1  0\\n 11  6  1  0\\n 28 23  1  0\\nM  CHG  2  12   1  17   1\\nM  END\\n\",\"sdf\");\n\tviewer_15613990075763142.setStyle({\"stick\": {}});\n\tviewer_15613990075763142.setBackgroundColor(\"0xeeeeee\");\n\tviewer_15613990075763142.zoomTo();\nviewer_15613990075763142.render();\n});\n</script>",
      "text/html": [
       "<div id=\"3dmolviewer_15613990075763142\"  style=\"position: relative; width: 400px; height: 300px\">\n",
       "        <p id=\"3dmolwarning_15613990075763142\" style=\"background-color:#ffcccc;color:black\">You appear to be running in JupyterLab (or JavaScript failed to load for some other reason).  You need to install the 3dmol extension: <br>\n",
       "        <tt>jupyter labextension install jupyterlab_3dmol</tt></p>\n",
       "        </div>\n",
       "<script>\n",
       "\n",
       "var loadScriptAsync = function(uri){\n",
       "  return new Promise((resolve, reject) => {\n",
       "    var tag = document.createElement('script');\n",
       "    tag.src = uri;\n",
       "    tag.async = true;\n",
       "    tag.onload = () => {\n",
       "      resolve();\n",
       "    };\n",
       "  var firstScriptTag = document.getElementsByTagName('script')[0];\n",
       "  firstScriptTag.parentNode.insertBefore(tag, firstScriptTag);\n",
       "});\n",
       "};\n",
       "\n",
       "if(typeof $3Dmolpromise === 'undefined') {\n",
       "$3Dmolpromise = null;\n",
       "  $3Dmolpromise = loadScriptAsync('https://3dmol.csb.pitt.edu/build/3Dmol.js');\n",
       "}\n",
       "\n",
       "var viewer_15613990075763142 = null;\n",
       "var warn = document.getElementById(\"3dmolwarning_15613990075763142\");\n",
       "if(warn) {\n",
       "    warn.parentNode.removeChild(warn);\n",
       "}\n",
       "$3Dmolpromise.then(function() {\n",
       "viewer_15613990075763142 = $3Dmol.createViewer($(\"#3dmolviewer_15613990075763142\"),{backgroundColor:\"white\"});\n",
       "\tviewer_15613990075763142.removeAllModels();\n",
       "\tviewer_15613990075763142.addModel(\"3ARP_DEQ_A_606\\n     RDKit          3D\\n\\n 34 37  0  0  0  0  0  0  0  0999 V2000\\n    9.0850   -8.0530   30.0430 C   0  0  0  0  0  0  0  0  0  0  0  0\\n    8.4490   -9.0840   30.6940 C   0  0  0  0  0  0  0  0  0  0  0  0\\n    7.7220   -8.7950   31.8640 C   0  0  0  0  0  0  0  0  0  0  0  0\\n    7.6750   -7.4440   32.4090 C   0  0  0  0  0  0  0  0  0  0  0  0\\n    9.0630   -6.7670   30.5360 C   0  0  0  0  0  0  0  0  0  0  0  0\\n    8.4020   -6.4350   31.7420 C   0  0  0  0  0  0  0  0  0  0  0  0\\n    8.3690   -5.1060   32.1870 C   0  0  0  0  0  0  0  0  0  0  0  0\\n    9.0400   -4.1070   31.5050 C   0  0  0  0  0  0  0  0  0  0  0  0\\n    9.7420   -4.4320   30.3440 C   0  0  0  0  0  0  0  0  0  0  0  0\\n    9.7700   -5.7550   29.8520 N   0  0  0  0  0  0  0  0  0  0  0  0\\n   20.2190  -10.0840   21.7800 C   0  0  0  0  0  0  0  0  0  0  0  0\\n   18.9390   -9.6710   22.2570 C   0  0  0  0  0  0  0  0  0  0  0  0\\n   17.7780   -9.9610   21.5400 N   0  0  0  0  0  0  0  0  0  0  0  0\\n   17.8440  -10.5580   20.2500 C   0  0  0  0  0  0  0  0  0  0  0  0\\n   19.1010  -10.9110   19.8030 C   0  0  0  0  0  0  0  0  0  0  0  0\\n   20.2700  -10.6490   20.5210 C   0  0  0  0  0  0  0  0  0  0  0  0\\n   21.3490   -9.8090   22.4880 C   0  0  0  0  0  0  0  0  0  0  0  0\\n   21.2610   -9.1750   23.7020 C   0  0  0  0  0  0  0  0  0  0  0  0\\n   20.0370   -8.7800   24.1710 C   0  0  0  0  0  0  0  0  0  0  0  0\\n   18.8710   -9.0140   23.5180 C   0  0  0  0  0  0  0  0  0  0  0  0\\n   16.3950   -9.6810   21.9960 C   0  0  0  0  0  0  0  0  0  0  0  0\\n   15.9590   -8.2140   21.8590 C   0  0  0  0  0  0  0  0  0  0  0  0\\n   15.1700   -7.9340   23.1560 C   0  0  0  0  0  0  0  0  0  0  0  0\\n   13.8110   -8.5140   22.9920 C   0  0  0  0  0  0  0  0  0  0  0  0\\n   12.9850   -8.0970   24.2650 C   0  0  0  0  0  0  0  0  0  0  0  0\\n   11.8670   -7.0420   23.8940 C   0  0  0  0  0  0  0  0  0  0  0  0\\n   10.7280   -6.8330   24.9630 C   0  0  0  0  0  0  0  0  0  0  0  0\\n   11.2760   -6.7360   26.4720 C   0  0  0  0  0  0  0  0  0  0  0  0\\n   10.0350   -6.4500   27.4320 C   0  0  0  0  0  0  0  0  0  0  0  0\\n   10.6970   -6.0380   28.6690 C   0  0  0  0  0  0  0  0  0  0  0  0\\n   10.4820   -3.3100   29.5890 C   0  0  0  0  0  0  0  0  0  0  0  0\\n   16.5700  -10.9650   19.4130 C   0  0  0  0  0  0  0  0  0  0  0  0\\n    7.6460   -4.7930   33.3160 N   0  0  0  0  0  0  0  0  0  0  0  0\\n   21.3930  -11.0450   19.9050 N   0  0  0  0  0  0  0  0  0  0  0  0\\n  1  2  2  0\\n  1  5  1  0\\n  2  3  1  0\\n  3  4  2  0\\n  4  6  1  0\\n  5  6  2  0\\n  5 10  1  0\\n  6  7  1  0\\n  7  8  2  0\\n  7 33  1  0\\n  8  9  1  0\\n  9 10  2  0\\n  9 31  1  0\\n 10 30  1  0\\n 11 12  2  0\\n 11 16  1  0\\n 11 17  1  0\\n 12 13  1  0\\n 12 20  1  0\\n 13 14  2  0\\n 13 21  1  0\\n 14 15  1  0\\n 14 32  1  0\\n 15 16  2  0\\n 16 34  1  0\\n 17 18  2  0\\n 18 19  1  0\\n 19 20  2  0\\n 21 22  1  0\\n 22 23  1  0\\n 23 24  1  0\\n 24 25  1  0\\n 25 26  1  0\\n 26 27  1  0\\n 27 28  1  0\\n 28 29  1  0\\n 29 30  1  0\\nM  CHG  2  10   1  13   1\\nA    1\\nC1\\nA    2\\nC2\\nA    3\\nC3\\nA    4\\nC4\\nA    5\\nC5\\nA    6\\nC6\\nA    7\\nC7\\nA    8\\nC8\\nA    9\\nC9\\nA   10\\nN1\\nA   11\\nC10\\nA   12\\nC11\\nA   13\\nN2\\nA   14\\nC12\\nA   15\\nC13\\nA   16\\nC14\\nA   17\\nC15\\nA   18\\nC16\\nA   19\\nC17\\nA   20\\nC18\\nA   21\\nC19\\nA   22\\nC20\\nA   23\\nC21\\nA   24\\nC22\\nA   25\\nC23\\nA   26\\nC24\\nA   27\\nC25\\nA   28\\nC26\\nA   29\\nC27\\nA   30\\nC28\\nA   31\\nC30\\nA   32\\nC29\\nA   33\\nN4\\nA   34\\nN3\\nM  END\\n\",\"sdf\");\n",
       "\tviewer_15613990075763142.addModel(\"\\n     RDKit          3D\\n\\n 28 31  0  0  0  0  0  0  0  0999 V2000\\n   11.0016   -3.5870   28.9960 C   0  0  0  0  0  0  0  0  0  0  0  0\\n   10.3031   -4.7330   29.6694 C   0  0  0  0  0  0  0  0  0  0  0  0\\n    9.5396   -4.3633   30.8250 C   0  0  0  0  0  0  0  0  0  0  0  0\\n    8.8602   -5.2913   31.5850 C   0  0  0  0  0  0  0  0  0  0  0  0\\n    8.1754   -4.8579   32.7813 N   0  0  0  0  0  0  0  0  0  0  0  0\\n    8.8855   -6.6205   31.1381 C   0  0  0  0  0  0  0  0  0  0  0  0\\n    8.1393   -7.6075   31.8280 C   0  0  0  0  0  0  0  0  0  0  0  0\\n    8.1651   -8.9297   31.4006 C   0  0  0  0  0  0  0  0  0  0  0  0\\n    8.9171   -9.2929   30.2888 C   0  0  0  0  0  0  0  0  0  0  0  0\\n    9.6517   -8.3399   29.5798 C   0  0  0  0  0  0  0  0  0  0  0  0\\n    9.6721   -6.9884   29.9510 C   0  0  0  0  0  0  0  0  0  0  0  0\\n   10.4362   -6.0643   29.1964 N   0  0  0  0  0  0  0  0  0  0  0  0\\n   11.6531   -6.4928   28.1870 C   0  0  0  0  0  0  0  0  0  0  0  0\\n   11.8518   -7.2117   26.5399 C   0  0  0  0  0  0  0  0  0  0  0  0\\n   13.3434   -7.7024   25.2258 C   0  0  0  0  0  0  0  0  0  0  0  0\\n   15.0865   -8.6225   24.0002 C   0  0  0  0  0  0  0  0  0  0  0  0\\n   16.5173   -9.2920   22.7901 N   0  0  0  0  0  0  0  0  0  0  0  0\\n   16.6780   -9.9811   21.4160 C   0  0  0  0  0  0  0  0  0  0  0  0\\n   15.5600  -10.3944   20.4887 C   0  0  0  0  0  0  0  0  0  0  0  0\\n   17.9172  -10.4390   20.6696 C   0  0  0  0  0  0  0  0  0  0  0  0\\n   19.1896  -10.3177   21.1428 C   0  0  0  0  0  0  0  0  0  0  0  0\\n   20.3677  -10.7775   20.4066 N   0  0  0  0  0  0  0  0  0  0  0  0\\n   19.2241   -9.7161   22.3904 C   0  0  0  0  0  0  0  0  0  0  0  0\\n   20.5208   -9.5567   22.9404 C   0  0  0  0  0  0  0  0  0  0  0  0\\n   20.6852   -8.9562   24.1698 C   0  0  0  0  0  0  0  0  0  0  0  0\\n   19.5827   -8.5163   24.8728 C   0  0  0  0  0  0  0  0  0  0  0  0\\n   18.2837   -8.6618   24.3765 C   0  0  0  0  0  0  0  0  0  0  0  0\\n   17.9636   -9.2358   23.1460 C   0  0  0  0  0  0  0  0  0  0  0  0\\n  1  2  1  0\\n  2  3  2  0\\n  3  4  1  0\\n  4  5  1  0\\n  4  6  2  0\\n  6  7  1  0\\n  7  8  2  0\\n  8  9  1  0\\n  9 10  2  0\\n 10 11  1  0\\n 11 12  2  0\\n 12 13  1  0\\n 13 14  1  0\\n 14 15  1  0\\n 15 16  1  0\\n 16 17  1  0\\n 17 18  2  0\\n 18 19  1  0\\n 18 20  1  0\\n 20 21  2  0\\n 21 22  1  0\\n 21 23  1  0\\n 23 24  2  0\\n 24 25  1  0\\n 25 26  2  0\\n 26 27  1  0\\n 27 28  2  0\\n 12  2  1  0\\n 28 17  1  0\\n 11  6  1  0\\n 28 23  1  0\\nM  CHG  2  12   1  17   1\\nM  END\\n\",\"sdf\");\n",
       "\tviewer_15613990075763142.setStyle({\"stick\": {}});\n",
       "\tviewer_15613990075763142.setBackgroundColor(\"0xeeeeee\");\n",
       "\tviewer_15613990075763142.zoomTo();\n",
       "viewer_15613990075763142.render();\n",
       "});\n",
       "</script>"
      ]
     },
     "metadata": {},
     "output_type": "display_data"
    }
   ],
   "source": [
    "print(\"RMS frags: %.3f, Energy: %s\" % (AllChem.AlignMol(frags_3d, best_constrained_flex), best_constrained_flex.GetProp(\"Energy\")))\n",
    "drawit((deq_3ARP, best_constrained_flex))"
   ]
  },
  {
   "cell_type": "markdown",
   "metadata": {},
   "source": [
    "The conformers are much more similar (I'd argue TOO similar), but clearly have unrealistic energies that could easily be filtered out, as is done in a normal conformer generation pipeline. \n",
    "\n",
    "Unfortunately, this does introduce an additional hyperparameter `tdist`, but this can be sensbily set (perhaps even dynamically) based on an comparison of the energies of conformers generated with `RoughConstrainedEmbed` and an unconstrained approach when the candidate molecule is identical to the molecule used to produce the fragmentation.\n",
    "\n",
    "In practice, this also requires doing a small run of unconstrained conformer generation (e.g. 1-10 conformers) in order to determine a sensible minimum energy with which to filter conformers. Given the need to generate far fewer conformers using this method, this need not add to the overall computational burden."
   ]
  }
 ],
 "metadata": {
  "kernelspec": {
   "display_name": "Python36 (rdkit)",
   "language": "python",
   "name": "my-rdkit-env"
  },
  "language_info": {
   "codemirror_mode": {
    "name": "ipython",
    "version": 3
   },
   "file_extension": ".py",
   "mimetype": "text/x-python",
   "name": "python",
   "nbconvert_exporter": "python",
   "pygments_lexer": "ipython3",
   "version": "3.6.7"
  }
 },
 "nbformat": 4,
 "nbformat_minor": 2
}
